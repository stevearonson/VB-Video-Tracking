{
  "nbformat": 4,
  "nbformat_minor": 0,
  "metadata": {
    "colab": {
      "name": "Player Tracking with Detectron2.ipynb",
      "provenance": [],
      "collapsed_sections": [],
      "include_colab_link": true
    },
    "kernelspec": {
      "name": "python3",
      "display_name": "Python 3"
    },
    "accelerator": "GPU"
  },
  "cells": [
    {
      "cell_type": "markdown",
      "metadata": {
        "id": "view-in-github",
        "colab_type": "text"
      },
      "source": [
        "<a href=\"https://colab.research.google.com/github/stevearonson/VB-Video-Tracking/blob/master/Player_Tracking_with_Detectron2.ipynb\" target=\"_parent\"><img src=\"https://colab.research.google.com/assets/colab-badge.svg\" alt=\"Open In Colab\"/></a>"
      ]
    },
    {
      "cell_type": "markdown",
      "metadata": {
        "id": "vM54r6jlKTII",
        "colab_type": "text"
      },
      "source": [
        "# Install detectron2"
      ]
    },
    {
      "cell_type": "code",
      "metadata": {
        "id": "9_FzH13EjseR",
        "colab_type": "code",
        "colab": {
          "base_uri": "https://localhost:8080/",
          "height": 230
        },
        "outputId": "73c7a764-028d-41c3-d27c-583a17d0be00"
      },
      "source": [
        "# install dependencies: (use cu101 because colab has CUDA 10.1)\n",
        "!pip install -U torch==1.5 torchvision==0.6 -f https://download.pytorch.org/whl/cu101/torch_stable.html \n",
        "!pip install pyyaml==5.1 pycocotools>=2.0.1\n",
        "import torch, torchvision\n",
        "print(torch.__version__, torch.cuda.is_available())\n",
        "!gcc --version\n",
        "# opencv is pre-installed on colab"
      ],
      "execution_count": 1,
      "outputs": [
        {
          "output_type": "stream",
          "text": [
            "Looking in links: https://download.pytorch.org/whl/cu101/torch_stable.html\n",
            "Requirement already up-to-date: torch==1.5 in /usr/local/lib/python3.6/dist-packages (1.5.0+cu101)\n",
            "Requirement already up-to-date: torchvision==0.6 in /usr/local/lib/python3.6/dist-packages (0.6.0+cu101)\n",
            "Requirement already satisfied, skipping upgrade: future in /usr/local/lib/python3.6/dist-packages (from torch==1.5) (0.16.0)\n",
            "Requirement already satisfied, skipping upgrade: numpy in /usr/local/lib/python3.6/dist-packages (from torch==1.5) (1.18.5)\n",
            "Requirement already satisfied, skipping upgrade: pillow>=4.1.1 in /usr/local/lib/python3.6/dist-packages (from torchvision==0.6) (7.0.0)\n",
            "1.5.0+cu101 True\n",
            "gcc (Ubuntu 7.5.0-3ubuntu1~18.04) 7.5.0\n",
            "Copyright (C) 2017 Free Software Foundation, Inc.\n",
            "This is free software; see the source for copying conditions.  There is NO\n",
            "warranty; not even for MERCHANTABILITY or FITNESS FOR A PARTICULAR PURPOSE.\n",
            "\n"
          ],
          "name": "stdout"
        }
      ]
    },
    {
      "cell_type": "code",
      "metadata": {
        "id": "b-i4hmGYk1dL",
        "colab_type": "code",
        "colab": {
          "base_uri": "https://localhost:8080/",
          "height": 837
        },
        "outputId": "eabaa5de-abc7-4f67-d8f8-2245f65fe219"
      },
      "source": [
        "# install detectron2:\n",
        "!pip install detectron2==0.1.3 -f https://dl.fbaipublicfiles.com/detectron2/wheels/cu101/torch1.5/index.html"
      ],
      "execution_count": 2,
      "outputs": [
        {
          "output_type": "stream",
          "text": [
            "Looking in links: https://dl.fbaipublicfiles.com/detectron2/wheels/cu101/torch1.5/index.html\n",
            "Requirement already satisfied: detectron2==0.1.3 in /usr/local/lib/python3.6/dist-packages (0.1.3+cu101)\n",
            "Requirement already satisfied: termcolor>=1.1 in /usr/local/lib/python3.6/dist-packages (from detectron2==0.1.3) (1.1.0)\n",
            "Requirement already satisfied: future in /usr/local/lib/python3.6/dist-packages (from detectron2==0.1.3) (0.16.0)\n",
            "Requirement already satisfied: tabulate in /usr/local/lib/python3.6/dist-packages (from detectron2==0.1.3) (0.8.7)\n",
            "Requirement already satisfied: fvcore>=0.1.1 in /usr/local/lib/python3.6/dist-packages (from detectron2==0.1.3) (0.1.1.post20200716)\n",
            "Requirement already satisfied: tensorboard in /usr/local/lib/python3.6/dist-packages (from detectron2==0.1.3) (2.2.2)\n",
            "Requirement already satisfied: Pillow in /usr/local/lib/python3.6/dist-packages (from detectron2==0.1.3) (7.0.0)\n",
            "Requirement already satisfied: tqdm>4.29.0 in /usr/local/lib/python3.6/dist-packages (from detectron2==0.1.3) (4.41.1)\n",
            "Requirement already satisfied: pydot in /usr/local/lib/python3.6/dist-packages (from detectron2==0.1.3) (1.3.0)\n",
            "Requirement already satisfied: matplotlib in /usr/local/lib/python3.6/dist-packages (from detectron2==0.1.3) (3.2.2)\n",
            "Requirement already satisfied: yacs>=0.1.6 in /usr/local/lib/python3.6/dist-packages (from detectron2==0.1.3) (0.1.7)\n",
            "Requirement already satisfied: cloudpickle in /usr/local/lib/python3.6/dist-packages (from detectron2==0.1.3) (1.3.0)\n",
            "Requirement already satisfied: mock in /usr/local/lib/python3.6/dist-packages (from detectron2==0.1.3) (4.0.2)\n",
            "Requirement already satisfied: numpy in /usr/local/lib/python3.6/dist-packages (from fvcore>=0.1.1->detectron2==0.1.3) (1.18.5)\n",
            "Requirement already satisfied: pyyaml>=5.1 in /usr/local/lib/python3.6/dist-packages (from fvcore>=0.1.1->detectron2==0.1.3) (5.1)\n",
            "Requirement already satisfied: portalocker in /usr/local/lib/python3.6/dist-packages (from fvcore>=0.1.1->detectron2==0.1.3) (1.7.1)\n",
            "Requirement already satisfied: six>=1.10.0 in /usr/local/lib/python3.6/dist-packages (from tensorboard->detectron2==0.1.3) (1.15.0)\n",
            "Requirement already satisfied: tensorboard-plugin-wit>=1.6.0 in /usr/local/lib/python3.6/dist-packages (from tensorboard->detectron2==0.1.3) (1.7.0)\n",
            "Requirement already satisfied: requests<3,>=2.21.0 in /usr/local/lib/python3.6/dist-packages (from tensorboard->detectron2==0.1.3) (2.23.0)\n",
            "Requirement already satisfied: markdown>=2.6.8 in /usr/local/lib/python3.6/dist-packages (from tensorboard->detectron2==0.1.3) (3.2.2)\n",
            "Requirement already satisfied: setuptools>=41.0.0 in /usr/local/lib/python3.6/dist-packages (from tensorboard->detectron2==0.1.3) (49.1.0)\n",
            "Requirement already satisfied: grpcio>=1.24.3 in /usr/local/lib/python3.6/dist-packages (from tensorboard->detectron2==0.1.3) (1.30.0)\n",
            "Requirement already satisfied: google-auth-oauthlib<0.5,>=0.4.1 in /usr/local/lib/python3.6/dist-packages (from tensorboard->detectron2==0.1.3) (0.4.1)\n",
            "Requirement already satisfied: absl-py>=0.4 in /usr/local/lib/python3.6/dist-packages (from tensorboard->detectron2==0.1.3) (0.9.0)\n",
            "Requirement already satisfied: werkzeug>=0.11.15 in /usr/local/lib/python3.6/dist-packages (from tensorboard->detectron2==0.1.3) (1.0.1)\n",
            "Requirement already satisfied: google-auth<2,>=1.6.3 in /usr/local/lib/python3.6/dist-packages (from tensorboard->detectron2==0.1.3) (1.17.2)\n",
            "Requirement already satisfied: wheel>=0.26; python_version >= \"3\" in /usr/local/lib/python3.6/dist-packages (from tensorboard->detectron2==0.1.3) (0.34.2)\n",
            "Requirement already satisfied: protobuf>=3.6.0 in /usr/local/lib/python3.6/dist-packages (from tensorboard->detectron2==0.1.3) (3.12.2)\n",
            "Requirement already satisfied: pyparsing>=2.1.4 in /usr/local/lib/python3.6/dist-packages (from pydot->detectron2==0.1.3) (2.4.7)\n",
            "Requirement already satisfied: kiwisolver>=1.0.1 in /usr/local/lib/python3.6/dist-packages (from matplotlib->detectron2==0.1.3) (1.2.0)\n",
            "Requirement already satisfied: cycler>=0.10 in /usr/local/lib/python3.6/dist-packages (from matplotlib->detectron2==0.1.3) (0.10.0)\n",
            "Requirement already satisfied: python-dateutil>=2.1 in /usr/local/lib/python3.6/dist-packages (from matplotlib->detectron2==0.1.3) (2.8.1)\n",
            "Requirement already satisfied: idna<3,>=2.5 in /usr/local/lib/python3.6/dist-packages (from requests<3,>=2.21.0->tensorboard->detectron2==0.1.3) (2.10)\n",
            "Requirement already satisfied: urllib3!=1.25.0,!=1.25.1,<1.26,>=1.21.1 in /usr/local/lib/python3.6/dist-packages (from requests<3,>=2.21.0->tensorboard->detectron2==0.1.3) (1.24.3)\n",
            "Requirement already satisfied: chardet<4,>=3.0.2 in /usr/local/lib/python3.6/dist-packages (from requests<3,>=2.21.0->tensorboard->detectron2==0.1.3) (3.0.4)\n",
            "Requirement already satisfied: certifi>=2017.4.17 in /usr/local/lib/python3.6/dist-packages (from requests<3,>=2.21.0->tensorboard->detectron2==0.1.3) (2020.6.20)\n",
            "Requirement already satisfied: importlib-metadata; python_version < \"3.8\" in /usr/local/lib/python3.6/dist-packages (from markdown>=2.6.8->tensorboard->detectron2==0.1.3) (1.7.0)\n",
            "Requirement already satisfied: requests-oauthlib>=0.7.0 in /usr/local/lib/python3.6/dist-packages (from google-auth-oauthlib<0.5,>=0.4.1->tensorboard->detectron2==0.1.3) (1.3.0)\n",
            "Requirement already satisfied: rsa<5,>=3.1.4; python_version >= \"3\" in /usr/local/lib/python3.6/dist-packages (from google-auth<2,>=1.6.3->tensorboard->detectron2==0.1.3) (4.6)\n",
            "Requirement already satisfied: pyasn1-modules>=0.2.1 in /usr/local/lib/python3.6/dist-packages (from google-auth<2,>=1.6.3->tensorboard->detectron2==0.1.3) (0.2.8)\n",
            "Requirement already satisfied: cachetools<5.0,>=2.0.0 in /usr/local/lib/python3.6/dist-packages (from google-auth<2,>=1.6.3->tensorboard->detectron2==0.1.3) (4.1.1)\n",
            "Requirement already satisfied: zipp>=0.5 in /usr/local/lib/python3.6/dist-packages (from importlib-metadata; python_version < \"3.8\"->markdown>=2.6.8->tensorboard->detectron2==0.1.3) (3.1.0)\n",
            "Requirement already satisfied: oauthlib>=3.0.0 in /usr/local/lib/python3.6/dist-packages (from requests-oauthlib>=0.7.0->google-auth-oauthlib<0.5,>=0.4.1->tensorboard->detectron2==0.1.3) (3.1.0)\n",
            "Requirement already satisfied: pyasn1>=0.1.3 in /usr/local/lib/python3.6/dist-packages (from rsa<5,>=3.1.4; python_version >= \"3\"->google-auth<2,>=1.6.3->tensorboard->detectron2==0.1.3) (0.4.8)\n"
          ],
          "name": "stdout"
        }
      ]
    },
    {
      "cell_type": "code",
      "metadata": {
        "id": "ZyAvNCJMmvFF",
        "colab_type": "code",
        "colab": {}
      },
      "source": [
        "# You may need to restart your runtime prior to this, to let your installation take effect\n",
        "# Some basic setup:\n",
        "# Setup detectron2 logger\n",
        "import detectron2\n",
        "from detectron2.utils.logger import setup_logger\n",
        "setup_logger()\n",
        "\n",
        "# import some common libraries\n",
        "import numpy as np\n",
        "import cv2\n",
        "import random\n",
        "from google.colab.patches import cv2_imshow\n",
        "from tqdm import tqdm \n",
        "import pandas as pd\n",
        "\n",
        "# import some common detectron2 utilities\n",
        "from detectron2 import model_zoo\n",
        "from detectron2.engine import DefaultPredictor\n",
        "from detectron2.config import get_cfg\n",
        "from detectron2.utils.video_visualizer import VideoVisualizer\n",
        "from detectron2.utils.visualizer import ColorMode, Visualizer\n",
        "from detectron2.data import MetadataCatalog"
      ],
      "execution_count": 3,
      "outputs": []
    },
    {
      "cell_type": "code",
      "metadata": {
        "id": "zb7ctMWFUcaH",
        "colab_type": "code",
        "colab": {
          "base_uri": "https://localhost:8080/",
          "height": 35
        },
        "outputId": "e2979e57-e5a3-4db8-ec1b-7ac8e03f543d"
      },
      "source": [
        "from google.colab import drive\n",
        "drive.mount('/gdrive')"
      ],
      "execution_count": 4,
      "outputs": [
        {
          "output_type": "stream",
          "text": [
            "Drive already mounted at /gdrive; to attempt to forcibly remount, call drive.mount(\"/gdrive\", force_remount=True).\n"
          ],
          "name": "stdout"
        }
      ]
    },
    {
      "cell_type": "code",
      "metadata": {
        "id": "D7HLmc8zUouB",
        "colab_type": "code",
        "colab": {
          "base_uri": "https://localhost:8080/",
          "height": 88
        },
        "outputId": "994aa26f-c539-431a-8649-c330b8b26f98"
      },
      "source": [
        "!ls /gdrive/'My Drive'/'VB/Video'"
      ],
      "execution_count": 5,
      "outputs": [
        {
          "output_type": "stream",
          "text": [
            " Cheshire_Halasz_Perin.pdf   court-diagram-vertical.jpg   panopt.mp4\n",
            " Cheshire_Halasz_Perin.zip   demo.avi\t\t\t  people.mp4\n",
            " ckpt.t7\t\t    'MBVF M7 S3.mp4'\t\t  tracker.mp4\n",
            " court-diagram.jpg\t     OpenCV.ipynb\t\t  video-clip.mp4\n"
          ],
          "name": "stdout"
        }
      ]
    },
    {
      "cell_type": "markdown",
      "metadata": {
        "id": "uM1thbN-ntjI",
        "colab_type": "text"
      },
      "source": [
        "Then, we create a detectron2 config and a detectron2 `DefaultPredictor` to run inference on this image."
      ]
    },
    {
      "cell_type": "code",
      "metadata": {
        "id": "HUjkwRsOn1O0",
        "colab_type": "code",
        "colab": {}
      },
      "source": [
        "cfg = get_cfg()\n",
        "# add project-specific config (e.g., TensorMask) here if you're not running a model in detectron2's core library\n",
        "cfg.merge_from_file(model_zoo.get_config_file(\"COCO-InstanceSegmentation/mask_rcnn_R_50_FPN_3x.yaml\"))\n",
        "cfg.MODEL.ROI_HEADS.SCORE_THRESH_TEST = 0.5  # set threshold for this model\n",
        "# Find a model from detectron2's model zoo. You can use the https://dl.fbaipublicfiles... url as well\n",
        "cfg.MODEL.WEIGHTS = model_zoo.get_checkpoint_url(\"COCO-InstanceSegmentation/mask_rcnn_R_50_FPN_3x.yaml\")\n",
        "predictor = DefaultPredictor(cfg)"
      ],
      "execution_count": 6,
      "outputs": []
    },
    {
      "cell_type": "markdown",
      "metadata": {
        "id": "DlF6leCxm_UW",
        "colab_type": "text"
      },
      "source": [
        "### drawPlayers\n",
        "Convert predictions into player positions\n",
        "Draws circles at players feet"
      ]
    },
    {
      "cell_type": "code",
      "metadata": {
        "id": "-EehCLX4Fg8V",
        "colab_type": "code",
        "colab": {}
      },
      "source": [
        "from shapely.geometry import Point, Polygon\n",
        "\n",
        "\n",
        "def drawPlayers(im, instances, frame_no):\n",
        "\n",
        "  font = cv2.FONT_HERSHEY_SIMPLEX\n",
        "  fontScale = 1\n",
        "  color = [255, 0, 0]   \n",
        "  thickness = 2\n",
        "  radius = 10\n",
        "\n",
        "  pred_boxes = instances.get('pred_boxes')\n",
        "  pred_classes = instances.get('pred_classes')\n",
        "  \n",
        "  positions = []\n",
        "  for ix, box in enumerate(pred_boxes):\n",
        "    \n",
        "    # Include only class Person\n",
        "    if pred_classes[ix] == 0:  \n",
        "\n",
        "      xcenter = int((box[0] + box[2]) / 2)\n",
        "      ylower = int(box[3])\n",
        "      player_pos = (xcenter, ylower)\n",
        "\n",
        "      \n",
        "      # Draw only players that are within the basketball court\n",
        "      if Point(player_pos).within(video_playing):\n",
        "        # cv2.circle(im, player_pos, radius, color, thickness)\n",
        "        #cv2.putText(im, str(ix), player_pos, font, fontScale, color, \n",
        "        #            thickness, cv2.LINE_AA)\n",
        "        positions.append({'Frame' : frame_no, 'ID' : ix, 'X': xcenter, 'Y' : ylower})\n",
        "\n",
        "  return positions\n",
        "  "
      ],
      "execution_count": 7,
      "outputs": []
    },
    {
      "cell_type": "code",
      "metadata": {
        "id": "XLr5E_hxPCj4",
        "colab_type": "code",
        "colab": {}
      },
      "source": [
        "def createMiniMap(court, positions, M):\n",
        "  court_diagram = court.copy()\n",
        "\n",
        "  # player marker parameters\n",
        "  radius = 10\n",
        "  color = [255, 0, 0]   \n",
        "  thickness = 2\n",
        "\n",
        "  # convert video positions to court diagram positions\n",
        "  df = pd.DataFrame(positions)\n",
        "  src_pts = np.array([df[['X', 'Y']].astype('float32').values])\n",
        "  # print(src_pts, src_pts.shape, src_pts.dtype)\n",
        "  dst_pts = cv2.perspectiveTransform(src_pts, M)\n",
        "  # print(dst_pts)\n",
        "\n",
        "  for pt in dst_pts.squeeze().astype('int'):\n",
        "    cv2.circle(court_diagram, tuple(pt), radius, color, thickness)\n",
        "\n",
        "  miniMap = cv2.resize(court_diagram, (250, 400), interpolation = cv2.INTER_AREA)\n",
        "\n",
        "  return miniMap\n"
      ],
      "execution_count": 8,
      "outputs": []
    },
    {
      "cell_type": "code",
      "metadata": {
        "id": "m7bFkBCxqb7p",
        "colab_type": "code",
        "colab": {
          "base_uri": "https://localhost:8080/",
          "height": 70
        },
        "outputId": "720c16ac-3671-4bb6-f712-111a2a06c01f"
      },
      "source": [
        "video_court = np.array([[[467, 249], [781, 242], [1274, 588], [630, 656], [3, 619]]])\n",
        "video_playing = Polygon(np.array([[426, 235], [824, 230], [1272, 512], [1253, 714], [9, 713], [15, 470]]))\n",
        "\n",
        "diagram_court = np.array([[[100, 100], [400, 100], [400, 700], [250, 700], [100, 700]]])\n",
        "\n",
        "M, status = cv2.findHomography(video_court, diagram_court)\n",
        "print(video_court.shape, diagram_court.shape, M)"
      ],
      "execution_count": 9,
      "outputs": [
        {
          "output_type": "stream",
          "text": [
            "(1, 5, 2) (1, 5, 2) [[-8.13760107e-01 -1.71624918e+00  7.27248394e+02]\n",
            " [-1.38555041e-01 -6.17360827e+00  1.52113806e+03]\n",
            " [-1.53537252e-04 -6.97341772e-03  1.00000000e+00]]\n"
          ],
          "name": "stdout"
        }
      ]
    },
    {
      "cell_type": "code",
      "metadata": {
        "id": "XfZB_p16hpvE",
        "colab_type": "code",
        "colab": {}
      },
      "source": [
        "# create a time log for rallys in video\n",
        "time_log = pd.DataFrame({'Rally': [1,2,3,4], \n",
        "                         'Start': pd.to_timedelta(['00:00:11', '00:00:33', '00:00:52','00:01:18']),\n",
        "                         'Length': pd.to_timedelta(['00:00:06', '00:00:08', '00:00:14','00:00:11'])\n",
        "                         })"
      ],
      "execution_count": 10,
      "outputs": []
    },
    {
      "cell_type": "code",
      "metadata": {
        "id": "iFtGtDRTXOnV",
        "colab_type": "code",
        "colab": {}
      },
      "source": [
        "v = VideoVisualizer(MetadataCatalog.get(cfg.DATASETS.TRAIN[0]), ColorMode.IMAGE)\n",
        "\n",
        "cap = cv2.VideoCapture('/gdrive/My Drive/VB/Video/MBVF M7 S3.mp4')\n",
        "width = int(cap.get(cv2.CAP_PROP_FRAME_WIDTH))\n",
        "height = int(cap.get(cv2.CAP_PROP_FRAME_HEIGHT))\n",
        "frames_per_second = cap.get(cv2.CAP_PROP_FPS)\n",
        "num_frames = int(cap.get(cv2.CAP_PROP_FRAME_COUNT))\n",
        "\n",
        "court_diagram = cv2.imread('/gdrive/My Drive/VB/Video/court-diagram-vertical.jpg')\n",
        "\n",
        "fourcc = cv2.VideoWriter_fourcc('M', 'P', '4', 'V')\n",
        "videoOut = cv2.VideoWriter('/gdrive/My Drive/VB/Video/people.mp4', fourcc,\n",
        "                           frames_per_second, (width, height))\n",
        "\n",
        "video_time = 0\n",
        "all_pos = []\n",
        "\n",
        "for _,rally in time_log.iterrows():\n",
        "    # skip to beginning of rally\n",
        "    skip_frames = int((rally['Start'].seconds - video_time) * frames_per_second)\n",
        "    for ix in range(skip_frames):\n",
        "        ret, frame = cap.read()\n",
        "        videoOut.write(frame)\n",
        "    video_time = rally['Start'].seconds\n",
        "\n",
        "    rally_frames = int(rally['Length'].seconds * frames_per_second)\n",
        "    for ix in tqdm(range(rally_frames)):\n",
        "        ret, frame = cap.read()\n",
        "        outputs = predictor(frame)\n",
        "\n",
        "        # add the court outline\n",
        "        frame_poly = cv2.polylines(frame, [video_court], isClosed=True, color=[255,0,0], thickness=2)\n",
        "\n",
        "        visualization = v.draw_instance_predictions(frame_poly, outputs[\"instances\"].to(\"cpu\"))\n",
        "        # visualization = cv2.cvtColor(visualization.get_image(), cv2.COLOR_RGB2BGR)\n",
        "\n",
        "        # add player locations\n",
        "        player_pos = drawPlayers(frame_poly, outputs['instances'], ix)\n",
        "        all_pos.extend(player_pos)\n",
        "\n",
        "        # create mini map with player positions\n",
        "        miniMap = createMiniMap(court_diagram, player_pos, M)\n",
        "        (w,h,c) = miniMap.shape\n",
        "\n",
        "        #insert mini map into frame\n",
        "        frame_poly[0:w, 0:h, :] = miniMap\n",
        "\n",
        "        videoOut.write(frame_poly)\n",
        "\n",
        "    video_time += rally['Length'].seconds\n",
        "\n",
        "    # visualization = v.draw_instance_predictions(frame_poly, outputs[\"instances\"].to(\"cpu\"))\n",
        "    # visualization = cv2.cvtColor(visualization.get_image(), cv2.COLOR_RGB2BGR)\n",
        "    # videoOut.write(visualization)\n",
        "\n",
        "videoOut.release()\n",
        "cap.release()\n",
        "\n",
        "print(all_pos)"
      ],
      "execution_count": null,
      "outputs": []
    },
    {
      "cell_type": "code",
      "metadata": {
        "id": "iDflj3mbxj6e",
        "colab_type": "code",
        "colab": {
          "base_uri": "https://localhost:8080/",
          "height": 34
        },
        "outputId": "8324ec69-90b0-4c77-fe17-2d2f76de75c6"
      },
      "source": [
        "rally['Length'].seconds"
      ],
      "execution_count": null,
      "outputs": [
        {
          "output_type": "execute_result",
          "data": {
            "text/plain": [
              "11"
            ]
          },
          "metadata": {
            "tags": []
          },
          "execution_count": 27
        }
      ]
    },
    {
      "cell_type": "code",
      "metadata": {
        "id": "Be03-LdjrLYa",
        "colab_type": "code",
        "colab": {
          "base_uri": "https://localhost:8080/",
          "height": 296
        },
        "outputId": "2e271c5d-4ccc-40f7-9761-a297c1911568"
      },
      "source": [
        "df = pd.DataFrame(all_pos)\n",
        "df[df['ID'] == 0].plot('X','Y',kind='scatter')"
      ],
      "execution_count": null,
      "outputs": [
        {
          "output_type": "execute_result",
          "data": {
            "text/plain": [
              "<matplotlib.axes._subplots.AxesSubplot at 0x7f99b139ab00>"
            ]
          },
          "metadata": {
            "tags": []
          },
          "execution_count": 23
        },
        {
          "output_type": "display_data",
          "data": {
            "image/png": "[encoded data removed]",
            "text/plain": [
              "<Figure size 432x288 with 1 Axes>"
            ]
          },
          "metadata": {
            "tags": [],
            "needs_background": "light"
          }
        }
      ]
    },
    {
      "cell_type": "code",
      "metadata": {
        "id": "jBYZ1zY7u57T",
        "colab_type": "code",
        "colab": {}
      },
      "source": [
        "src_pts = np.array([df[['X', 'Y']].astype('float32').values])\n",
        "dst_pts = cv2.perspectiveTransform(src_pts, M).squeeze()"
      ],
      "execution_count": null,
      "outputs": []
    },
    {
      "cell_type": "code",
      "metadata": {
        "id": "Je2IgxOcQ7lA",
        "colab_type": "code",
        "colab": {}
      },
      "source": [
        "df[['TX', 'TY']] = pd.DataFrame(dst_pts, columns=['TX', 'TY'])"
      ],
      "execution_count": null,
      "outputs": []
    },
    {
      "cell_type": "code",
      "metadata": {
        "id": "MolKMHZcTBQ3",
        "colab_type": "code",
        "colab": {
          "base_uri": "https://localhost:8080/",
          "height": 238
        },
        "outputId": "e4de22ab-383f-4aa8-8cac-e5d00107081a"
      },
      "source": [
        "df.info()"
      ],
      "execution_count": null,
      "outputs": [
        {
          "output_type": "stream",
          "text": [
            "<class 'pandas.core.frame.DataFrame'>\n",
            "RangeIndex: 1610 entries, 0 to 1609\n",
            "Data columns (total 6 columns):\n",
            " #   Column  Non-Null Count  Dtype  \n",
            "---  ------  --------------  -----  \n",
            " 0   Frame   1610 non-null   int64  \n",
            " 1   ID      1610 non-null   int64  \n",
            " 2   X       1610 non-null   int64  \n",
            " 3   Y       1610 non-null   int64  \n",
            " 4   TX      1610 non-null   float32\n",
            " 5   TY      1610 non-null   float32\n",
            "dtypes: float32(2), int64(4)\n",
            "memory usage: 63.0 KB\n"
          ],
          "name": "stdout"
        }
      ]
    },
    {
      "cell_type": "code",
      "metadata": {
        "id": "MHpdUgNPOFJp",
        "colab_type": "code",
        "colab": {
          "base_uri": "https://localhost:8080/",
          "height": 626
        },
        "outputId": "24c3198a-0066-4baa-b263-280571efd0a1"
      },
      "source": [
        "import matplotlib.pyplot as plt\n",
        "\n",
        "court_diagram = cv2.imread('/gdrive/My Drive/VB/Video/court-diagram-vertical.jpg')\n",
        "\n",
        "def annotate_df(row):  \n",
        "  ax.text(row['TX'], row['TY'], row['ID'].astype('int'))\n",
        "\n",
        "ax = df[df['ID'].isin([0,1])].plot(x='TX', y='TY', kind='scatter', s=0.5, figsize=(16,10))\n",
        "_ = df[df['ID'].isin([0,1])].apply(annotate_df, axis=1)\n",
        "plt.imshow(court_diagram)"
      ],
      "execution_count": null,
      "outputs": [
        {
          "output_type": "execute_result",
          "data": {
            "text/plain": [
              "<matplotlib.image.AxesImage at 0x7f14edeecb00>"
            ]
          },
          "metadata": {
            "tags": []
          },
          "execution_count": 37
        },
        {
          "output_type": "display_data",
          "data": {
            "image/png": "[encoded data removed]",
            "text/plain": [
              "<Figure size 1152x720 with 1 Axes>"
            ]
          },
          "metadata": {
            "tags": [],
            "needs_background": "light"
          }
        }
      ]
    },
    {
      "cell_type": "code",
      "metadata": {
        "id": "Oxfmf0Gcp4T2",
        "colab_type": "code",
        "colab": {
          "base_uri": "https://localhost:8080/",
          "height": 1000
        },
        "outputId": "42a6f73b-2a59-431f-85c3-dc1208ad616c"
      },
      "source": [
        "outputs['instances']"
      ],
      "execution_count": null,
      "outputs": [
        {
          "output_type": "execute_result",
          "data": {
            "text/plain": [
              "Instances(num_instances=27, image_height=720, image_width=1280, fields=[pred_boxes: Boxes(tensor([[7.8184e+02, 2.5586e+02, 8.4883e+02, 4.2799e+02],\n",
              "        [6.4005e+02, 2.4984e+02, 6.9651e+02, 3.8234e+02],\n",
              "        [5.6266e+02, 2.1371e+02, 6.2189e+02, 3.6343e+02],\n",
              "        [5.2819e+02, 1.9973e+02, 5.5752e+02, 2.8179e+02],\n",
              "        [1.1881e+03, 3.3310e+02, 1.2784e+03, 4.2718e+02],\n",
              "        [7.7022e+02, 2.3636e+02, 8.2021e+02, 3.5670e+02],\n",
              "        [1.1338e+03, 2.9286e+02, 1.2306e+03, 3.9108e+02],\n",
              "        [7.0849e+02, 2.2107e+02, 7.3770e+02, 3.3216e+02],\n",
              "        [1.0104e+03, 2.1551e+02, 1.0403e+03, 3.2154e+02],\n",
              "        [1.1221e-01, 3.3781e+02, 6.0422e+01, 4.5910e+02],\n",
              "        [4.7108e+01, 2.5764e+02, 8.8852e+01, 3.4025e+02],\n",
              "        [1.0592e+03, 2.5751e+02, 1.1170e+03, 3.6032e+02],\n",
              "        [2.6886e+02, 1.5441e+02, 3.0542e+02, 2.6196e+02],\n",
              "        [4.6627e+02, 1.9803e+02, 4.8447e+02, 2.3642e+02],\n",
              "        [1.1748e+02, 2.9858e+02, 1.7279e+02, 3.8695e+02],\n",
              "        [9.7366e+02, 2.0515e+02, 1.0072e+03, 2.5199e+02],\n",
              "        [1.6552e+02, 2.2014e+02, 2.0771e+02, 3.2298e+02],\n",
              "        [6.2602e+02, 2.0636e+02, 6.5095e+02, 3.0436e+02],\n",
              "        [2.2294e+02, 2.2705e+02, 2.4520e+02, 3.0589e+02],\n",
              "        [1.1370e+03, 3.7944e+02, 1.1940e+03, 4.0335e+02],\n",
              "        [1.1009e+03, 2.7796e+02, 1.1576e+03, 3.6964e+02],\n",
              "        [1.1469e+02, 2.4673e+02, 1.4763e+02, 3.0899e+02],\n",
              "        [3.8299e+02, 2.0368e+02, 4.0947e+02, 2.4495e+02],\n",
              "        [4.9763e+02, 1.9542e+02, 5.1721e+02, 2.3634e+02],\n",
              "        [7.9051e+02, 2.0666e+02, 8.1512e+02, 2.3869e+02],\n",
              "        [1.2093e+03, 4.1448e+02, 1.2792e+03, 4.5135e+02],\n",
              "        [3.0077e+02, 1.6689e+02, 3.2819e+02, 1.9676e+02]], device='cuda:0')), scores: tensor([0.9813, 0.9784, 0.9734, 0.9703, 0.9702, 0.9601, 0.9598, 0.9337, 0.8373,\n",
              "        0.8290, 0.8007, 0.7636, 0.7555, 0.7514, 0.7461, 0.7301, 0.7065, 0.6714,\n",
              "        0.6420, 0.6397, 0.6182, 0.6172, 0.6133, 0.5734, 0.5403, 0.5141, 0.5075],\n",
              "       device='cuda:0'), pred_classes: tensor([ 0,  0,  0,  0,  0,  0,  0,  0,  0,  0,  0,  0,  0,  0,  0,  0,  0,  0,\n",
              "         0, 36,  0,  0,  0,  0,  0, 36,  0], device='cuda:0'), pred_masks: tensor([[[False, False, False,  ..., False, False, False],\n",
              "         [False, False, False,  ..., False, False, False],\n",
              "         [False, False, False,  ..., False, False, False],\n",
              "         ...,\n",
              "         [False, False, False,  ..., False, False, False],\n",
              "         [False, False, False,  ..., False, False, False],\n",
              "         [False, False, False,  ..., False, False, False]],\n",
              "\n",
              "        [[False, False, False,  ..., False, False, False],\n",
              "         [False, False, False,  ..., False, False, False],\n",
              "         [False, False, False,  ..., False, False, False],\n",
              "         ...,\n",
              "         [False, False, False,  ..., False, False, False],\n",
              "         [False, False, False,  ..., False, False, False],\n",
              "         [False, False, False,  ..., False, False, False]],\n",
              "\n",
              "        [[False, False, False,  ..., False, False, False],\n",
              "         [False, False, False,  ..., False, False, False],\n",
              "         [False, False, False,  ..., False, False, False],\n",
              "         ...,\n",
              "         [False, False, False,  ..., False, False, False],\n",
              "         [False, False, False,  ..., False, False, False],\n",
              "         [False, False, False,  ..., False, False, False]],\n",
              "\n",
              "        ...,\n",
              "\n",
              "        [[False, False, False,  ..., False, False, False],\n",
              "         [False, False, False,  ..., False, False, False],\n",
              "         [False, False, False,  ..., False, False, False],\n",
              "         ...,\n",
              "         [False, False, False,  ..., False, False, False],\n",
              "         [False, False, False,  ..., False, False, False],\n",
              "         [False, False, False,  ..., False, False, False]],\n",
              "\n",
              "        [[False, False, False,  ..., False, False, False],\n",
              "         [False, False, False,  ..., False, False, False],\n",
              "         [False, False, False,  ..., False, False, False],\n",
              "         ...,\n",
              "         [False, False, False,  ..., False, False, False],\n",
              "         [False, False, False,  ..., False, False, False],\n",
              "         [False, False, False,  ..., False, False, False]],\n",
              "\n",
              "        [[False, False, False,  ..., False, False, False],\n",
              "         [False, False, False,  ..., False, False, False],\n",
              "         [False, False, False,  ..., False, False, False],\n",
              "         ...,\n",
              "         [False, False, False,  ..., False, False, False],\n",
              "         [False, False, False,  ..., False, False, False],\n",
              "         [False, False, False,  ..., False, False, False]]], device='cuda:0')])"
            ]
          },
          "metadata": {
            "tags": []
          },
          "execution_count": 70
        }
      ]
    },
    {
      "cell_type": "markdown",
      "metadata": {
        "id": "x9kJukZlVlJT",
        "colab_type": "text"
      },
      "source": [
        "Court Identification"
      ]
    },
    {
      "cell_type": "code",
      "metadata": {
        "id": "CJM3MCW2e-LH",
        "colab_type": "code",
        "colab": {
          "base_uri": "https://localhost:8080/",
          "height": 153
        },
        "outputId": "306a6c5d-d09c-49f6-ab33-f2b7a4c1f85a"
      },
      "source": [
        "!apt install ffmpeg"
      ],
      "execution_count": null,
      "outputs": [
        {
          "output_type": "stream",
          "text": [
            "Reading package lists... Done\n",
            "Building dependency tree       \n",
            "Reading state information... Done\n",
            "ffmpeg is already the newest version (7:3.4.6-0ubuntu0.18.04.1).\n",
            "The following package was automatically installed and is no longer required:\n",
            "  libnvidia-common-440\n",
            "Use 'apt autoremove' to remove it.\n",
            "0 upgraded, 0 newly installed, 0 to remove and 33 not upgraded.\n"
          ],
          "name": "stdout"
        }
      ]
    },
    {
      "cell_type": "code",
      "metadata": {
        "id": "xVE2uoipVpfk",
        "colab_type": "code",
        "colab": {
          "base_uri": "https://localhost:8080/",
          "height": 887
        },
        "outputId": "278ccce5-1199-4d34-e1b0-79c8d9b8302a"
      },
      "source": [
        "!ffmpeg -i \"/gdrive/My Drive/VB/Video/MBVF M7 S3.mp4\" -t 00:00:06 -c:v copy video-clip.mp4"
      ],
      "execution_count": null,
      "outputs": [
        {
          "output_type": "stream",
          "text": [
            "ffmpeg version 3.4.6-0ubuntu0.18.04.1 Copyright (c) 2000-2019 the FFmpeg developers\n",
            "  built with gcc 7 (Ubuntu 7.3.0-16ubuntu3)\n",
            "  configuration: --prefix=/usr --extra-version=0ubuntu0.18.04.1 --toolchain=hardened --libdir=/usr/lib/x86_64-linux-gnu --incdir=/usr/include/x86_64-linux-gnu --enable-gpl --disable-stripping --enable-avresample --enable-avisynth --enable-gnutls --enable-ladspa --enable-libass --enable-libbluray --enable-libbs2b --enable-libcaca --enable-libcdio --enable-libflite --enable-libfontconfig --enable-libfreetype --enable-libfribidi --enable-libgme --enable-libgsm --enable-libmp3lame --enable-libmysofa --enable-libopenjpeg --enable-libopenmpt --enable-libopus --enable-libpulse --enable-librubberband --enable-librsvg --enable-libshine --enable-libsnappy --enable-libsoxr --enable-libspeex --enable-libssh --enable-libtheora --enable-libtwolame --enable-libvorbis --enable-libvpx --enable-libwavpack --enable-libwebp --enable-libx265 --enable-libxml2 --enable-libxvid --enable-libzmq --enable-libzvbi --enable-omx --enable-openal --enable-opengl --enable-sdl2 --enable-libdc1394 --enable-libdrm --enable-libiec61883 --enable-chromaprint --enable-frei0r --enable-libopencv --enable-libx264 --enable-shared\n",
            "  libavutil      55. 78.100 / 55. 78.100\n",
            "  libavcodec     57.107.100 / 57.107.100\n",
            "  libavformat    57. 83.100 / 57. 83.100\n",
            "  libavdevice    57. 10.100 / 57. 10.100\n",
            "  libavfilter     6.107.100 /  6.107.100\n",
            "  libavresample   3.  7.  0 /  3.  7.  0\n",
            "  libswscale      4.  8.100 /  4.  8.100\n",
            "  libswresample   2.  9.100 /  2.  9.100\n",
            "  libpostproc    54.  7.100 / 54.  7.100\n",
            "Input #0, mov,mp4,m4a,3gp,3g2,mj2, from '/gdrive/My Drive/VB/Video/MBVF M7 S3.mp4':\n",
            "  Metadata:\n",
            "    major_brand     : mp42\n",
            "    minor_version   : 0\n",
            "    compatible_brands: isommp42\n",
            "    creation_time   : 2020-03-09T04:23:42.000000Z\n",
            "    encoder         : Google\n",
            "  Duration: 00:12:05.25, start: 0.000000, bitrate: 1962 kb/s\n",
            "    Stream #0:0(und): Video: h264 (High) (avc1 / 0x31637661), yuv420p(tv, smpte170m/bt709/bt709), 1280x720 [SAR 1:1 DAR 16:9], 1862 kb/s, 28.11 fps, 28.11 tbr, 11246 tbn, 56.23 tbc (default)\n",
            "    Metadata:\n",
            "      creation_time   : 2020-03-09T04:23:42.000000Z\n",
            "      handler_name    : ISO Media file produced by Google Inc. Created on: 03/08/2020.\n",
            "    Stream #0:1(und): Audio: aac (LC) (mp4a / 0x6134706D), 44100 Hz, mono, fltp, 96 kb/s (default)\n",
            "    Metadata:\n",
            "      creation_time   : 2020-03-09T04:23:42.000000Z\n",
            "      handler_name    : ISO Media file produced by Google Inc. Created on: 03/08/2020.\n",
            "Stream mapping:\n",
            "  Stream #0:0 -> #0:0 (copy)\n",
            "  Stream #0:1 -> #0:1 (aac (native) -> aac (native))\n",
            "Press [q] to stop, [?] for help\n",
            "Output #0, mp4, to 'video-clip.mp4':\n",
            "  Metadata:\n",
            "    major_brand     : mp42\n",
            "    minor_version   : 0\n",
            "    compatible_brands: isommp42\n",
            "    encoder         : Lavf57.83.100\n",
            "    Stream #0:0(und): Video: h264 (High) (avc1 / 0x31637661), yuv420p(tv, smpte170m/bt709/bt709), 1280x720 [SAR 1:1 DAR 16:9], q=2-31, 1862 kb/s, 28.11 fps, 28.11 tbr, 11246 tbn, 11246 tbc (default)\n",
            "    Metadata:\n",
            "      creation_time   : 2020-03-09T04:23:42.000000Z\n",
            "      handler_name    : ISO Media file produced by Google Inc. Created on: 03/08/2020.\n",
            "    Stream #0:1(und): Audio: aac (LC) (mp4a / 0x6134706D), 44100 Hz, mono, fltp, 69 kb/s (default)\n",
            "    Metadata:\n",
            "      creation_time   : 2020-03-09T04:23:42.000000Z\n",
            "      handler_name    : ISO Media file produced by Google Inc. Created on: 03/08/2020.\n",
            "      encoder         : Lavc57.107.100 aac\n",
            "frame=  170 fps=0.0 q=-1.0 Lsize=    1544kB time=00:00:06.01 bitrate=2103.8kbits/s speed=52.5x    \n",
            "video:1485kB audio:52kB subtitle:0kB other streams:0kB global headers:0kB muxing overhead: 0.461930%\n",
            "\u001b[1;36m[aac @ 0x5574e03f9700] \u001b[0mQavg: 916.534\n"
          ],
          "name": "stdout"
        }
      ]
    },
    {
      "cell_type": "code",
      "metadata": {
        "id": "qNKodC8yV-d6",
        "colab_type": "code",
        "colab": {
          "base_uri": "https://localhost:8080/",
          "height": 343
        },
        "outputId": "04239223-07a5-44f5-91bf-8bf55311b41b"
      },
      "source": [
        "!git clone https://github.com/facebookresearch/detectron2\n",
        "!pip uninstall -y opencv-python-headless opencv-contrib-python\n",
        "!apt install python3-opencv  # the one pre-installed have some issues\n",
        "!python detectron2/demo/demo.py --config-file detectron2/configs/COCO-PanopticSegmentation/panoptic_fpn_R_101_3x.yaml --video-input video-clip.mp4 --confidence-threshold 0.6 --output video-output.mkv \\\n",
        "  --opts MODEL.WEIGHTS detectron2://COCO-PanopticSegmentation/panoptic_fpn_R_101_3x/139514519/model_final_cafdb1.pkl"
      ],
      "execution_count": null,
      "outputs": [
        {
          "output_type": "stream",
          "text": [
            "fatal: destination path 'detectron2' already exists and is not an empty directory.\n",
            "\u001b[33mWARNING: Skipping opencv-python-headless as it is not installed.\u001b[0m\n",
            "Uninstalling opencv-contrib-python-4.1.2.30:\n",
            "  Successfully uninstalled opencv-contrib-python-4.1.2.30\n",
            "Reading package lists... Done\n",
            "Building dependency tree       \n",
            "Reading state information... Done\n",
            "python3-opencv is already the newest version (3.2.0+dfsg-4ubuntu0.1).\n",
            "The following package was automatically installed and is no longer required:\n",
            "  libnvidia-common-440\n",
            "Use 'apt autoremove' to remove it.\n",
            "0 upgraded, 0 newly installed, 0 to remove and 33 not upgraded.\n",
            "Failed to load OpenCL runtime\n",
            "\u001b[32m[07/09 16:21:35 detectron2]: \u001b[0mArguments: Namespace(confidence_threshold=0.6, config_file='detectron2/configs/COCO-PanopticSegmentation/panoptic_fpn_R_101_3x.yaml', input=None, opts=['MODEL.WEIGHTS', 'detectron2://COCO-PanopticSegmentation/panoptic_fpn_R_101_3x/139514519/model_final_cafdb1.pkl'], output='video-output.mkv', video_input='video-clip.mp4', webcam=False)\n",
            "\u001b[32m[07/09 16:21:39 fvcore.common.checkpoint]: \u001b[0mLoading checkpoint from detectron2://COCO-PanopticSegmentation/panoptic_fpn_R_101_3x/139514519/model_final_cafdb1.pkl\n",
            "\u001b[32m[07/09 16:21:39 fvcore.common.file_io]: \u001b[0mURL https://dl.fbaipublicfiles.com/detectron2/COCO-PanopticSegmentation/panoptic_fpn_R_101_3x/139514519/model_final_cafdb1.pkl cached in /root/.torch/fvcore_cache/detectron2/COCO-PanopticSegmentation/panoptic_fpn_R_101_3x/139514519/model_final_cafdb1.pkl\n",
            "\u001b[32m[07/09 16:21:39 fvcore.common.checkpoint]: \u001b[0mReading a file from 'Detectron2 Model Zoo'\n",
            " 99% 169/170 [04:15<00:01,  1.51s/it]\n"
          ],
          "name": "stdout"
        }
      ]
    },
    {
      "cell_type": "code",
      "metadata": {
        "id": "yFzrztr4a9nL",
        "colab_type": "code",
        "colab": {
          "base_uri": "https://localhost:8080/",
          "height": 34
        },
        "outputId": "9b4b984a-a149-48d3-c229-dac8ad70e771"
      },
      "source": [
        "panopt = get_cfg()\n",
        "# add project-specific config (e.g., TensorMask) here if you're not running a model in detectron2's core library\n",
        "panopt.merge_from_file(model_zoo.get_config_file(\"COCO-PanopticSegmentation/panoptic_fpn_R_101_3x.yaml\"))\n",
        "panopt.MODEL.ROI_HEADS.SCORE_THRESH_TEST = 0.5  # set threshold for this model\n",
        "# Find a model from detectron2's model zoo. You can use the https://dl.fbaipublicfiles... url as well\n",
        "panopt.MODEL.WEIGHTS = model_zoo.get_checkpoint_url(\"COCO-PanopticSegmentation/panoptic_fpn_R_101_3x.yaml\")\n",
        "panopt_pred = DefaultPredictor(panopt)"
      ],
      "execution_count": null,
      "outputs": [
        {
          "output_type": "stream",
          "text": [
            "model_final_cafdb1.pkl: 261MB [00:26, 9.99MB/s]                           \n"
          ],
          "name": "stderr"
        }
      ]
    },
    {
      "cell_type": "code",
      "metadata": {
        "id": "8epz7nk9bngh",
        "colab_type": "code",
        "colab": {
          "base_uri": "https://localhost:8080/",
          "height": 34
        },
        "outputId": "cb949e33-44d3-45b0-d832-d8be83fb2c20"
      },
      "source": [
        "v = VideoVisualizer(MetadataCatalog.get(panopt.DATASETS.TRAIN[0]), ColorMode.IMAGE)\n",
        "\n",
        "cap = cv2.VideoCapture('/gdrive/My Drive/Colab Notebooks/MBVF M7 S3.mp4')\n",
        "width = int(cap.get(cv2.CAP_PROP_FRAME_WIDTH))\n",
        "height = int(cap.get(cv2.CAP_PROP_FRAME_HEIGHT))\n",
        "frames_per_second = cap.get(cv2.CAP_PROP_FPS)\n",
        "num_frames = int(cap.get(cv2.CAP_PROP_FRAME_COUNT))\n",
        "\n",
        "fourcc = cv2.VideoWriter_fourcc('M', 'P', '4', 'V')\n",
        "videoOut = cv2.VideoWriter('/gdrive/My Drive/Colab Notebooks/panopt.mp4', fourcc, 20.0, \n",
        "                           (width,height))\n",
        "\n",
        "\n",
        "\n",
        "for ix in tqdm(range(int(1 * frames_per_second))):\n",
        "  ret, frame = cap.read()\n",
        "  outputs = panopt_pred(frame)\n",
        "  panoptic_seg, segments_info = outputs['panoptic_seg']\n",
        "\n",
        "  visualization = v.draw_panoptic_seg_predictions(frame, panoptic_seg.to(\"cpu\"), segments_info)\n",
        "  visualization = cv2.cvtColor(visualization.get_image(), cv2.COLOR_RGB2BGR)\n",
        "  videoOut.write(visualization)\n",
        "\n",
        "videoOut.release()\n",
        "cap.release()\n"
      ],
      "execution_count": null,
      "outputs": [
        {
          "output_type": "stream",
          "text": [
            "100%|██████████| 28/28 [00:32<00:00,  1.16s/it]\n"
          ],
          "name": "stderr"
        }
      ]
    },
    {
      "cell_type": "code",
      "metadata": {
        "id": "4xf1opHhspnt",
        "colab_type": "code",
        "colab": {
          "base_uri": "https://localhost:8080/",
          "height": 1000
        },
        "outputId": "1d930921-0c6c-4076-a553-9edbef5280af"
      },
      "source": [
        "outputs"
      ],
      "execution_count": null,
      "outputs": [
        {
          "output_type": "execute_result",
          "data": {
            "text/plain": [
              "{'instances': Instances(num_instances=25, image_height=720, image_width=1280, fields=[pred_boxes: Boxes(tensor([[7.0581e+02, 2.8405e+02, 7.8971e+02, 4.4901e+02],\n",
              "         [8.5579e+02, 2.5946e+02, 9.1743e+02, 4.0870e+02],\n",
              "         [4.3619e+02, 2.6934e+02, 5.2927e+02, 4.4951e+02],\n",
              "         [1.1809e+03, 2.9154e+02, 1.2467e+03, 4.4250e+02],\n",
              "         [5.9427e+02, 2.2438e+02, 6.5218e+02, 3.4113e+02],\n",
              "         [7.9337e+02, 2.4163e+02, 8.2656e+02, 3.6182e+02],\n",
              "         [5.5742e+02, 2.1391e+02, 5.8750e+02, 3.1401e+02],\n",
              "         [1.1267e+03, 2.4763e+02, 1.1896e+03, 4.1557e+02],\n",
              "         [4.2208e+02, 2.4585e+02, 4.6569e+02, 3.7317e+02],\n",
              "         [1.0477e+03, 2.4373e+02, 1.1188e+03, 3.9090e+02],\n",
              "         [1.0726e+02, 2.9283e+02, 1.6829e+02, 3.8354e+02],\n",
              "         [1.0076e+03, 2.1945e+02, 1.0524e+03, 3.3054e+02],\n",
              "         [1.3350e-01, 3.3095e+02, 6.9308e+01, 4.5251e+02],\n",
              "         [1.3404e+02, 2.7986e+02, 1.9198e+02, 3.7040e+02],\n",
              "         [1.9090e+02, 2.2445e+02, 2.2051e+02, 3.2210e+02],\n",
              "         [7.0795e+02, 2.1524e+02, 7.4739e+02, 3.1428e+02],\n",
              "         [2.9565e+02, 1.9782e+02, 3.3939e+02, 2.8887e+02],\n",
              "         [1.1061e+03, 2.7043e+02, 1.1518e+03, 3.6858e+02],\n",
              "         [6.7852e+02, 2.0755e+02, 7.0303e+02, 2.9746e+02],\n",
              "         [6.9497e+02, 2.0548e+02, 7.2074e+02, 2.9125e+02],\n",
              "         [5.0207e+01, 2.5551e+02, 8.8293e+01, 3.3976e+02],\n",
              "         [1.1772e+03, 4.2636e+02, 1.2173e+03, 4.4435e+02],\n",
              "         [7.3855e+02, 1.9283e+02, 7.6825e+02, 2.6556e+02],\n",
              "         [9.6486e+02, 2.0096e+02, 1.0003e+03, 2.4847e+02],\n",
              "         [6.3171e+02, 1.8955e+02, 6.5109e+02, 2.3045e+02]], device='cuda:0')), scores: tensor([0.9976, 0.9968, 0.9953, 0.9888, 0.9888, 0.9878, 0.9743, 0.9686, 0.9438,\n",
              "         0.9294, 0.9171, 0.8774, 0.8075, 0.7766, 0.7311, 0.7123, 0.7046, 0.6722,\n",
              "         0.6459, 0.6245, 0.5874, 0.5574, 0.5543, 0.5377, 0.5280],\n",
              "        device='cuda:0'), pred_classes: tensor([ 0,  0,  0,  0,  0,  0,  0,  0,  0,  0,  0,  0,  0,  0,  0,  0,  0,  0,\n",
              "          0,  0,  0, 36,  0,  0,  0], device='cuda:0'), pred_masks: tensor([[[False, False, False,  ..., False, False, False],\n",
              "          [False, False, False,  ..., False, False, False],\n",
              "          [False, False, False,  ..., False, False, False],\n",
              "          ...,\n",
              "          [False, False, False,  ..., False, False, False],\n",
              "          [False, False, False,  ..., False, False, False],\n",
              "          [False, False, False,  ..., False, False, False]],\n",
              " \n",
              "         [[False, False, False,  ..., False, False, False],\n",
              "          [False, False, False,  ..., False, False, False],\n",
              "          [False, False, False,  ..., False, False, False],\n",
              "          ...,\n",
              "          [False, False, False,  ..., False, False, False],\n",
              "          [False, False, False,  ..., False, False, False],\n",
              "          [False, False, False,  ..., False, False, False]],\n",
              " \n",
              "         [[False, False, False,  ..., False, False, False],\n",
              "          [False, False, False,  ..., False, False, False],\n",
              "          [False, False, False,  ..., False, False, False],\n",
              "          ...,\n",
              "          [False, False, False,  ..., False, False, False],\n",
              "          [False, False, False,  ..., False, False, False],\n",
              "          [False, False, False,  ..., False, False, False]],\n",
              " \n",
              "         ...,\n",
              " \n",
              "         [[False, False, False,  ..., False, False, False],\n",
              "          [False, False, False,  ..., False, False, False],\n",
              "          [False, False, False,  ..., False, False, False],\n",
              "          ...,\n",
              "          [False, False, False,  ..., False, False, False],\n",
              "          [False, False, False,  ..., False, False, False],\n",
              "          [False, False, False,  ..., False, False, False]],\n",
              " \n",
              "         [[False, False, False,  ..., False, False, False],\n",
              "          [False, False, False,  ..., False, False, False],\n",
              "          [False, False, False,  ..., False, False, False],\n",
              "          ...,\n",
              "          [False, False, False,  ..., False, False, False],\n",
              "          [False, False, False,  ..., False, False, False],\n",
              "          [False, False, False,  ..., False, False, False]],\n",
              " \n",
              "         [[False, False, False,  ..., False, False, False],\n",
              "          [False, False, False,  ..., False, False, False],\n",
              "          [False, False, False,  ..., False, False, False],\n",
              "          ...,\n",
              "          [False, False, False,  ..., False, False, False],\n",
              "          [False, False, False,  ..., False, False, False],\n",
              "          [False, False, False,  ..., False, False, False]]], device='cuda:0')]),\n",
              " 'panoptic_seg': (tensor([[27, 27, 27,  ..., 27, 27, 27],\n",
              "          [27, 27, 27,  ..., 27, 27, 27],\n",
              "          [27, 27, 27,  ..., 27, 27, 27],\n",
              "          ...,\n",
              "          [25, 25, 25,  ..., 25, 25, 25],\n",
              "          [25, 25, 25,  ..., 25, 25, 25],\n",
              "          [25, 25, 25,  ..., 25, 25, 25]], device='cuda:0', dtype=torch.int32),\n",
              "  [{'area': 4981.0,\n",
              "    'category_id': 0,\n",
              "    'id': 1,\n",
              "    'instance_id': 0,\n",
              "    'isthing': True,\n",
              "    'score': 0.9976300001144409},\n",
              "   {'area': 4047.0,\n",
              "    'category_id': 0,\n",
              "    'id': 2,\n",
              "    'instance_id': 1,\n",
              "    'isthing': True,\n",
              "    'score': 0.9968174695968628},\n",
              "   {'area': 5224.0,\n",
              "    'category_id': 0,\n",
              "    'id': 3,\n",
              "    'instance_id': 2,\n",
              "    'isthing': True,\n",
              "    'score': 0.9952795505523682},\n",
              "   {'area': 4423.0,\n",
              "    'category_id': 0,\n",
              "    'id': 4,\n",
              "    'instance_id': 3,\n",
              "    'isthing': True,\n",
              "    'score': 0.9888182282447815},\n",
              "   {'area': 2888.0,\n",
              "    'category_id': 0,\n",
              "    'id': 5,\n",
              "    'instance_id': 4,\n",
              "    'isthing': True,\n",
              "    'score': 0.9887841939926147},\n",
              "   {'area': 2821.0,\n",
              "    'category_id': 0,\n",
              "    'id': 6,\n",
              "    'instance_id': 5,\n",
              "    'isthing': True,\n",
              "    'score': 0.9877839684486389},\n",
              "   {'area': 1794.0,\n",
              "    'category_id': 0,\n",
              "    'id': 7,\n",
              "    'instance_id': 6,\n",
              "    'isthing': True,\n",
              "    'score': 0.9743483066558838},\n",
              "   {'area': 4485.0,\n",
              "    'category_id': 0,\n",
              "    'id': 8,\n",
              "    'instance_id': 7,\n",
              "    'isthing': True,\n",
              "    'score': 0.9685813784599304},\n",
              "   {'area': 1659.0,\n",
              "    'category_id': 0,\n",
              "    'id': 9,\n",
              "    'instance_id': 8,\n",
              "    'isthing': True,\n",
              "    'score': 0.9437633156776428},\n",
              "   {'area': 4169.0,\n",
              "    'category_id': 0,\n",
              "    'id': 10,\n",
              "    'instance_id': 9,\n",
              "    'isthing': True,\n",
              "    'score': 0.929384708404541},\n",
              "   {'area': 2452.0,\n",
              "    'category_id': 0,\n",
              "    'id': 11,\n",
              "    'instance_id': 10,\n",
              "    'isthing': True,\n",
              "    'score': 0.9170977473258972},\n",
              "   {'area': 2541.0,\n",
              "    'category_id': 0,\n",
              "    'id': 12,\n",
              "    'instance_id': 11,\n",
              "    'isthing': True,\n",
              "    'score': 0.8773654103279114},\n",
              "   {'area': 3607.0,\n",
              "    'category_id': 0,\n",
              "    'id': 13,\n",
              "    'instance_id': 12,\n",
              "    'isthing': True,\n",
              "    'score': 0.8075453042984009},\n",
              "   {'area': 1600.0,\n",
              "    'category_id': 0,\n",
              "    'id': 14,\n",
              "    'instance_id': 13,\n",
              "    'isthing': True,\n",
              "    'score': 0.7765863537788391},\n",
              "   {'area': 1654.0,\n",
              "    'category_id': 0,\n",
              "    'id': 15,\n",
              "    'instance_id': 14,\n",
              "    'isthing': True,\n",
              "    'score': 0.7310982346534729},\n",
              "   {'area': 1857.0,\n",
              "    'category_id': 0,\n",
              "    'id': 16,\n",
              "    'instance_id': 15,\n",
              "    'isthing': True,\n",
              "    'score': 0.7122535705566406},\n",
              "   {'area': 1857.0,\n",
              "    'category_id': 0,\n",
              "    'id': 17,\n",
              "    'instance_id': 16,\n",
              "    'isthing': True,\n",
              "    'score': 0.7045552134513855},\n",
              "   {'area': 1534.0,\n",
              "    'category_id': 0,\n",
              "    'id': 18,\n",
              "    'instance_id': 17,\n",
              "    'isthing': True,\n",
              "    'score': 0.6722304224967957},\n",
              "   {'area': 1052.0,\n",
              "    'category_id': 0,\n",
              "    'id': 19,\n",
              "    'instance_id': 18,\n",
              "    'isthing': True,\n",
              "    'score': 0.645871102809906},\n",
              "   {'area': 1178.0,\n",
              "    'category_id': 0,\n",
              "    'id': 20,\n",
              "    'instance_id': 19,\n",
              "    'isthing': True,\n",
              "    'score': 0.624528706073761},\n",
              "   {'area': 2039.0,\n",
              "    'category_id': 0,\n",
              "    'id': 21,\n",
              "    'instance_id': 20,\n",
              "    'isthing': True,\n",
              "    'score': 0.5874215960502625},\n",
              "   {'area': 938.0,\n",
              "    'category_id': 0,\n",
              "    'id': 22,\n",
              "    'instance_id': 22,\n",
              "    'isthing': True,\n",
              "    'score': 0.5543054342269897},\n",
              "   {'area': 989.0,\n",
              "    'category_id': 0,\n",
              "    'id': 23,\n",
              "    'instance_id': 23,\n",
              "    'isthing': True,\n",
              "    'score': 0.5377362966537476},\n",
              "   {'area': 407.0,\n",
              "    'category_id': 0,\n",
              "    'id': 24,\n",
              "    'instance_id': 24,\n",
              "    'isthing': True,\n",
              "    'score': 0.5280346274375916},\n",
              "   {'area': 486394.0, 'category_id': 43, 'id': 25, 'isthing': False},\n",
              "   {'area': 17389.0, 'category_id': 50, 'id': 26, 'isthing': False},\n",
              "   {'area': 156991.0, 'category_id': 52, 'id': 27, 'isthing': False}]),\n",
              " 'sem_seg': tensor([[[ 1.5921,  1.5932,  1.6146,  ...,  1.7404,  1.7248,  1.7085],\n",
              "          [ 1.5957,  1.5969,  1.6192,  ...,  1.7506,  1.7344,  1.7176],\n",
              "          [ 1.6618,  1.6639,  1.7042,  ...,  1.9367,  1.9109,  1.8839],\n",
              "          ...,\n",
              "          [ 2.0972,  2.1020,  2.1921,  ...,  2.5750,  2.4741,  2.3690],\n",
              "          [ 2.0356,  2.0403,  2.1273,  ...,  2.4848,  2.4018,  2.3154],\n",
              "          [ 1.9741,  1.9787,  2.0624,  ...,  2.3947,  2.3294,  2.2617]],\n",
              " \n",
              "         [[ 2.7442,  2.7438,  2.7378,  ...,  2.5937,  2.5705,  2.5474],\n",
              "          [ 2.7431,  2.7428,  2.7368,  ...,  2.5938,  2.5707,  2.5478],\n",
              "          [ 2.7236,  2.7234,  2.7190,  ...,  2.5953,  2.5752,  2.5553],\n",
              "          ...,\n",
              "          [ 0.6800,  0.6802,  0.6821,  ...,  1.0389,  1.1366,  1.2395],\n",
              "          [ 0.7138,  0.7140,  0.7188,  ...,  1.0979,  1.1761,  1.2581],\n",
              "          [ 0.7475,  0.7479,  0.7555,  ...,  1.1569,  1.2157,  1.2768]],\n",
              " \n",
              "         [[-2.0447, -2.0449, -2.0482,  ..., -2.9255, -2.8967, -2.8673],\n",
              "          [-2.0448, -2.0449, -2.0483,  ..., -2.9255, -2.8968, -2.8674],\n",
              "          [-2.0464, -2.0465, -2.0488,  ..., -2.9261, -2.8982, -2.8697],\n",
              "          ...,\n",
              "          [-1.0904, -1.0886, -1.0560,  ..., -0.7010, -0.7342, -0.7677],\n",
              "          [-1.1202, -1.1188, -1.0940,  ..., -0.7691, -0.7963, -0.8239],\n",
              "          [-1.1500, -1.1491, -1.1320,  ..., -0.8372, -0.8585, -0.8802]],\n",
              " \n",
              "         ...,\n",
              " \n",
              "         [[-2.2082, -2.2062, -2.1698,  ..., -2.9186, -2.8892, -2.8587],\n",
              "          [-2.2078, -2.2058, -2.1693,  ..., -2.9199, -2.8907, -2.8604],\n",
              "          [-2.2003, -2.1983, -2.1615,  ..., -2.9435, -2.9182, -2.8919],\n",
              "          ...,\n",
              "          [-3.6728, -3.6745, -3.7059,  ..., -4.3603, -4.3368, -4.3126],\n",
              "          [-3.6362, -3.6382, -3.6745,  ..., -4.3934, -4.3554, -4.3156],\n",
              "          [-3.5996, -3.6019, -3.6431,  ..., -4.4265, -4.3740, -4.3185]],\n",
              " \n",
              "         [[ 5.0410,  5.0394,  5.0091,  ...,  5.7047,  5.6938,  5.6854],\n",
              "          [ 5.0405,  5.0389,  5.0087,  ...,  5.7053,  5.6946,  5.6864],\n",
              "          [ 5.0313,  5.0297,  5.0000,  ...,  5.7158,  5.7096,  5.7061],\n",
              "          ...,\n",
              "          [ 3.6719,  3.6716,  3.6667,  ...,  4.1433,  4.2210,  4.3028],\n",
              "          [ 3.6577,  3.6575,  3.6541,  ...,  4.1633,  4.2363,  4.3126],\n",
              "          [ 3.6436,  3.6435,  3.6415,  ...,  4.1832,  4.2516,  4.3224]],\n",
              " \n",
              "         [[ 0.1705,  0.1694,  0.1479,  ..., -0.7910, -0.7265, -0.6608],\n",
              "          [ 0.1684,  0.1672,  0.1456,  ..., -0.7938, -0.7293, -0.6635],\n",
              "          [ 0.1285,  0.1273,  0.1048,  ..., -0.8457, -0.7798, -0.7128],\n",
              "          ...,\n",
              "          [ 2.9913,  2.9920,  3.0056,  ...,  3.4589,  3.3010,  3.1361],\n",
              "          [ 3.0516,  3.0522,  3.0619,  ...,  3.4596,  3.3141,  3.1623],\n",
              "          [ 3.1120,  3.1123,  3.1181,  ...,  3.4603,  3.3273,  3.1885]]],\n",
              "        device='cuda:0')}"
            ]
          },
          "metadata": {
            "tags": []
          },
          "execution_count": 31
        }
      ]
    }
  ]
}