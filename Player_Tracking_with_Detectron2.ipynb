{
  "nbformat": 4,
  "nbformat_minor": 0,
  "metadata": {
    "colab": {
      "name": "Player Tracking with Detectron2.ipynb",
      "provenance": [],
      "collapsed_sections": [],
      "include_colab_link": true
    },
    "kernelspec": {
      "name": "python3",
      "display_name": "Python 3"
    },
    "accelerator": "GPU"
  },
  "cells": [
    {
      "cell_type": "markdown",
      "metadata": {
        "id": "view-in-github",
        "colab_type": "text"
      },
      "source": [
        "<a href=\"https://colab.research.google.com/github/stevearonson/VB-Video-Tracking/blob/master/Player_Tracking_with_Detectron2.ipynb\" target=\"_parent\"><img src=\"https://colab.research.google.com/assets/colab-badge.svg\" alt=\"Open In Colab\"/></a>"
      ]
    },
    {
      "cell_type": "markdown",
      "metadata": {
        "id": "vM54r6jlKTII",
        "colab_type": "text"
      },
      "source": [
        "# Install detectron2"
      ]
    },
    {
      "cell_type": "code",
      "metadata": {
        "id": "9_FzH13EjseR",
        "colab_type": "code",
        "colab": {
          "base_uri": "https://localhost:8080/",
          "height": 425
        },
        "outputId": "96257c32-4550-41fb-83a1-eba6608fe686"
      },
      "source": [
        "# install dependencies: (use cu101 because colab has CUDA 10.1)\n",
        "!pip install -U torch==1.5 torchvision==0.6 -f https://download.pytorch.org/whl/cu101/torch_stable.html \n",
        "!pip install pyyaml==5.1 pycocotools>=2.0.1\n",
        "import torch, torchvision\n",
        "print(torch.__version__, torch.cuda.is_available())\n",
        "!gcc --version\n",
        "# opencv is pre-installed on colab"
      ],
      "execution_count": null,
      "outputs": [
        {
          "output_type": "stream",
          "text": [
            "Looking in links: https://download.pytorch.org/whl/cu101/torch_stable.html\n",
            "Collecting torch==1.5\n",
            "\u001b[?25l  Downloading https://download.pytorch.org/whl/cu101/torch-1.5.0%2Bcu101-cp36-cp36m-linux_x86_64.whl (703.8MB)\n",
            "\u001b[K     |████████████████████████████████| 703.8MB 28kB/s \n",
            "\u001b[?25hCollecting torchvision==0.6\n",
            "\u001b[?25l  Downloading https://download.pytorch.org/whl/cu101/torchvision-0.6.0%2Bcu101-cp36-cp36m-linux_x86_64.whl (6.6MB)\n",
            "\u001b[K     |████████████████████████████████| 6.6MB 36.4MB/s \n",
            "\u001b[?25hRequirement already satisfied, skipping upgrade: numpy in /usr/local/lib/python3.6/dist-packages (from torch==1.5) (1.18.5)\n",
            "Requirement already satisfied, skipping upgrade: future in /usr/local/lib/python3.6/dist-packages (from torch==1.5) (0.16.0)\n",
            "Requirement already satisfied, skipping upgrade: pillow>=4.1.1 in /usr/local/lib/python3.6/dist-packages (from torchvision==0.6) (7.0.0)\n",
            "Installing collected packages: torch, torchvision\n",
            "  Found existing installation: torch 1.5.1+cu101\n",
            "    Uninstalling torch-1.5.1+cu101:\n",
            "      Successfully uninstalled torch-1.5.1+cu101\n",
            "  Found existing installation: torchvision 0.6.1+cu101\n",
            "    Uninstalling torchvision-0.6.1+cu101:\n",
            "      Successfully uninstalled torchvision-0.6.1+cu101\n",
            "Successfully installed torch-1.5.0+cu101 torchvision-0.6.0+cu101\n",
            "1.5.0+cu101 True\n",
            "gcc (Ubuntu 7.5.0-3ubuntu1~18.04) 7.5.0\n",
            "Copyright (C) 2017 Free Software Foundation, Inc.\n",
            "This is free software; see the source for copying conditions.  There is NO\n",
            "warranty; not even for MERCHANTABILITY or FITNESS FOR A PARTICULAR PURPOSE.\n",
            "\n"
          ],
          "name": "stdout"
        }
      ]
    },
    {
      "cell_type": "code",
      "metadata": {
        "id": "b-i4hmGYk1dL",
        "colab_type": "code",
        "colab": {
          "base_uri": "https://localhost:8080/",
          "height": 1000
        },
        "outputId": "5fcdc890-007f-494f-b5aa-79c2f99409b8"
      },
      "source": [
        "# install detectron2:\n",
        "!pip install detectron2==0.1.3 -f https://dl.fbaipublicfiles.com/detectron2/wheels/cu101/torch1.5/index.html"
      ],
      "execution_count": null,
      "outputs": [
        {
          "output_type": "stream",
          "text": [
            "Looking in links: https://dl.fbaipublicfiles.com/detectron2/wheels/cu101/torch1.5/index.html\n",
            "Collecting detectron2==0.1.3\n",
            "\u001b[?25l  Downloading https://dl.fbaipublicfiles.com/detectron2/wheels/cu101/torch1.5/detectron2-0.1.3%2Bcu101-cp36-cp36m-linux_x86_64.whl (6.2MB)\n",
            "\u001b[K     |████████████████████████████████| 6.2MB 569kB/s \n",
            "\u001b[?25hRequirement already satisfied: Pillow in /usr/local/lib/python3.6/dist-packages (from detectron2==0.1.3) (7.0.0)\n",
            "Collecting fvcore>=0.1.1\n",
            "  Downloading https://files.pythonhosted.org/packages/89/25/96b54f2453da24baff5525f4a72b3931317be2ad46c983360320d9134f40/fvcore-0.1.1.post20200711.tar.gz\n",
            "Requirement already satisfied: tabulate in /usr/local/lib/python3.6/dist-packages (from detectron2==0.1.3) (0.8.7)\n",
            "Requirement already satisfied: tensorboard in /usr/local/lib/python3.6/dist-packages (from detectron2==0.1.3) (2.2.2)\n",
            "Requirement already satisfied: cloudpickle in /usr/local/lib/python3.6/dist-packages (from detectron2==0.1.3) (1.3.0)\n",
            "Requirement already satisfied: tqdm>4.29.0 in /usr/local/lib/python3.6/dist-packages (from detectron2==0.1.3) (4.41.1)\n",
            "Requirement already satisfied: future in /usr/local/lib/python3.6/dist-packages (from detectron2==0.1.3) (0.16.0)\n",
            "Requirement already satisfied: pydot in /usr/local/lib/python3.6/dist-packages (from detectron2==0.1.3) (1.3.0)\n",
            "Requirement already satisfied: matplotlib in /usr/local/lib/python3.6/dist-packages (from detectron2==0.1.3) (3.2.2)\n",
            "Requirement already satisfied: termcolor>=1.1 in /usr/local/lib/python3.6/dist-packages (from detectron2==0.1.3) (1.1.0)\n",
            "Collecting mock\n",
            "  Downloading https://files.pythonhosted.org/packages/cd/74/d72daf8dff5b6566db857cfd088907bb0355f5dd2914c4b3ef065c790735/mock-4.0.2-py3-none-any.whl\n",
            "Collecting yacs>=0.1.6\n",
            "  Downloading https://files.pythonhosted.org/packages/81/3b/40e876afde9f5ffa1cfdce10565aba85b0dc2e067ed551dfb566cfee6d4d/yacs-0.1.7-py3-none-any.whl\n",
            "Requirement already satisfied: numpy in /usr/local/lib/python3.6/dist-packages (from fvcore>=0.1.1->detectron2==0.1.3) (1.18.5)\n",
            "Requirement already satisfied: pyyaml>=5.1 in /usr/local/lib/python3.6/dist-packages (from fvcore>=0.1.1->detectron2==0.1.3) (5.1)\n",
            "Collecting portalocker\n",
            "  Downloading https://files.pythonhosted.org/packages/53/84/7b3146ec6378d28abc73ab484f09f47dfa008ad6f03f33d90a369f880e25/portalocker-1.7.0-py2.py3-none-any.whl\n",
            "Requirement already satisfied: google-auth<2,>=1.6.3 in /usr/local/lib/python3.6/dist-packages (from tensorboard->detectron2==0.1.3) (1.17.2)\n",
            "Requirement already satisfied: google-auth-oauthlib<0.5,>=0.4.1 in /usr/local/lib/python3.6/dist-packages (from tensorboard->detectron2==0.1.3) (0.4.1)\n",
            "Requirement already satisfied: six>=1.10.0 in /usr/local/lib/python3.6/dist-packages (from tensorboard->detectron2==0.1.3) (1.12.0)\n",
            "Requirement already satisfied: tensorboard-plugin-wit>=1.6.0 in /usr/local/lib/python3.6/dist-packages (from tensorboard->detectron2==0.1.3) (1.6.0.post3)\n",
            "Requirement already satisfied: markdown>=2.6.8 in /usr/local/lib/python3.6/dist-packages (from tensorboard->detectron2==0.1.3) (3.2.2)\n",
            "Requirement already satisfied: requests<3,>=2.21.0 in /usr/local/lib/python3.6/dist-packages (from tensorboard->detectron2==0.1.3) (2.23.0)\n",
            "Requirement already satisfied: wheel>=0.26; python_version >= \"3\" in /usr/local/lib/python3.6/dist-packages (from tensorboard->detectron2==0.1.3) (0.34.2)\n",
            "Requirement already satisfied: werkzeug>=0.11.15 in /usr/local/lib/python3.6/dist-packages (from tensorboard->detectron2==0.1.3) (1.0.1)\n",
            "Requirement already satisfied: protobuf>=3.6.0 in /usr/local/lib/python3.6/dist-packages (from tensorboard->detectron2==0.1.3) (3.10.0)\n",
            "Requirement already satisfied: absl-py>=0.4 in /usr/local/lib/python3.6/dist-packages (from tensorboard->detectron2==0.1.3) (0.9.0)\n",
            "Requirement already satisfied: setuptools>=41.0.0 in /usr/local/lib/python3.6/dist-packages (from tensorboard->detectron2==0.1.3) (47.3.1)\n",
            "Requirement already satisfied: grpcio>=1.24.3 in /usr/local/lib/python3.6/dist-packages (from tensorboard->detectron2==0.1.3) (1.30.0)\n",
            "Requirement already satisfied: pyparsing>=2.1.4 in /usr/local/lib/python3.6/dist-packages (from pydot->detectron2==0.1.3) (2.4.7)\n",
            "Requirement already satisfied: cycler>=0.10 in /usr/local/lib/python3.6/dist-packages (from matplotlib->detectron2==0.1.3) (0.10.0)\n",
            "Requirement already satisfied: kiwisolver>=1.0.1 in /usr/local/lib/python3.6/dist-packages (from matplotlib->detectron2==0.1.3) (1.2.0)\n",
            "Requirement already satisfied: python-dateutil>=2.1 in /usr/local/lib/python3.6/dist-packages (from matplotlib->detectron2==0.1.3) (2.8.1)\n",
            "Requirement already satisfied: cachetools<5.0,>=2.0.0 in /usr/local/lib/python3.6/dist-packages (from google-auth<2,>=1.6.3->tensorboard->detectron2==0.1.3) (4.1.0)\n",
            "Requirement already satisfied: pyasn1-modules>=0.2.1 in /usr/local/lib/python3.6/dist-packages (from google-auth<2,>=1.6.3->tensorboard->detectron2==0.1.3) (0.2.8)\n",
            "Requirement already satisfied: rsa<5,>=3.1.4; python_version >= \"3\" in /usr/local/lib/python3.6/dist-packages (from google-auth<2,>=1.6.3->tensorboard->detectron2==0.1.3) (4.6)\n",
            "Requirement already satisfied: requests-oauthlib>=0.7.0 in /usr/local/lib/python3.6/dist-packages (from google-auth-oauthlib<0.5,>=0.4.1->tensorboard->detectron2==0.1.3) (1.3.0)\n",
            "Requirement already satisfied: importlib-metadata; python_version < \"3.8\" in /usr/local/lib/python3.6/dist-packages (from markdown>=2.6.8->tensorboard->detectron2==0.1.3) (1.6.1)\n",
            "Requirement already satisfied: certifi>=2017.4.17 in /usr/local/lib/python3.6/dist-packages (from requests<3,>=2.21.0->tensorboard->detectron2==0.1.3) (2020.6.20)\n",
            "Requirement already satisfied: urllib3!=1.25.0,!=1.25.1,<1.26,>=1.21.1 in /usr/local/lib/python3.6/dist-packages (from requests<3,>=2.21.0->tensorboard->detectron2==0.1.3) (1.24.3)\n",
            "Requirement already satisfied: idna<3,>=2.5 in /usr/local/lib/python3.6/dist-packages (from requests<3,>=2.21.0->tensorboard->detectron2==0.1.3) (2.9)\n",
            "Requirement already satisfied: chardet<4,>=3.0.2 in /usr/local/lib/python3.6/dist-packages (from requests<3,>=2.21.0->tensorboard->detectron2==0.1.3) (3.0.4)\n",
            "Requirement already satisfied: pyasn1<0.5.0,>=0.4.6 in /usr/local/lib/python3.6/dist-packages (from pyasn1-modules>=0.2.1->google-auth<2,>=1.6.3->tensorboard->detectron2==0.1.3) (0.4.8)\n",
            "Requirement already satisfied: oauthlib>=3.0.0 in /usr/local/lib/python3.6/dist-packages (from requests-oauthlib>=0.7.0->google-auth-oauthlib<0.5,>=0.4.1->tensorboard->detectron2==0.1.3) (3.1.0)\n",
            "Requirement already satisfied: zipp>=0.5 in /usr/local/lib/python3.6/dist-packages (from importlib-metadata; python_version < \"3.8\"->markdown>=2.6.8->tensorboard->detectron2==0.1.3) (3.1.0)\n",
            "Building wheels for collected packages: fvcore\n",
            "  Building wheel for fvcore (setup.py) ... \u001b[?25l\u001b[?25hdone\n",
            "  Created wheel for fvcore: filename=fvcore-0.1.1.post20200711-cp36-none-any.whl size=42285 sha256=9c23f4e9791384409544991f3b86116de5d32d900af1f4aab2ec7ead38fa6c51\n",
            "  Stored in directory: /root/.cache/pip/wheels/be/e2/ff/183aa84c45c7f0a6f55d2a40bdbfc00e9d5c36b492065ec526\n",
            "Successfully built fvcore\n",
            "Installing collected packages: yacs, portalocker, fvcore, mock, detectron2\n",
            "Successfully installed detectron2-0.1.3+cu101 fvcore-0.1.1.post20200711 mock-4.0.2 portalocker-1.7.0 yacs-0.1.7\n"
          ],
          "name": "stdout"
        }
      ]
    },
    {
      "cell_type": "code",
      "metadata": {
        "id": "ZyAvNCJMmvFF",
        "colab_type": "code",
        "colab": {}
      },
      "source": [
        "# You may need to restart your runtime prior to this, to let your installation take effect\n",
        "# Some basic setup:\n",
        "# Setup detectron2 logger\n",
        "import detectron2\n",
        "from detectron2.utils.logger import setup_logger\n",
        "setup_logger()\n",
        "\n",
        "# import some common libraries\n",
        "import numpy as np\n",
        "import cv2\n",
        "import random\n",
        "from google.colab.patches import cv2_imshow\n",
        "from tqdm import tqdm \n",
        "import pandas as pd\n",
        "\n",
        "# import some common detectron2 utilities\n",
        "from detectron2 import model_zoo\n",
        "from detectron2.engine import DefaultPredictor\n",
        "from detectron2.config import get_cfg\n",
        "from detectron2.utils.video_visualizer import VideoVisualizer\n",
        "from detectron2.utils.visualizer import ColorMode, Visualizer\n",
        "from detectron2.data import MetadataCatalog"
      ],
      "execution_count": null,
      "outputs": []
    },
    {
      "cell_type": "code",
      "metadata": {
        "id": "zb7ctMWFUcaH",
        "colab_type": "code",
        "colab": {
          "base_uri": "https://localhost:8080/",
          "height": 122
        },
        "outputId": "644e776b-6887-4107-ad3e-9b70b9a2bb01"
      },
      "source": [
        "from google.colab import drive\n",
        "drive.mount('/gdrive')"
      ],
      "execution_count": null,
      "outputs": [
        {
          "output_type": "stream",
          "text": [
            "Go to this URL in a browser: https://accounts.google.com/o/oauth2/auth?client_id=947318989803-6bn6qk8qdgf4n4g3pfee6491hc0brc4i.apps.googleusercontent.com&redirect_uri=urn%3aietf%3awg%3aoauth%3a2.0%3aoob&response_type=code&scope=email%20https%3a%2f%2fwww.googleapis.com%2fauth%2fdocs.test%20https%3a%2f%2fwww.googleapis.com%2fauth%2fdrive%20https%3a%2f%2fwww.googleapis.com%2fauth%2fdrive.photos.readonly%20https%3a%2f%2fwww.googleapis.com%2fauth%2fpeopleapi.readonly\n",
            "\n",
            "Enter your authorization code:\n",
            "··········\n",
            "Mounted at /gdrive\n"
          ],
          "name": "stdout"
        }
      ]
    },
    {
      "cell_type": "code",
      "metadata": {
        "id": "D7HLmc8zUouB",
        "colab_type": "code",
        "colab": {
          "base_uri": "https://localhost:8080/",
          "height": 51
        },
        "outputId": "201b0d38-11ae-4432-b076-bb99a2c6c3dc"
      },
      "source": [
        "!ls /gdrive/'My Drive'/'VB/Video'"
      ],
      "execution_count": null,
      "outputs": [
        {
          "output_type": "stream",
          "text": [
            " Cheshire_Halasz_Perin.pdf   court-diagram.jpg\t OpenCV.ipynb   people.mp4\n",
            " Cheshire_Halasz_Perin.zip  'MBVF M7 S3.mp4'\t panopt.mp4\n"
          ],
          "name": "stdout"
        }
      ]
    },
    {
      "cell_type": "markdown",
      "metadata": {
        "id": "uM1thbN-ntjI",
        "colab_type": "text"
      },
      "source": [
        "Then, we create a detectron2 config and a detectron2 `DefaultPredictor` to run inference on this image."
      ]
    },
    {
      "cell_type": "code",
      "metadata": {
        "id": "HUjkwRsOn1O0",
        "colab_type": "code",
        "colab": {
          "base_uri": "https://localhost:8080/",
          "height": 34
        },
        "outputId": "8f42b87e-6119-4457-9d7a-2c0b99cb6c4a"
      },
      "source": [
        "cfg = get_cfg()\n",
        "# add project-specific config (e.g., TensorMask) here if you're not running a model in detectron2's core library\n",
        "cfg.merge_from_file(model_zoo.get_config_file(\"COCO-InstanceSegmentation/mask_rcnn_R_50_FPN_3x.yaml\"))\n",
        "cfg.MODEL.ROI_HEADS.SCORE_THRESH_TEST = 0.5  # set threshold for this model\n",
        "# Find a model from detectron2's model zoo. You can use the https://dl.fbaipublicfiles... url as well\n",
        "cfg.MODEL.WEIGHTS = model_zoo.get_checkpoint_url(\"COCO-InstanceSegmentation/mask_rcnn_R_50_FPN_3x.yaml\")\n",
        "predictor = DefaultPredictor(cfg)"
      ],
      "execution_count": null,
      "outputs": [
        {
          "output_type": "stream",
          "text": [
            "model_final_f10217.pkl: 178MB [00:10, 17.0MB/s]                           \n"
          ],
          "name": "stderr"
        }
      ]
    },
    {
      "cell_type": "markdown",
      "metadata": {
        "id": "DlF6leCxm_UW",
        "colab_type": "text"
      },
      "source": [
        "### drawPlayers\n",
        "Convert predictions into player positions\n",
        "Draws circles at players feet"
      ]
    },
    {
      "cell_type": "code",
      "metadata": {
        "id": "-EehCLX4Fg8V",
        "colab_type": "code",
        "colab": {}
      },
      "source": [
        "from shapely.geometry import Point, Polygon\n",
        "\n",
        "def drawPlayers(im, instances, frame_no):\n",
        "\n",
        "  font = cv2.FONT_HERSHEY_SIMPLEX\n",
        "  fontScale = 1\n",
        "  color = [255, 0, 0]   \n",
        "  thickness = 2\n",
        "  radius = 10\n",
        "\n",
        "  pred_boxes = instances.get('pred_boxes')\n",
        "  pred_classes = instances.get('pred_classes')\n",
        "  \n",
        "  positions = []\n",
        "  for ix, box in enumerate(pred_boxes):\n",
        "    \n",
        "    # Include only class Person\n",
        "    if pred_classes[ix] == 0:  \n",
        "\n",
        "      xcenter = int((box[0] + box[2]) / 2)\n",
        "      ylower = int(box[3])\n",
        "      player_pos = (xcenter, ylower)\n",
        "\n",
        "      court = Polygon(video_court.squeeze())\n",
        "      # Draw only players that are within the basketball court\n",
        "      if Point(player_pos).within(court):\n",
        "        cv2.circle(im, player_pos, radius, color, thickness)\n",
        "        #cv2.putText(im, str(ix), player_pos, font, fontScale, color, \n",
        "        #            thickness, cv2.LINE_AA)\n",
        "        positions.append({'Frame' : frame_no, 'ID' : ix, 'X': xcenter, 'Y' : ylower})\n",
        "\n",
        "  return positions\n",
        "  "
      ],
      "execution_count": null,
      "outputs": []
    },
    {
      "cell_type": "code",
      "metadata": {
        "id": "XLr5E_hxPCj4",
        "colab_type": "code",
        "colab": {}
      },
      "source": [
        "def createMiniMap(court, positions, M):\n",
        "  court_diagram = court.copy()\n",
        "\n",
        "  # player marker parameters\n",
        "  radius = 10\n",
        "  color = [255, 0, 0]   \n",
        "  thickness = 2\n",
        "\n",
        "  # convert video positions to court diagram positions\n",
        "  df = pd.DataFrame(positions)\n",
        "  src_pts = np.array([df[['X', 'Y']].astype('float32').values])\n",
        "  # print(src_pts, src_pts.shape, src_pts.dtype)\n",
        "  dst_pts = cv2.perspectiveTransform(src_pts, M)\n",
        "  # print(dst_pts)\n",
        "\n",
        "  for pt in dst_pts.squeeze().astype('int'):\n",
        "    cv2.circle(court_diagram, tuple(pt), radius, color, thickness)\n",
        "\n",
        "  miniMap = cv2.resize(court_diagram, (250, 400), interpolation = cv2.INTER_AREA)\n",
        "\n",
        "  return miniMap\n"
      ],
      "execution_count": null,
      "outputs": []
    },
    {
      "cell_type": "code",
      "metadata": {
        "id": "m7bFkBCxqb7p",
        "colab_type": "code",
        "colab": {
          "base_uri": "https://localhost:8080/",
          "height": 68
        },
        "outputId": "4cf6f407-eed6-4cc1-a466-e18f643fb96f"
      },
      "source": [
        "video_court = np.array([[[467, 249], [781, 242], [1274, 588], [630, 656], [3, 619]]])\n",
        "diagram_court = np.array([[[100, 100], [400, 100], [400, 700], [250, 700], [100, 700]]])\n",
        "\n",
        "M, status = cv2.findHomography(video_court, diagram_court)\n",
        "print(video_court.shape, diagram_court.shape, M)"
      ],
      "execution_count": null,
      "outputs": [
        {
          "output_type": "stream",
          "text": [
            "(1, 5, 2) (1, 5, 2) [[-8.13760107e-01 -1.71624918e+00  7.27248394e+02]\n",
            " [-1.38555041e-01 -6.17360827e+00  1.52113806e+03]\n",
            " [-1.53537252e-04 -6.97341772e-03  1.00000000e+00]]\n"
          ],
          "name": "stdout"
        }
      ]
    },
    {
      "cell_type": "code",
      "metadata": {
        "id": "iFtGtDRTXOnV",
        "colab_type": "code",
        "colab": {
          "base_uri": "https://localhost:8080/",
          "height": 88
        },
        "outputId": "fe1abe1a-e86c-4c85-c45b-809d9001c488"
      },
      "source": [
        "v = VideoVisualizer(MetadataCatalog.get(cfg.DATASETS.TRAIN[0]), ColorMode.IMAGE)\n",
        "\n",
        "cap = cv2.VideoCapture('/gdrive/My Drive/VB/Video/MBVF M7 S3.mp4')\n",
        "width = int(cap.get(cv2.CAP_PROP_FRAME_WIDTH))\n",
        "height = int(cap.get(cv2.CAP_PROP_FRAME_HEIGHT))\n",
        "frames_per_second = cap.get(cv2.CAP_PROP_FPS)\n",
        "num_frames = int(cap.get(cv2.CAP_PROP_FRAME_COUNT))\n",
        "\n",
        "court_diagram = cv2.imread('/gdrive/My Drive/VB/Video/court-diagram-vertical.jpg')\n",
        "\n",
        "fourcc = cv2.VideoWriter_fourcc('M', 'P', '4', 'V')\n",
        "videoOut = cv2.VideoWriter('/gdrive/My Drive/VB/Video/people.mp4', fourcc, 20.0, \n",
        "                           (width,height))\n",
        "\n",
        "\n",
        "# skip first 34 seconds\n",
        "for ix in range(int(34 * frames_per_second)):\n",
        "  ret, frame = cap.read()\n",
        "\n",
        "all_pos = []\n",
        "for ix in tqdm(range(int(7 * frames_per_second))):\n",
        "  ret, frame = cap.read()\n",
        "  outputs = predictor(frame)\n",
        "\n",
        "  # add the court outline\n",
        "  frame_poly = cv2.polylines(frame, [video_court], isClosed=True, color=[255,0,0], thickness=2)\n",
        "\n",
        "  # add player locations\n",
        "  player_pos = drawPlayers(frame_poly, outputs['instances'], ix)\n",
        "  all_pos.extend(player_pos)\n",
        "\n",
        "  # create mini map with player positions\n",
        "  miniMap = createMiniMap(court_diagram, player_pos, M)\n",
        "  (w,h,c) = miniMap.shape\n",
        "\n",
        "  #insert mini map into frame\n",
        "  frame_poly[0:w, 0:h, :] = miniMap\n",
        "  \n",
        "  videoOut.write(frame_poly)\n",
        "\n",
        "  # visualization = v.draw_instance_predictions(frame_poly, outputs[\"instances\"].to(\"cpu\"))\n",
        "  # visualization = cv2.cvtColor(visualization.get_image(), cv2.COLOR_RGB2BGR)\n",
        "  # videoOut.write(visualization)\n",
        "\n",
        "videoOut.release()\n",
        "cap.release()\n",
        "\n",
        "print(all_pos)"
      ],
      "execution_count": null,
      "outputs": [
        {
          "output_type": "stream",
          "text": [
            "100%|██████████| 196/196 [01:27<00:00,  2.23it/s]"
          ],
          "name": "stderr"
        },
        {
          "output_type": "stream",
          "text": [
            "[{'Frame': 0, 'ID': 0, 'X': 436, 'Y': 432}, {'Frame': 0, 'ID': 1, 'X': 811, 'Y': 373}, {'Frame': 0, 'ID': 2, 'X': 617, 'Y': 325}, {'Frame': 0, 'ID': 3, 'X': 569, 'Y': 334}, {'Frame': 0, 'ID': 4, 'X': 758, 'Y': 285}, {'Frame': 0, 'ID': 6, 'X': 519, 'Y': 328}, {'Frame': 0, 'ID': 20, 'X': 713, 'Y': 259}, {'Frame': 1, 'ID': 0, 'X': 436, 'Y': 432}, {'Frame': 1, 'ID': 1, 'X': 811, 'Y': 373}, {'Frame': 1, 'ID': 2, 'X': 617, 'Y': 325}, {'Frame': 1, 'ID': 3, 'X': 569, 'Y': 334}, {'Frame': 1, 'ID': 5, 'X': 758, 'Y': 285}, {'Frame': 1, 'ID': 6, 'X': 518, 'Y': 328}, {'Frame': 1, 'ID': 20, 'X': 713, 'Y': 259}, {'Frame': 1, 'ID': 21, 'X': 538, 'Y': 321}, {'Frame': 2, 'ID': 0, 'X': 436, 'Y': 433}, {'Frame': 2, 'ID': 1, 'X': 811, 'Y': 373}, {'Frame': 2, 'ID': 2, 'X': 617, 'Y': 325}, {'Frame': 2, 'ID': 3, 'X': 569, 'Y': 334}, {'Frame': 2, 'ID': 5, 'X': 758, 'Y': 285}, {'Frame': 2, 'ID': 7, 'X': 518, 'Y': 328}, {'Frame': 2, 'ID': 17, 'X': 538, 'Y': 321}, {'Frame': 2, 'ID': 20, 'X': 713, 'Y': 259}, {'Frame': 3, 'ID': 0, 'X': 435, 'Y': 434}, {'Frame': 3, 'ID': 1, 'X': 810, 'Y': 373}, {'Frame': 3, 'ID': 2, 'X': 617, 'Y': 325}, {'Frame': 3, 'ID': 3, 'X': 570, 'Y': 334}, {'Frame': 3, 'ID': 5, 'X': 758, 'Y': 285}, {'Frame': 3, 'ID': 8, 'X': 517, 'Y': 328}, {'Frame': 3, 'ID': 15, 'X': 539, 'Y': 322}, {'Frame': 3, 'ID': 17, 'X': 714, 'Y': 258}, {'Frame': 4, 'ID': 0, 'X': 435, 'Y': 433}, {'Frame': 4, 'ID': 1, 'X': 810, 'Y': 373}, {'Frame': 4, 'ID': 2, 'X': 617, 'Y': 325}, {'Frame': 4, 'ID': 3, 'X': 570, 'Y': 334}, {'Frame': 4, 'ID': 5, 'X': 758, 'Y': 285}, {'Frame': 4, 'ID': 8, 'X': 518, 'Y': 329}, {'Frame': 4, 'ID': 15, 'X': 714, 'Y': 258}, {'Frame': 4, 'ID': 16, 'X': 539, 'Y': 322}, {'Frame': 5, 'ID': 0, 'X': 435, 'Y': 434}, {'Frame': 5, 'ID': 1, 'X': 810, 'Y': 373}, {'Frame': 5, 'ID': 2, 'X': 617, 'Y': 325}, {'Frame': 5, 'ID': 3, 'X': 570, 'Y': 334}, {'Frame': 5, 'ID': 5, 'X': 758, 'Y': 285}, {'Frame': 5, 'ID': 8, 'X': 516, 'Y': 327}, {'Frame': 5, 'ID': 11, 'X': 714, 'Y': 259}, {'Frame': 5, 'ID': 13, 'X': 539, 'Y': 322}, {'Frame': 6, 'ID': 0, 'X': 435, 'Y': 434}, {'Frame': 6, 'ID': 1, 'X': 810, 'Y': 373}, {'Frame': 6, 'ID': 2, 'X': 618, 'Y': 325}, {'Frame': 6, 'ID': 3, 'X': 570, 'Y': 334}, {'Frame': 6, 'ID': 5, 'X': 758, 'Y': 285}, {'Frame': 6, 'ID': 7, 'X': 516, 'Y': 327}, {'Frame': 6, 'ID': 10, 'X': 714, 'Y': 259}, {'Frame': 6, 'ID': 11, 'X': 537, 'Y': 326}, {'Frame': 7, 'ID': 0, 'X': 434, 'Y': 434}, {'Frame': 7, 'ID': 1, 'X': 811, 'Y': 373}, {'Frame': 7, 'ID': 2, 'X': 618, 'Y': 325}, {'Frame': 7, 'ID': 3, 'X': 570, 'Y': 334}, {'Frame': 7, 'ID': 5, 'X': 758, 'Y': 285}, {'Frame': 7, 'ID': 7, 'X': 515, 'Y': 327}, {'Frame': 7, 'ID': 11, 'X': 714, 'Y': 258}, {'Frame': 7, 'ID': 12, 'X': 538, 'Y': 323}, {'Frame': 8, 'ID': 0, 'X': 435, 'Y': 434}, {'Frame': 8, 'ID': 1, 'X': 810, 'Y': 373}, {'Frame': 8, 'ID': 2, 'X': 618, 'Y': 325}, {'Frame': 8, 'ID': 3, 'X': 570, 'Y': 334}, {'Frame': 8, 'ID': 5, 'X': 758, 'Y': 285}, {'Frame': 8, 'ID': 9, 'X': 514, 'Y': 327}, {'Frame': 8, 'ID': 10, 'X': 538, 'Y': 326}, {'Frame': 8, 'ID': 12, 'X': 714, 'Y': 258}, {'Frame': 9, 'ID': 0, 'X': 434, 'Y': 434}, {'Frame': 9, 'ID': 1, 'X': 811, 'Y': 373}, {'Frame': 9, 'ID': 2, 'X': 618, 'Y': 325}, {'Frame': 9, 'ID': 3, 'X': 570, 'Y': 334}, {'Frame': 9, 'ID': 4, 'X': 758, 'Y': 285}, {'Frame': 9, 'ID': 9, 'X': 513, 'Y': 328}, {'Frame': 9, 'ID': 10, 'X': 538, 'Y': 326}, {'Frame': 9, 'ID': 12, 'X': 714, 'Y': 259}, {'Frame': 10, 'ID': 0, 'X': 434, 'Y': 433}, {'Frame': 10, 'ID': 1, 'X': 811, 'Y': 373}, {'Frame': 10, 'ID': 2, 'X': 618, 'Y': 325}, {'Frame': 10, 'ID': 3, 'X': 570, 'Y': 334}, {'Frame': 10, 'ID': 4, 'X': 758, 'Y': 285}, {'Frame': 10, 'ID': 6, 'X': 837, 'Y': 282}, {'Frame': 10, 'ID': 9, 'X': 537, 'Y': 325}, {'Frame': 10, 'ID': 11, 'X': 714, 'Y': 259}, {'Frame': 10, 'ID': 14, 'X': 514, 'Y': 328}, {'Frame': 11, 'ID': 0, 'X': 433, 'Y': 433}, {'Frame': 11, 'ID': 1, 'X': 811, 'Y': 373}, {'Frame': 11, 'ID': 2, 'X': 618, 'Y': 325}, {'Frame': 11, 'ID': 3, 'X': 570, 'Y': 334}, {'Frame': 11, 'ID': 4, 'X': 758, 'Y': 285}, {'Frame': 11, 'ID': 7, 'X': 838, 'Y': 284}, {'Frame': 11, 'ID': 9, 'X': 538, 'Y': 324}, {'Frame': 11, 'ID': 12, 'X': 513, 'Y': 328}, {'Frame': 11, 'ID': 14, 'X': 714, 'Y': 258}, {'Frame': 12, 'ID': 0, 'X': 433, 'Y': 433}, {'Frame': 12, 'ID': 1, 'X': 811, 'Y': 373}, {'Frame': 12, 'ID': 2, 'X': 617, 'Y': 325}, {'Frame': 12, 'ID': 3, 'X': 570, 'Y': 334}, {'Frame': 12, 'ID': 5, 'X': 758, 'Y': 285}, {'Frame': 12, 'ID': 8, 'X': 837, 'Y': 282}, {'Frame': 12, 'ID': 10, 'X': 538, 'Y': 323}, {'Frame': 12, 'ID': 13, 'X': 514, 'Y': 328}, {'Frame': 12, 'ID': 16, 'X': 714, 'Y': 259}, {'Frame': 13, 'ID': 0, 'X': 433, 'Y': 433}, {'Frame': 13, 'ID': 1, 'X': 811, 'Y': 373}, {'Frame': 13, 'ID': 2, 'X': 619, 'Y': 326}, {'Frame': 13, 'ID': 3, 'X': 569, 'Y': 334}, {'Frame': 13, 'ID': 5, 'X': 759, 'Y': 285}, {'Frame': 13, 'ID': 6, 'X': 538, 'Y': 322}, {'Frame': 13, 'ID': 8, 'X': 836, 'Y': 292}, {'Frame': 13, 'ID': 9, 'X': 510, 'Y': 328}, {'Frame': 13, 'ID': 15, 'X': 714, 'Y': 258}, {'Frame': 14, 'ID': 0, 'X': 432, 'Y': 432}, {'Frame': 14, 'ID': 1, 'X': 811, 'Y': 374}, {'Frame': 14, 'ID': 2, 'X': 619, 'Y': 325}, {'Frame': 14, 'ID': 3, 'X': 569, 'Y': 334}, {'Frame': 14, 'ID': 5, 'X': 759, 'Y': 285}, {'Frame': 14, 'ID': 7, 'X': 537, 'Y': 322}, {'Frame': 14, 'ID': 8, 'X': 511, 'Y': 328}, {'Frame': 14, 'ID': 9, 'X': 836, 'Y': 295}, {'Frame': 14, 'ID': 15, 'X': 714, 'Y': 258}, {'Frame': 15, 'ID': 0, 'X': 432, 'Y': 433}, {'Frame': 15, 'ID': 1, 'X': 811, 'Y': 374}, {'Frame': 15, 'ID': 2, 'X': 619, 'Y': 325}, {'Frame': 15, 'ID': 3, 'X': 569, 'Y': 335}, {'Frame': 15, 'ID': 5, 'X': 759, 'Y': 285}, {'Frame': 15, 'ID': 7, 'X': 836, 'Y': 282}, {'Frame': 15, 'ID': 8, 'X': 537, 'Y': 322}, {'Frame': 15, 'ID': 10, 'X': 511, 'Y': 329}, {'Frame': 15, 'ID': 15, 'X': 714, 'Y': 259}, {'Frame': 16, 'ID': 0, 'X': 431, 'Y': 433}, {'Frame': 16, 'ID': 1, 'X': 811, 'Y': 374}, {'Frame': 16, 'ID': 2, 'X': 619, 'Y': 325}, {'Frame': 16, 'ID': 3, 'X': 570, 'Y': 335}, {'Frame': 16, 'ID': 5, 'X': 759, 'Y': 285}, {'Frame': 16, 'ID': 7, 'X': 834, 'Y': 282}, {'Frame': 16, 'ID': 8, 'X': 538, 'Y': 321}, {'Frame': 16, 'ID': 9, 'X': 511, 'Y': 329}, {'Frame': 16, 'ID': 15, 'X': 714, 'Y': 258}, {'Frame': 17, 'ID': 0, 'X': 431, 'Y': 434}, {'Frame': 17, 'ID': 1, 'X': 811, 'Y': 374}, {'Frame': 17, 'ID': 2, 'X': 619, 'Y': 325}, {'Frame': 17, 'ID': 3, 'X': 570, 'Y': 334}, {'Frame': 17, 'ID': 5, 'X': 759, 'Y': 285}, {'Frame': 17, 'ID': 8, 'X': 833, 'Y': 281}, {'Frame': 17, 'ID': 9, 'X': 538, 'Y': 321}, {'Frame': 17, 'ID': 10, 'X': 512, 'Y': 329}, {'Frame': 17, 'ID': 16, 'X': 714, 'Y': 259}, {'Frame': 18, 'ID': 0, 'X': 432, 'Y': 435}, {'Frame': 18, 'ID': 1, 'X': 811, 'Y': 374}, {'Frame': 18, 'ID': 2, 'X': 619, 'Y': 326}, {'Frame': 18, 'ID': 3, 'X': 570, 'Y': 334}, {'Frame': 18, 'ID': 5, 'X': 760, 'Y': 285}, {'Frame': 18, 'ID': 8, 'X': 833, 'Y': 281}, {'Frame': 18, 'ID': 10, 'X': 538, 'Y': 320}, {'Frame': 18, 'ID': 11, 'X': 512, 'Y': 329}, {'Frame': 18, 'ID': 17, 'X': 714, 'Y': 258}, {'Frame': 19, 'ID': 0, 'X': 431, 'Y': 434}, {'Frame': 19, 'ID': 1, 'X': 811, 'Y': 374}, {'Frame': 19, 'ID': 2, 'X': 619, 'Y': 326}, {'Frame': 19, 'ID': 4, 'X': 570, 'Y': 334}, {'Frame': 19, 'ID': 7, 'X': 760, 'Y': 286}, {'Frame': 19, 'ID': 8, 'X': 833, 'Y': 281}, {'Frame': 19, 'ID': 9, 'X': 512, 'Y': 328}, {'Frame': 19, 'ID': 10, 'X': 538, 'Y': 320}, {'Frame': 19, 'ID': 19, 'X': 714, 'Y': 258}, {'Frame': 20, 'ID': 0, 'X': 433, 'Y': 433}, {'Frame': 20, 'ID': 1, 'X': 811, 'Y': 373}, {'Frame': 20, 'ID': 2, 'X': 619, 'Y': 326}, {'Frame': 20, 'ID': 4, 'X': 570, 'Y': 334}, {'Frame': 20, 'ID': 5, 'X': 760, 'Y': 286}, {'Frame': 20, 'ID': 7, 'X': 831, 'Y': 281}, {'Frame': 20, 'ID': 8, 'X': 512, 'Y': 328}, {'Frame': 20, 'ID': 9, 'X': 538, 'Y': 319}, {'Frame': 20, 'ID': 15, 'X': 713, 'Y': 259}, {'Frame': 21, 'ID': 0, 'X': 432, 'Y': 434}, {'Frame': 21, 'ID': 1, 'X': 811, 'Y': 373}, {'Frame': 21, 'ID': 3, 'X': 619, 'Y': 326}, {'Frame': 21, 'ID': 4, 'X': 570, 'Y': 334}, {'Frame': 21, 'ID': 5, 'X': 760, 'Y': 286}, {'Frame': 21, 'ID': 6, 'X': 830, 'Y': 282}, {'Frame': 21, 'ID': 7, 'X': 511, 'Y': 327}, {'Frame': 21, 'ID': 8, 'X': 539, 'Y': 319}, {'Frame': 21, 'ID': 9, 'X': 714, 'Y': 257}, {'Frame': 22, 'ID': 1, 'X': 433, 'Y': 435}, {'Frame': 22, 'ID': 2, 'X': 811, 'Y': 373}, {'Frame': 22, 'ID': 3, 'X': 620, 'Y': 326}, {'Frame': 22, 'ID': 4, 'X': 570, 'Y': 334}, {'Frame': 22, 'ID': 5, 'X': 761, 'Y': 286}, {'Frame': 22, 'ID': 6, 'X': 539, 'Y': 319}, {'Frame': 22, 'ID': 7, 'X': 830, 'Y': 283}, {'Frame': 22, 'ID': 9, 'X': 511, 'Y': 327}, {'Frame': 22, 'ID': 11, 'X': 713, 'Y': 258}, {'Frame': 23, 'ID': 0, 'X': 433, 'Y': 435}, {'Frame': 23, 'ID': 2, 'X': 811, 'Y': 374}, {'Frame': 23, 'ID': 3, 'X': 619, 'Y': 326}, {'Frame': 23, 'ID': 4, 'X': 570, 'Y': 334}, {'Frame': 23, 'ID': 5, 'X': 761, 'Y': 286}, {'Frame': 23, 'ID': 6, 'X': 511, 'Y': 327}, {'Frame': 23, 'ID': 7, 'X': 539, 'Y': 319}, {'Frame': 23, 'ID': 10, 'X': 713, 'Y': 259}, {'Frame': 23, 'ID': 14, 'X': 829, 'Y': 282}, {'Frame': 24, 'ID': 0, 'X': 434, 'Y': 435}, {'Frame': 24, 'ID': 2, 'X': 811, 'Y': 374}, {'Frame': 24, 'ID': 3, 'X': 619, 'Y': 326}, {'Frame': 24, 'ID': 4, 'X': 570, 'Y': 334}, {'Frame': 24, 'ID': 5, 'X': 761, 'Y': 286}, {'Frame': 24, 'ID': 8, 'X': 539, 'Y': 320}, {'Frame': 24, 'ID': 9, 'X': 511, 'Y': 327}, {'Frame': 24, 'ID': 13, 'X': 828, 'Y': 283}, {'Frame': 24, 'ID': 15, 'X': 712, 'Y': 259}, {'Frame': 25, 'ID': 0, 'X': 435, 'Y': 435}, {'Frame': 25, 'ID': 2, 'X': 810, 'Y': 374}, {'Frame': 25, 'ID': 3, 'X': 619, 'Y': 326}, {'Frame': 25, 'ID': 4, 'X': 570, 'Y': 334}, {'Frame': 25, 'ID': 5, 'X': 761, 'Y': 286}, {'Frame': 25, 'ID': 9, 'X': 511, 'Y': 327}, {'Frame': 25, 'ID': 10, 'X': 539, 'Y': 320}, {'Frame': 25, 'ID': 11, 'X': 827, 'Y': 280}, {'Frame': 25, 'ID': 17, 'X': 711, 'Y': 259}, {'Frame': 26, 'ID': 0, 'X': 435, 'Y': 435}, {'Frame': 26, 'ID': 2, 'X': 811, 'Y': 374}, {'Frame': 26, 'ID': 3, 'X': 569, 'Y': 335}, {'Frame': 26, 'ID': 4, 'X': 620, 'Y': 326}, {'Frame': 26, 'ID': 5, 'X': 761, 'Y': 286}, {'Frame': 26, 'ID': 8, 'X': 511, 'Y': 327}, {'Frame': 26, 'ID': 9, 'X': 826, 'Y': 280}, {'Frame': 26, 'ID': 10, 'X': 539, 'Y': 319}, {'Frame': 26, 'ID': 17, 'X': 711, 'Y': 260}, {'Frame': 27, 'ID': 0, 'X': 436, 'Y': 435}, {'Frame': 27, 'ID': 1, 'X': 811, 'Y': 374}, {'Frame': 27, 'ID': 3, 'X': 569, 'Y': 335}, {'Frame': 27, 'ID': 4, 'X': 620, 'Y': 326}, {'Frame': 27, 'ID': 5, 'X': 761, 'Y': 286}, {'Frame': 27, 'ID': 8, 'X': 511, 'Y': 327}, {'Frame': 27, 'ID': 9, 'X': 540, 'Y': 319}, {'Frame': 27, 'ID': 11, 'X': 825, 'Y': 288}, {'Frame': 27, 'ID': 13, 'X': 710, 'Y': 260}, {'Frame': 28, 'ID': 0, 'X': 436, 'Y': 435}, {'Frame': 28, 'ID': 2, 'X': 811, 'Y': 374}, {'Frame': 28, 'ID': 3, 'X': 569, 'Y': 335}, {'Frame': 28, 'ID': 4, 'X': 620, 'Y': 326}, {'Frame': 28, 'ID': 5, 'X': 760, 'Y': 286}, {'Frame': 28, 'ID': 6, 'X': 511, 'Y': 327}, {'Frame': 28, 'ID': 9, 'X': 540, 'Y': 321}, {'Frame': 28, 'ID': 10, 'X': 824, 'Y': 294}, {'Frame': 28, 'ID': 11, 'X': 710, 'Y': 260}, {'Frame': 29, 'ID': 0, 'X': 436, 'Y': 435}, {'Frame': 29, 'ID': 2, 'X': 811, 'Y': 373}, {'Frame': 29, 'ID': 3, 'X': 569, 'Y': 335}, {'Frame': 29, 'ID': 4, 'X': 760, 'Y': 286}, {'Frame': 29, 'ID': 5, 'X': 620, 'Y': 326}, {'Frame': 29, 'ID': 6, 'X': 511, 'Y': 327}, {'Frame': 29, 'ID': 8, 'X': 823, 'Y': 295}, {'Frame': 29, 'ID': 9, 'X': 710, 'Y': 260}, {'Frame': 29, 'ID': 10, 'X': 540, 'Y': 320}, {'Frame': 30, 'ID': 0, 'X': 437, 'Y': 435}, {'Frame': 30, 'ID': 2, 'X': 811, 'Y': 373}, {'Frame': 30, 'ID': 3, 'X': 570, 'Y': 335}, {'Frame': 30, 'ID': 4, 'X': 760, 'Y': 286}, {'Frame': 30, 'ID': 5, 'X': 621, 'Y': 328}, {'Frame': 30, 'ID': 6, 'X': 511, 'Y': 327}, {'Frame': 30, 'ID': 9, 'X': 540, 'Y': 319}, {'Frame': 30, 'ID': 10, 'X': 822, 'Y': 297}, {'Frame': 30, 'ID': 11, 'X': 710, 'Y': 259}, {'Frame': 31, 'ID': 1, 'X': 436, 'Y': 433}, {'Frame': 31, 'ID': 2, 'X': 811, 'Y': 373}, {'Frame': 31, 'ID': 3, 'X': 570, 'Y': 336}, {'Frame': 31, 'ID': 4, 'X': 759, 'Y': 286}, {'Frame': 31, 'ID': 5, 'X': 621, 'Y': 327}, {'Frame': 31, 'ID': 7, 'X': 511, 'Y': 328}, {'Frame': 31, 'ID': 8, 'X': 540, 'Y': 319}, {'Frame': 31, 'ID': 9, 'X': 822, 'Y': 292}, {'Frame': 31, 'ID': 11, 'X': 711, 'Y': 260}, {'Frame': 32, 'ID': 1, 'X': 436, 'Y': 435}, {'Frame': 32, 'ID': 2, 'X': 811, 'Y': 373}, {'Frame': 32, 'ID': 3, 'X': 570, 'Y': 336}, {'Frame': 32, 'ID': 4, 'X': 759, 'Y': 286}, {'Frame': 32, 'ID': 6, 'X': 621, 'Y': 326}, {'Frame': 32, 'ID': 7, 'X': 511, 'Y': 327}, {'Frame': 32, 'ID': 9, 'X': 711, 'Y': 259}, {'Frame': 32, 'ID': 10, 'X': 821, 'Y': 280}, {'Frame': 32, 'ID': 11, 'X': 539, 'Y': 323}, {'Frame': 33, 'ID': 1, 'X': 436, 'Y': 434}, {'Frame': 33, 'ID': 2, 'X': 811, 'Y': 373}, {'Frame': 33, 'ID': 3, 'X': 570, 'Y': 336}, {'Frame': 33, 'ID': 4, 'X': 760, 'Y': 286}, {'Frame': 33, 'ID': 5, 'X': 621, 'Y': 327}, {'Frame': 33, 'ID': 7, 'X': 511, 'Y': 327}, {'Frame': 33, 'ID': 8, 'X': 818, 'Y': 282}, {'Frame': 33, 'ID': 11, 'X': 711, 'Y': 261}, {'Frame': 33, 'ID': 12, 'X': 539, 'Y': 323}, {'Frame': 34, 'ID': 0, 'X': 436, 'Y': 435}, {'Frame': 34, 'ID': 1, 'X': 811, 'Y': 373}, {'Frame': 34, 'ID': 4, 'X': 759, 'Y': 287}, {'Frame': 34, 'ID': 5, 'X': 569, 'Y': 336}, {'Frame': 34, 'ID': 6, 'X': 621, 'Y': 326}, {'Frame': 34, 'ID': 7, 'X': 511, 'Y': 328}, {'Frame': 34, 'ID': 8, 'X': 539, 'Y': 324}, {'Frame': 34, 'ID': 9, 'X': 712, 'Y': 260}, {'Frame': 34, 'ID': 10, 'X': 818, 'Y': 283}, {'Frame': 35, 'ID': 0, 'X': 436, 'Y': 434}, {'Frame': 35, 'ID': 2, 'X': 811, 'Y': 373}, {'Frame': 35, 'ID': 3, 'X': 759, 'Y': 287}, {'Frame': 35, 'ID': 4, 'X': 569, 'Y': 336}, {'Frame': 35, 'ID': 6, 'X': 620, 'Y': 326}, {'Frame': 35, 'ID': 7, 'X': 511, 'Y': 328}, {'Frame': 35, 'ID': 8, 'X': 816, 'Y': 289}, {'Frame': 35, 'ID': 9, 'X': 713, 'Y': 261}, {'Frame': 35, 'ID': 10, 'X': 539, 'Y': 320}, {'Frame': 36, 'ID': 0, 'X': 437, 'Y': 435}, {'Frame': 36, 'ID': 2, 'X': 811, 'Y': 373}, {'Frame': 36, 'ID': 3, 'X': 570, 'Y': 337}, {'Frame': 36, 'ID': 4, 'X': 758, 'Y': 286}, {'Frame': 36, 'ID': 6, 'X': 621, 'Y': 326}, {'Frame': 36, 'ID': 7, 'X': 713, 'Y': 262}, {'Frame': 36, 'ID': 8, 'X': 511, 'Y': 327}, {'Frame': 36, 'ID': 9, 'X': 817, 'Y': 282}, {'Frame': 36, 'ID': 11, 'X': 538, 'Y': 321}, {'Frame': 37, 'ID': 0, 'X': 437, 'Y': 435}, {'Frame': 37, 'ID': 1, 'X': 811, 'Y': 373}, {'Frame': 37, 'ID': 3, 'X': 570, 'Y': 337}, {'Frame': 37, 'ID': 4, 'X': 758, 'Y': 286}, {'Frame': 37, 'ID': 5, 'X': 621, 'Y': 327}, {'Frame': 37, 'ID': 6, 'X': 713, 'Y': 262}, {'Frame': 37, 'ID': 7, 'X': 510, 'Y': 328}, {'Frame': 37, 'ID': 9, 'X': 817, 'Y': 283}, {'Frame': 37, 'ID': 11, 'X': 539, 'Y': 321}, {'Frame': 38, 'ID': 0, 'X': 437, 'Y': 435}, {'Frame': 38, 'ID': 1, 'X': 811, 'Y': 374}, {'Frame': 38, 'ID': 2, 'X': 571, 'Y': 336}, {'Frame': 38, 'ID': 3, 'X': 756, 'Y': 286}, {'Frame': 38, 'ID': 5, 'X': 622, 'Y': 326}, {'Frame': 38, 'ID': 7, 'X': 714, 'Y': 263}, {'Frame': 38, 'ID': 9, 'X': 538, 'Y': 321}, {'Frame': 38, 'ID': 10, 'X': 510, 'Y': 328}, {'Frame': 38, 'ID': 12, 'X': 817, 'Y': 279}, {'Frame': 39, 'ID': 0, 'X': 437, 'Y': 435}, {'Frame': 39, 'ID': 1, 'X': 811, 'Y': 373}, {'Frame': 39, 'ID': 3, 'X': 756, 'Y': 286}, {'Frame': 39, 'ID': 4, 'X': 572, 'Y': 337}, {'Frame': 39, 'ID': 5, 'X': 621, 'Y': 328}, {'Frame': 39, 'ID': 7, 'X': 715, 'Y': 262}, {'Frame': 39, 'ID': 8, 'X': 511, 'Y': 329}, {'Frame': 39, 'ID': 9, 'X': 538, 'Y': 322}, {'Frame': 39, 'ID': 17, 'X': 815, 'Y': 280}, {'Frame': 40, 'ID': 1, 'X': 437, 'Y': 435}, {'Frame': 40, 'ID': 2, 'X': 811, 'Y': 373}, {'Frame': 40, 'ID': 3, 'X': 756, 'Y': 286}, {'Frame': 40, 'ID': 4, 'X': 572, 'Y': 338}, {'Frame': 40, 'ID': 5, 'X': 622, 'Y': 328}, {'Frame': 40, 'ID': 7, 'X': 714, 'Y': 262}, {'Frame': 40, 'ID': 8, 'X': 512, 'Y': 329}, {'Frame': 40, 'ID': 9, 'X': 539, 'Y': 321}, {'Frame': 40, 'ID': 18, 'X': 815, 'Y': 279}, {'Frame': 41, 'ID': 1, 'X': 437, 'Y': 435}, {'Frame': 41, 'ID': 2, 'X': 811, 'Y': 373}, {'Frame': 41, 'ID': 3, 'X': 755, 'Y': 286}, {'Frame': 41, 'ID': 4, 'X': 574, 'Y': 337}, {'Frame': 41, 'ID': 5, 'X': 622, 'Y': 327}, {'Frame': 41, 'ID': 8, 'X': 510, 'Y': 328}, {'Frame': 41, 'ID': 9, 'X': 715, 'Y': 262}, {'Frame': 41, 'ID': 10, 'X': 538, 'Y': 320}, {'Frame': 41, 'ID': 23, 'X': 815, 'Y': 279}, {'Frame': 42, 'ID': 0, 'X': 1022, 'Y': 611}, {'Frame': 42, 'ID': 1, 'X': 437, 'Y': 435}, {'Frame': 42, 'ID': 2, 'X': 811, 'Y': 373}, {'Frame': 42, 'ID': 3, 'X': 755, 'Y': 286}, {'Frame': 42, 'ID': 4, 'X': 572, 'Y': 337}, {'Frame': 42, 'ID': 5, 'X': 622, 'Y': 329}, {'Frame': 42, 'ID': 7, 'X': 715, 'Y': 262}, {'Frame': 42, 'ID': 9, 'X': 539, 'Y': 320}, {'Frame': 42, 'ID': 10, 'X': 510, 'Y': 328}, {'Frame': 42, 'ID': 19, 'X': 814, 'Y': 280}, {'Frame': 43, 'ID': 0, 'X': 1016, 'Y': 603}, {'Frame': 43, 'ID': 1, 'X': 437, 'Y': 435}, {'Frame': 43, 'ID': 2, 'X': 811, 'Y': 372}, {'Frame': 43, 'ID': 3, 'X': 755, 'Y': 287}, {'Frame': 43, 'ID': 5, 'X': 575, 'Y': 337}, {'Frame': 43, 'ID': 7, 'X': 622, 'Y': 328}, {'Frame': 43, 'ID': 8, 'X': 539, 'Y': 322}, {'Frame': 43, 'ID': 9, 'X': 716, 'Y': 262}, {'Frame': 43, 'ID': 11, 'X': 510, 'Y': 329}, {'Frame': 43, 'ID': 21, 'X': 814, 'Y': 279}, {'Frame': 44, 'ID': 0, 'X': 1015, 'Y': 603}, {'Frame': 44, 'ID': 1, 'X': 437, 'Y': 435}, {'Frame': 44, 'ID': 2, 'X': 811, 'Y': 373}, {'Frame': 44, 'ID': 3, 'X': 755, 'Y': 286}, {'Frame': 44, 'ID': 4, 'X': 623, 'Y': 331}, {'Frame': 44, 'ID': 6, 'X': 580, 'Y': 336}, {'Frame': 44, 'ID': 7, 'X': 539, 'Y': 321}, {'Frame': 44, 'ID': 8, 'X': 511, 'Y': 328}, {'Frame': 44, 'ID': 10, 'X': 716, 'Y': 262}, {'Frame': 44, 'ID': 22, 'X': 814, 'Y': 281}, {'Frame': 45, 'ID': 0, 'X': 1000, 'Y': 588}, {'Frame': 45, 'ID': 1, 'X': 437, 'Y': 435}, {'Frame': 45, 'ID': 2, 'X': 811, 'Y': 373}, {'Frame': 45, 'ID': 3, 'X': 755, 'Y': 286}, {'Frame': 45, 'ID': 4, 'X': 585, 'Y': 336}, {'Frame': 45, 'ID': 5, 'X': 624, 'Y': 328}, {'Frame': 45, 'ID': 7, 'X': 539, 'Y': 319}, {'Frame': 45, 'ID': 8, 'X': 716, 'Y': 262}, {'Frame': 45, 'ID': 10, 'X': 514, 'Y': 329}, {'Frame': 45, 'ID': 27, 'X': 813, 'Y': 278}, {'Frame': 46, 'ID': 0, 'X': 991, 'Y': 579}, {'Frame': 46, 'ID': 1, 'X': 437, 'Y': 435}, {'Frame': 46, 'ID': 2, 'X': 811, 'Y': 373}, {'Frame': 46, 'ID': 3, 'X': 756, 'Y': 286}, {'Frame': 46, 'ID': 4, 'X': 590, 'Y': 335}, {'Frame': 46, 'ID': 5, 'X': 624, 'Y': 329}, {'Frame': 46, 'ID': 7, 'X': 716, 'Y': 262}, {'Frame': 46, 'ID': 8, 'X': 539, 'Y': 321}, {'Frame': 46, 'ID': 10, 'X': 515, 'Y': 328}, {'Frame': 46, 'ID': 21, 'X': 813, 'Y': 277}, {'Frame': 46, 'ID': 30, 'X': 527, 'Y': 328}, {'Frame': 47, 'ID': 0, 'X': 985, 'Y': 571}, {'Frame': 47, 'ID': 1, 'X': 437, 'Y': 435}, {'Frame': 47, 'ID': 2, 'X': 811, 'Y': 373}, {'Frame': 47, 'ID': 3, 'X': 594, 'Y': 335}, {'Frame': 47, 'ID': 4, 'X': 755, 'Y': 287}, {'Frame': 47, 'ID': 5, 'X': 624, 'Y': 326}, {'Frame': 47, 'ID': 7, 'X': 717, 'Y': 263}, {'Frame': 47, 'ID': 8, 'X': 539, 'Y': 320}, {'Frame': 47, 'ID': 9, 'X': 515, 'Y': 328}, {'Frame': 47, 'ID': 15, 'X': 812, 'Y': 275}, {'Frame': 48, 'ID': 0, 'X': 979, 'Y': 576}, {'Frame': 48, 'ID': 1, 'X': 436, 'Y': 432}, {'Frame': 48, 'ID': 2, 'X': 811, 'Y': 374}, {'Frame': 48, 'ID': 3, 'X': 599, 'Y': 332}, {'Frame': 48, 'ID': 4, 'X': 756, 'Y': 286}, {'Frame': 48, 'ID': 6, 'X': 624, 'Y': 326}, {'Frame': 48, 'ID': 7, 'X': 539, 'Y': 319}, {'Frame': 48, 'ID': 9, 'X': 516, 'Y': 328}, {'Frame': 48, 'ID': 10, 'X': 719, 'Y': 262}, {'Frame': 48, 'ID': 14, 'X': 809, 'Y': 282}, {'Frame': 49, 'ID': 0, 'X': 974, 'Y': 590}, {'Frame': 49, 'ID': 1, 'X': 436, 'Y': 432}, {'Frame': 49, 'ID': 2, 'X': 811, 'Y': 374}, {'Frame': 49, 'ID': 3, 'X': 756, 'Y': 286}, {'Frame': 49, 'ID': 4, 'X': 601, 'Y': 335}, {'Frame': 49, 'ID': 6, 'X': 539, 'Y': 319}, {'Frame': 49, 'ID': 8, 'X': 808, 'Y': 284}, {'Frame': 49, 'ID': 9, 'X': 624, 'Y': 325}, {'Frame': 49, 'ID': 10, 'X': 516, 'Y': 328}, {'Frame': 49, 'ID': 11, 'X': 719, 'Y': 264}, {'Frame': 50, 'ID': 0, 'X': 968, 'Y': 597}, {'Frame': 50, 'ID': 1, 'X': 437, 'Y': 435}, {'Frame': 50, 'ID': 2, 'X': 811, 'Y': 374}, {'Frame': 50, 'ID': 3, 'X': 755, 'Y': 286}, {'Frame': 50, 'ID': 4, 'X': 609, 'Y': 334}, {'Frame': 50, 'ID': 6, 'X': 539, 'Y': 319}, {'Frame': 50, 'ID': 7, 'X': 516, 'Y': 327}, {'Frame': 50, 'ID': 9, 'X': 806, 'Y': 282}, {'Frame': 50, 'ID': 11, 'X': 719, 'Y': 264}, {'Frame': 51, 'ID': 0, 'X': 970, 'Y': 594}, {'Frame': 51, 'ID': 1, 'X': 435, 'Y': 432}, {'Frame': 51, 'ID': 2, 'X': 811, 'Y': 374}, {'Frame': 51, 'ID': 3, 'X': 607, 'Y': 333}, {'Frame': 51, 'ID': 4, 'X': 758, 'Y': 287}, {'Frame': 51, 'ID': 5, 'X': 540, 'Y': 318}, {'Frame': 51, 'ID': 7, 'X': 804, 'Y': 281}, {'Frame': 51, 'ID': 12, 'X': 515, 'Y': 327}, {'Frame': 51, 'ID': 15, 'X': 720, 'Y': 264}, {'Frame': 52, 'ID': 0, 'X': 970, 'Y': 595}, {'Frame': 52, 'ID': 1, 'X': 435, 'Y': 432}, {'Frame': 52, 'ID': 2, 'X': 811, 'Y': 374}, {'Frame': 52, 'ID': 3, 'X': 609, 'Y': 334}, {'Frame': 52, 'ID': 4, 'X': 758, 'Y': 287}, {'Frame': 52, 'ID': 5, 'X': 540, 'Y': 318}, {'Frame': 52, 'ID': 7, 'X': 803, 'Y': 282}, {'Frame': 52, 'ID': 9, 'X': 517, 'Y': 327}, {'Frame': 52, 'ID': 15, 'X': 720, 'Y': 264}, {'Frame': 53, 'ID': 0, 'X': 961, 'Y': 587}, {'Frame': 53, 'ID': 1, 'X': 436, 'Y': 435}, {'Frame': 53, 'ID': 2, 'X': 810, 'Y': 374}, {'Frame': 53, 'ID': 3, 'X': 617, 'Y': 335}, {'Frame': 53, 'ID': 4, 'X': 542, 'Y': 318}, {'Frame': 53, 'ID': 7, 'X': 518, 'Y': 327}, {'Frame': 53, 'ID': 8, 'X': 801, 'Y': 282}, {'Frame': 53, 'ID': 9, 'X': 760, 'Y': 288}, {'Frame': 53, 'ID': 15, 'X': 720, 'Y': 264}, {'Frame': 53, 'ID': 18, 'X': 624, 'Y': 255}, {'Frame': 54, 'ID': 0, 'X': 955, 'Y': 584}, {'Frame': 54, 'ID': 1, 'X': 435, 'Y': 435}, {'Frame': 54, 'ID': 2, 'X': 810, 'Y': 374}, {'Frame': 54, 'ID': 3, 'X': 617, 'Y': 336}, {'Frame': 54, 'ID': 4, 'X': 542, 'Y': 318}, {'Frame': 54, 'ID': 6, 'X': 758, 'Y': 288}, {'Frame': 54, 'ID': 7, 'X': 518, 'Y': 326}, {'Frame': 54, 'ID': 11, 'X': 721, 'Y': 264}, {'Frame': 54, 'ID': 20, 'X': 801, 'Y': 280}, {'Frame': 55, 'ID': 0, 'X': 950, 'Y': 579}, {'Frame': 55, 'ID': 1, 'X': 435, 'Y': 435}, {'Frame': 55, 'ID': 2, 'X': 810, 'Y': 374}, {'Frame': 55, 'ID': 3, 'X': 542, 'Y': 319}, {'Frame': 55, 'ID': 4, 'X': 760, 'Y': 286}, {'Frame': 55, 'ID': 5, 'X': 619, 'Y': 331}, {'Frame': 55, 'ID': 7, 'X': 517, 'Y': 326}, {'Frame': 55, 'ID': 12, 'X': 720, 'Y': 264}, {'Frame': 55, 'ID': 15, 'X': 619, 'Y': 271}, {'Frame': 55, 'ID': 21, 'X': 796, 'Y': 296}, {'Frame': 56, 'ID': 0, 'X': 942, 'Y': 575}, {'Frame': 56, 'ID': 1, 'X': 434, 'Y': 435}, {'Frame': 56, 'ID': 2, 'X': 810, 'Y': 374}, {'Frame': 56, 'ID': 3, 'X': 761, 'Y': 288}, {'Frame': 56, 'ID': 4, 'X': 628, 'Y': 336}, {'Frame': 56, 'ID': 5, 'X': 543, 'Y': 319}, {'Frame': 56, 'ID': 7, 'X': 518, 'Y': 327}, {'Frame': 56, 'ID': 9, 'X': 720, 'Y': 264}, {'Frame': 56, 'ID': 18, 'X': 623, 'Y': 293}, {'Frame': 57, 'ID': 0, 'X': 434, 'Y': 434}, {'Frame': 57, 'ID': 1, 'X': 930, 'Y': 575}, {'Frame': 57, 'ID': 2, 'X': 810, 'Y': 373}, {'Frame': 57, 'ID': 3, 'X': 618, 'Y': 326}, {'Frame': 57, 'ID': 4, 'X': 642, 'Y': 335}, {'Frame': 57, 'ID': 6, 'X': 543, 'Y': 320}, {'Frame': 57, 'ID': 7, 'X': 517, 'Y': 327}, {'Frame': 57, 'ID': 8, 'X': 765, 'Y': 288}, {'Frame': 57, 'ID': 9, 'X': 720, 'Y': 263}, {'Frame': 57, 'ID': 25, 'X': 788, 'Y': 294}, {'Frame': 58, 'ID': 0, 'X': 434, 'Y': 434}, {'Frame': 58, 'ID': 1, 'X': 927, 'Y': 573}, {'Frame': 58, 'ID': 2, 'X': 810, 'Y': 373}, {'Frame': 58, 'ID': 3, 'X': 543, 'Y': 320}, {'Frame': 58, 'ID': 4, 'X': 620, 'Y': 325}, {'Frame': 58, 'ID': 6, 'X': 518, 'Y': 327}, {'Frame': 58, 'ID': 7, 'X': 638, 'Y': 336}, {'Frame': 58, 'ID': 8, 'X': 766, 'Y': 289}, {'Frame': 58, 'ID': 9, 'X': 720, 'Y': 262}, {'Frame': 58, 'ID': 16, 'X': 781, 'Y': 294}, {'Frame': 59, 'ID': 0, 'X': 922, 'Y': 567}, {'Frame': 59, 'ID': 1, 'X': 434, 'Y': 433}, {'Frame': 59, 'ID': 2, 'X': 810, 'Y': 374}, {'Frame': 59, 'ID': 3, 'X': 645, 'Y': 336}, {'Frame': 59, 'ID': 4, 'X': 623, 'Y': 326}, {'Frame': 59, 'ID': 6, 'X': 544, 'Y': 320}, {'Frame': 59, 'ID': 7, 'X': 519, 'Y': 328}, {'Frame': 59, 'ID': 9, 'X': 721, 'Y': 263}, {'Frame': 59, 'ID': 10, 'X': 779, 'Y': 291}, {'Frame': 60, 'ID': 0, 'X': 912, 'Y': 567}, {'Frame': 60, 'ID': 1, 'X': 436, 'Y': 433}, {'Frame': 60, 'ID': 2, 'X': 810, 'Y': 374}, {'Frame': 60, 'ID': 3, 'X': 622, 'Y': 327}, {'Frame': 60, 'ID': 4, 'X': 654, 'Y': 336}, {'Frame': 60, 'ID': 5, 'X': 545, 'Y': 320}, {'Frame': 60, 'ID': 6, 'X': 780, 'Y': 297}, {'Frame': 60, 'ID': 8, 'X': 522, 'Y': 328}, {'Frame': 60, 'ID': 9, 'X': 722, 'Y': 264}, {'Frame': 61, 'ID': 0, 'X': 907, 'Y': 547}, {'Frame': 61, 'ID': 1, 'X': 436, 'Y': 432}, {'Frame': 61, 'ID': 2, 'X': 810, 'Y': 375}, {'Frame': 61, 'ID': 3, 'X': 625, 'Y': 326}, {'Frame': 61, 'ID': 4, 'X': 780, 'Y': 296}, {'Frame': 61, 'ID': 5, 'X': 545, 'Y': 320}, {'Frame': 61, 'ID': 7, 'X': 520, 'Y': 328}, {'Frame': 61, 'ID': 8, 'X': 658, 'Y': 334}, {'Frame': 61, 'ID': 9, 'X': 722, 'Y': 264}, {'Frame': 62, 'ID': 0, 'X': 899, 'Y': 547}, {'Frame': 62, 'ID': 1, 'X': 437, 'Y': 431}, {'Frame': 62, 'ID': 2, 'X': 810, 'Y': 374}, {'Frame': 62, 'ID': 3, 'X': 622, 'Y': 326}, {'Frame': 62, 'ID': 4, 'X': 782, 'Y': 297}, {'Frame': 62, 'ID': 6, 'X': 664, 'Y': 336}, {'Frame': 62, 'ID': 7, 'X': 523, 'Y': 328}, {'Frame': 62, 'ID': 9, 'X': 722, 'Y': 264}, {'Frame': 62, 'ID': 10, 'X': 544, 'Y': 321}, {'Frame': 63, 'ID': 0, 'X': 438, 'Y': 431}, {'Frame': 63, 'ID': 1, 'X': 892, 'Y': 539}, {'Frame': 63, 'ID': 2, 'X': 810, 'Y': 374}, {'Frame': 63, 'ID': 3, 'X': 620, 'Y': 327}, {'Frame': 63, 'ID': 4, 'X': 663, 'Y': 333}, {'Frame': 63, 'ID': 5, 'X': 529, 'Y': 327}, {'Frame': 63, 'ID': 7, 'X': 781, 'Y': 297}, {'Frame': 63, 'ID': 12, 'X': 722, 'Y': 263}, {'Frame': 64, 'ID': 0, 'X': 886, 'Y': 530}, {'Frame': 64, 'ID': 1, 'X': 441, 'Y': 431}, {'Frame': 64, 'ID': 2, 'X': 810, 'Y': 374}, {'Frame': 64, 'ID': 3, 'X': 622, 'Y': 327}, {'Frame': 64, 'ID': 4, 'X': 666, 'Y': 334}, {'Frame': 64, 'ID': 5, 'X': 781, 'Y': 296}, {'Frame': 64, 'ID': 7, 'X': 532, 'Y': 327}, {'Frame': 64, 'ID': 11, 'X': 722, 'Y': 263}, {'Frame': 65, 'ID': 0, 'X': 876, 'Y': 528}, {'Frame': 65, 'ID': 1, 'X': 445, 'Y': 429}, {'Frame': 65, 'ID': 2, 'X': 811, 'Y': 372}, {'Frame': 65, 'ID': 3, 'X': 622, 'Y': 327}, {'Frame': 65, 'ID': 4, 'X': 535, 'Y': 326}, {'Frame': 65, 'ID': 5, 'X': 673, 'Y': 331}, {'Frame': 65, 'ID': 7, 'X': 780, 'Y': 295}, {'Frame': 65, 'ID': 11, 'X': 722, 'Y': 263}, {'Frame': 66, 'ID': 0, 'X': 864, 'Y': 531}, {'Frame': 66, 'ID': 1, 'X': 447, 'Y': 430}, {'Frame': 66, 'ID': 2, 'X': 808, 'Y': 371}, {'Frame': 66, 'ID': 3, 'X': 623, 'Y': 325}, {'Frame': 66, 'ID': 4, 'X': 678, 'Y': 328}, {'Frame': 66, 'ID': 5, 'X': 533, 'Y': 327}, {'Frame': 66, 'ID': 7, 'X': 783, 'Y': 296}, {'Frame': 66, 'ID': 12, 'X': 721, 'Y': 262}, {'Frame': 67, 'ID': 0, 'X': 856, 'Y': 526}, {'Frame': 67, 'ID': 1, 'X': 448, 'Y': 429}, {'Frame': 67, 'ID': 2, 'X': 623, 'Y': 325}, {'Frame': 67, 'ID': 3, 'X': 807, 'Y': 371}, {'Frame': 67, 'ID': 4, 'X': 681, 'Y': 330}, {'Frame': 67, 'ID': 5, 'X': 536, 'Y': 327}, {'Frame': 67, 'ID': 8, 'X': 782, 'Y': 295}, {'Frame': 67, 'ID': 13, 'X': 721, 'Y': 262}, {'Frame': 68, 'ID': 0, 'X': 844, 'Y': 522}, {'Frame': 68, 'ID': 1, 'X': 451, 'Y': 429}, {'Frame': 68, 'ID': 2, 'X': 622, 'Y': 326}, {'Frame': 68, 'ID': 3, 'X': 807, 'Y': 371}, {'Frame': 68, 'ID': 4, 'X': 689, 'Y': 328}, {'Frame': 68, 'ID': 5, 'X': 532, 'Y': 326}, {'Frame': 68, 'ID': 13, 'X': 777, 'Y': 293}, {'Frame': 68, 'ID': 15, 'X': 722, 'Y': 260}, {'Frame': 69, 'ID': 0, 'X': 836, 'Y': 521}, {'Frame': 69, 'ID': 1, 'X': 451, 'Y': 430}, {'Frame': 69, 'ID': 2, 'X': 623, 'Y': 327}, {'Frame': 69, 'ID': 3, 'X': 694, 'Y': 327}, {'Frame': 69, 'ID': 4, 'X': 807, 'Y': 371}, {'Frame': 69, 'ID': 5, 'X': 531, 'Y': 327}, {'Frame': 69, 'ID': 8, 'X': 771, 'Y': 292}, {'Frame': 69, 'ID': 17, 'X': 723, 'Y': 260}, {'Frame': 70, 'ID': 0, 'X': 831, 'Y': 519}, {'Frame': 70, 'ID': 1, 'X': 452, 'Y': 429}, {'Frame': 70, 'ID': 2, 'X': 623, 'Y': 327}, {'Frame': 70, 'ID': 3, 'X': 807, 'Y': 374}, {'Frame': 70, 'ID': 4, 'X': 699, 'Y': 328}, {'Frame': 70, 'ID': 5, 'X': 530, 'Y': 327}, {'Frame': 70, 'ID': 7, 'X': 768, 'Y': 292}, {'Frame': 71, 'ID': 0, 'X': 827, 'Y': 517}, {'Frame': 71, 'ID': 1, 'X': 453, 'Y': 429}, {'Frame': 71, 'ID': 2, 'X': 624, 'Y': 326}, {'Frame': 71, 'ID': 3, 'X': 705, 'Y': 328}, {'Frame': 71, 'ID': 4, 'X': 531, 'Y': 327}, {'Frame': 71, 'ID': 6, 'X': 764, 'Y': 292}, {'Frame': 71, 'ID': 11, 'X': 807, 'Y': 372}, {'Frame': 72, 'ID': 0, 'X': 826, 'Y': 511}, {'Frame': 72, 'ID': 1, 'X': 623, 'Y': 326}, {'Frame': 72, 'ID': 2, 'X': 453, 'Y': 428}, {'Frame': 72, 'ID': 3, 'X': 710, 'Y': 328}, {'Frame': 72, 'ID': 4, 'X': 533, 'Y': 326}, {'Frame': 72, 'ID': 5, 'X': 812, 'Y': 349}, {'Frame': 72, 'ID': 8, 'X': 762, 'Y': 293}, {'Frame': 73, 'ID': 0, 'X': 822, 'Y': 504}, {'Frame': 73, 'ID': 1, 'X': 622, 'Y': 326}, {'Frame': 73, 'ID': 2, 'X': 454, 'Y': 428}, {'Frame': 73, 'ID': 3, 'X': 716, 'Y': 328}, {'Frame': 73, 'ID': 4, 'X': 532, 'Y': 326}, {'Frame': 73, 'ID': 6, 'X': 814, 'Y': 356}, {'Frame': 73, 'ID': 10, 'X': 759, 'Y': 293}, {'Frame': 74, 'ID': 0, 'X': 816, 'Y': 500}, {'Frame': 74, 'ID': 1, 'X': 622, 'Y': 328}, {'Frame': 74, 'ID': 2, 'X': 456, 'Y': 427}, {'Frame': 74, 'ID': 3, 'X': 721, 'Y': 328}, {'Frame': 74, 'ID': 4, 'X': 814, 'Y': 363}, {'Frame': 74, 'ID': 5, 'X': 532, 'Y': 326}, {'Frame': 74, 'ID': 11, 'X': 755, 'Y': 292}, {'Frame': 75, 'ID': 0, 'X': 802, 'Y': 495}, {'Frame': 75, 'ID': 1, 'X': 622, 'Y': 329}, {'Frame': 75, 'ID': 2, 'X': 460, 'Y': 424}, {'Frame': 75, 'ID': 3, 'X': 723, 'Y': 328}, {'Frame': 75, 'ID': 4, 'X': 815, 'Y': 366}, {'Frame': 75, 'ID': 6, 'X': 532, 'Y': 325}, {'Frame': 75, 'ID': 11, 'X': 755, 'Y': 293}, {'Frame': 75, 'ID': 24, 'X': 810, 'Y': 264}, {'Frame': 76, 'ID': 0, 'X': 795, 'Y': 495}, {'Frame': 76, 'ID': 1, 'X': 621, 'Y': 327}, {'Frame': 76, 'ID': 2, 'X': 466, 'Y': 426}, {'Frame': 76, 'ID': 3, 'X': 724, 'Y': 327}, {'Frame': 76, 'ID': 4, 'X': 816, 'Y': 370}, {'Frame': 76, 'ID': 6, 'X': 530, 'Y': 327}, {'Frame': 76, 'ID': 12, 'X': 756, 'Y': 293}, {'Frame': 76, 'ID': 23, 'X': 811, 'Y': 271}, {'Frame': 76, 'ID': 25, 'X': 807, 'Y': 282}, {'Frame': 77, 'ID': 0, 'X': 470, 'Y': 426}, {'Frame': 77, 'ID': 1, 'X': 621, 'Y': 328}, {'Frame': 77, 'ID': 2, 'X': 786, 'Y': 491}, {'Frame': 77, 'ID': 3, 'X': 814, 'Y': 370}, {'Frame': 77, 'ID': 4, 'X': 726, 'Y': 329}, {'Frame': 77, 'ID': 6, 'X': 529, 'Y': 326}, {'Frame': 77, 'ID': 12, 'X': 757, 'Y': 294}, {'Frame': 77, 'ID': 23, 'X': 813, 'Y': 266}, {'Frame': 78, 'ID': 0, 'X': 476, 'Y': 425}, {'Frame': 78, 'ID': 1, 'X': 621, 'Y': 327}, {'Frame': 78, 'ID': 2, 'X': 814, 'Y': 370}, {'Frame': 78, 'ID': 3, 'X': 782, 'Y': 490}, {'Frame': 78, 'ID': 4, 'X': 729, 'Y': 328}, {'Frame': 78, 'ID': 5, 'X': 528, 'Y': 325}, {'Frame': 78, 'ID': 25, 'X': 812, 'Y': 274}, {'Frame': 79, 'ID': 0, 'X': 621, 'Y': 327}, {'Frame': 79, 'ID': 1, 'X': 484, 'Y': 424}, {'Frame': 79, 'ID': 2, 'X': 813, 'Y': 370}, {'Frame': 79, 'ID': 3, 'X': 730, 'Y': 326}, {'Frame': 79, 'ID': 4, 'X': 779, 'Y': 487}, {'Frame': 79, 'ID': 6, 'X': 527, 'Y': 325}, {'Frame': 79, 'ID': 16, 'X': 814, 'Y': 277}, {'Frame': 80, 'ID': 0, 'X': 621, 'Y': 327}, {'Frame': 80, 'ID': 1, 'X': 487, 'Y': 422}, {'Frame': 80, 'ID': 2, 'X': 770, 'Y': 487}, {'Frame': 80, 'ID': 3, 'X': 812, 'Y': 371}, {'Frame': 80, 'ID': 4, 'X': 735, 'Y': 326}, {'Frame': 80, 'ID': 6, 'X': 526, 'Y': 325}, {'Frame': 80, 'ID': 15, 'X': 815, 'Y': 276}, {'Frame': 81, 'ID': 0, 'X': 489, 'Y': 422}, {'Frame': 81, 'ID': 1, 'X': 621, 'Y': 326}, {'Frame': 81, 'ID': 2, 'X': 763, 'Y': 485}, {'Frame': 81, 'ID': 3, 'X': 811, 'Y': 371}, {'Frame': 81, 'ID': 4, 'X': 737, 'Y': 323}, {'Frame': 81, 'ID': 6, 'X': 524, 'Y': 326}, {'Frame': 81, 'ID': 11, 'X': 817, 'Y': 276}, {'Frame': 82, 'ID': 0, 'X': 491, 'Y': 420}, {'Frame': 82, 'ID': 1, 'X': 755, 'Y': 478}, {'Frame': 82, 'ID': 2, 'X': 620, 'Y': 326}, {'Frame': 82, 'ID': 3, 'X': 808, 'Y': 373}, {'Frame': 82, 'ID': 5, 'X': 739, 'Y': 321}, {'Frame': 82, 'ID': 8, 'X': 523, 'Y': 328}, {'Frame': 82, 'ID': 12, 'X': 816, 'Y': 272}, {'Frame': 83, 'ID': 0, 'X': 749, 'Y': 471}, {'Frame': 83, 'ID': 1, 'X': 491, 'Y': 419}, {'Frame': 83, 'ID': 2, 'X': 620, 'Y': 326}, {'Frame': 83, 'ID': 3, 'X': 808, 'Y': 373}, {'Frame': 83, 'ID': 8, 'X': 739, 'Y': 303}, {'Frame': 83, 'ID': 10, 'X': 522, 'Y': 328}, {'Frame': 83, 'ID': 18, 'X': 819, 'Y': 275}, {'Frame': 84, 'ID': 0, 'X': 490, 'Y': 420}, {'Frame': 84, 'ID': 1, 'X': 744, 'Y': 469}, {'Frame': 84, 'ID': 2, 'X': 621, 'Y': 328}, {'Frame': 84, 'ID': 3, 'X': 806, 'Y': 374}, {'Frame': 84, 'ID': 6, 'X': 746, 'Y': 322}, {'Frame': 84, 'ID': 17, 'X': 823, 'Y': 274}, {'Frame': 84, 'ID': 18, 'X': 520, 'Y': 310}, {'Frame': 85, 'ID': 0, 'X': 491, 'Y': 420}, {'Frame': 85, 'ID': 1, 'X': 621, 'Y': 327}, {'Frame': 85, 'ID': 2, 'X': 738, 'Y': 465}, {'Frame': 85, 'ID': 3, 'X': 805, 'Y': 374}, {'Frame': 85, 'ID': 8, 'X': 747, 'Y': 317}, {'Frame': 85, 'ID': 11, 'X': 520, 'Y': 325}, {'Frame': 85, 'ID': 19, 'X': 824, 'Y': 273}, {'Frame': 86, 'ID': 0, 'X': 491, 'Y': 419}, {'Frame': 86, 'ID': 1, 'X': 732, 'Y': 461}, {'Frame': 86, 'ID': 2, 'X': 621, 'Y': 328}, {'Frame': 86, 'ID': 3, 'X': 804, 'Y': 375}, {'Frame': 86, 'ID': 9, 'X': 748, 'Y': 318}, {'Frame': 86, 'ID': 10, 'X': 519, 'Y': 328}, {'Frame': 87, 'ID': 0, 'X': 727, 'Y': 465}, {'Frame': 87, 'ID': 1, 'X': 490, 'Y': 419}, {'Frame': 87, 'ID': 2, 'X': 804, 'Y': 375}, {'Frame': 87, 'ID': 3, 'X': 622, 'Y': 328}, {'Frame': 87, 'ID': 7, 'X': 751, 'Y': 320}, {'Frame': 87, 'ID': 14, 'X': 519, 'Y': 324}, {'Frame': 88, 'ID': 0, 'X': 722, 'Y': 469}, {'Frame': 88, 'ID': 1, 'X': 491, 'Y': 419}, {'Frame': 88, 'ID': 2, 'X': 802, 'Y': 376}, {'Frame': 88, 'ID': 3, 'X': 621, 'Y': 328}, {'Frame': 88, 'ID': 9, 'X': 751, 'Y': 320}, {'Frame': 88, 'ID': 12, 'X': 826, 'Y': 275}, {'Frame': 88, 'ID': 20, 'X': 518, 'Y': 326}, {'Frame': 89, 'ID': 0, 'X': 717, 'Y': 466}, {'Frame': 89, 'ID': 1, 'X': 490, 'Y': 419}, {'Frame': 89, 'ID': 2, 'X': 621, 'Y': 328}, {'Frame': 89, 'ID': 3, 'X': 801, 'Y': 377}, {'Frame': 89, 'ID': 9, 'X': 751, 'Y': 322}, {'Frame': 89, 'ID': 16, 'X': 518, 'Y': 325}, {'Frame': 90, 'ID': 0, 'X': 492, 'Y': 417}, {'Frame': 90, 'ID': 1, 'X': 706, 'Y': 464}, {'Frame': 90, 'ID': 2, 'X': 621, 'Y': 328}, {'Frame': 90, 'ID': 3, 'X': 801, 'Y': 377}, {'Frame': 90, 'ID': 7, 'X': 755, 'Y': 324}, {'Frame': 90, 'ID': 11, 'X': 519, 'Y': 321}, {'Frame': 91, 'ID': 0, 'X': 490, 'Y': 414}, {'Frame': 91, 'ID': 1, 'X': 697, 'Y': 462}, {'Frame': 91, 'ID': 2, 'X': 621, 'Y': 328}, {'Frame': 91, 'ID': 3, 'X': 801, 'Y': 377}, {'Frame': 91, 'ID': 6, 'X': 755, 'Y': 326}, {'Frame': 91, 'ID': 8, 'X': 522, 'Y': 325}, {'Frame': 92, 'ID': 0, 'X': 694, 'Y': 461}, {'Frame': 92, 'ID': 1, 'X': 491, 'Y': 412}, {'Frame': 92, 'ID': 2, 'X': 618, 'Y': 328}, {'Frame': 92, 'ID': 3, 'X': 800, 'Y': 377}, {'Frame': 92, 'ID': 5, 'X': 757, 'Y': 325}, {'Frame': 92, 'ID': 7, 'X': 520, 'Y': 323}, {'Frame': 93, 'ID': 0, 'X': 693, 'Y': 461}, {'Frame': 93, 'ID': 1, 'X': 492, 'Y': 409}, {'Frame': 93, 'ID': 2, 'X': 620, 'Y': 326}, {'Frame': 93, 'ID': 3, 'X': 801, 'Y': 377}, {'Frame': 93, 'ID': 5, 'X': 757, 'Y': 325}, {'Frame': 93, 'ID': 6, 'X': 519, 'Y': 324}, {'Frame': 94, 'ID': 0, 'X': 692, 'Y': 461}, {'Frame': 94, 'ID': 1, 'X': 491, 'Y': 408}, {'Frame': 94, 'ID': 2, 'X': 620, 'Y': 326}, {'Frame': 94, 'ID': 3, 'X': 800, 'Y': 378}, {'Frame': 94, 'ID': 5, 'X': 757, 'Y': 324}, {'Frame': 94, 'ID': 6, 'X': 520, 'Y': 324}, {'Frame': 94, 'ID': 22, 'X': 544, 'Y': 262}, {'Frame': 95, 'ID': 0, 'X': 495, 'Y': 406}, {'Frame': 95, 'ID': 1, 'X': 690, 'Y': 463}, {'Frame': 95, 'ID': 2, 'X': 620, 'Y': 326}, {'Frame': 95, 'ID': 3, 'X': 757, 'Y': 324}, {'Frame': 95, 'ID': 6, 'X': 801, 'Y': 376}, {'Frame': 95, 'ID': 18, 'X': 515, 'Y': 311}, {'Frame': 95, 'ID': 24, 'X': 545, 'Y': 270}, {'Frame': 96, 'ID': 0, 'X': 691, 'Y': 463}, {'Frame': 96, 'ID': 1, 'X': 497, 'Y': 403}, {'Frame': 96, 'ID': 2, 'X': 619, 'Y': 326}, {'Frame': 96, 'ID': 3, 'X': 757, 'Y': 324}, {'Frame': 96, 'ID': 6, 'X': 801, 'Y': 379}, {'Frame': 96, 'ID': 9, 'X': 518, 'Y': 318}, {'Frame': 96, 'ID': 22, 'X': 541, 'Y': 307}, {'Frame': 97, 'ID': 0, 'X': 689, 'Y': 462}, {'Frame': 97, 'ID': 1, 'X': 499, 'Y': 403}, {'Frame': 97, 'ID': 2, 'X': 620, 'Y': 327}, {'Frame': 97, 'ID': 3, 'X': 758, 'Y': 324}, {'Frame': 97, 'ID': 6, 'X': 801, 'Y': 379}, {'Frame': 97, 'ID': 20, 'X': 637, 'Y': 259}, {'Frame': 97, 'ID': 22, 'X': 512, 'Y': 317}, {'Frame': 98, 'ID': 0, 'X': 503, 'Y': 403}, {'Frame': 98, 'ID': 1, 'X': 686, 'Y': 463}, {'Frame': 98, 'ID': 2, 'X': 622, 'Y': 327}, {'Frame': 98, 'ID': 4, 'X': 803, 'Y': 381}, {'Frame': 98, 'ID': 6, 'X': 758, 'Y': 325}, {'Frame': 98, 'ID': 8, 'X': 546, 'Y': 302}, {'Frame': 98, 'ID': 9, 'X': 513, 'Y': 315}, {'Frame': 98, 'ID': 11, 'X': 639, 'Y': 259}, {'Frame': 99, 'ID': 0, 'X': 507, 'Y': 402}, {'Frame': 99, 'ID': 1, 'X': 683, 'Y': 464}, {'Frame': 99, 'ID': 2, 'X': 623, 'Y': 327}, {'Frame': 99, 'ID': 3, 'X': 803, 'Y': 382}, {'Frame': 99, 'ID': 5, 'X': 758, 'Y': 325}, {'Frame': 99, 'ID': 6, 'X': 510, 'Y': 325}, {'Frame': 99, 'ID': 10, 'X': 642, 'Y': 259}, {'Frame': 99, 'ID': 13, 'X': 548, 'Y': 301}, {'Frame': 100, 'ID': 0, 'X': 682, 'Y': 465}, {'Frame': 100, 'ID': 1, 'X': 511, 'Y': 402}, {'Frame': 100, 'ID': 2, 'X': 625, 'Y': 328}, {'Frame': 100, 'ID': 3, 'X': 803, 'Y': 383}, {'Frame': 100, 'ID': 5, 'X': 758, 'Y': 325}, {'Frame': 100, 'ID': 7, 'X': 511, 'Y': 321}, {'Frame': 100, 'ID': 10, 'X': 644, 'Y': 260}, {'Frame': 100, 'ID': 13, 'X': 550, 'Y': 304}, {'Frame': 100, 'ID': 20, 'X': 737, 'Y': 281}, {'Frame': 101, 'ID': 0, 'X': 679, 'Y': 465}, {'Frame': 101, 'ID': 1, 'X': 513, 'Y': 401}, {'Frame': 101, 'ID': 2, 'X': 626, 'Y': 328}, {'Frame': 101, 'ID': 3, 'X': 802, 'Y': 382}, {'Frame': 101, 'ID': 6, 'X': 759, 'Y': 325}, {'Frame': 101, 'ID': 7, 'X': 512, 'Y': 307}, {'Frame': 101, 'ID': 11, 'X': 646, 'Y': 261}, {'Frame': 101, 'ID': 20, 'X': 738, 'Y': 281}, {'Frame': 101, 'ID': 25, 'X': 557, 'Y': 300}, {'Frame': 102, 'ID': 0, 'X': 677, 'Y': 467}, {'Frame': 102, 'ID': 1, 'X': 518, 'Y': 403}, {'Frame': 102, 'ID': 2, 'X': 626, 'Y': 327}, {'Frame': 102, 'ID': 3, 'X': 803, 'Y': 384}, {'Frame': 102, 'ID': 6, 'X': 759, 'Y': 325}, {'Frame': 102, 'ID': 8, 'X': 559, 'Y': 304}, {'Frame': 102, 'ID': 10, 'X': 647, 'Y': 261}, {'Frame': 102, 'ID': 16, 'X': 738, 'Y': 281}, {'Frame': 102, 'ID': 21, 'X': 509, 'Y': 284}, {'Frame': 103, 'ID': 0, 'X': 676, 'Y': 467}, {'Frame': 103, 'ID': 1, 'X': 516, 'Y': 403}, {'Frame': 103, 'ID': 2, 'X': 628, 'Y': 328}, {'Frame': 103, 'ID': 3, 'X': 803, 'Y': 384}, {'Frame': 103, 'ID': 6, 'X': 759, 'Y': 325}, {'Frame': 103, 'ID': 9, 'X': 650, 'Y': 262}, {'Frame': 103, 'ID': 13, 'X': 738, 'Y': 281}, {'Frame': 103, 'ID': 14, 'X': 562, 'Y': 298}, {'Frame': 103, 'ID': 19, 'X': 509, 'Y': 277}, {'Frame': 104, 'ID': 0, 'X': 675, 'Y': 467}, {'Frame': 104, 'ID': 1, 'X': 518, 'Y': 403}, {'Frame': 104, 'ID': 2, 'X': 629, 'Y': 328}, {'Frame': 104, 'ID': 3, 'X': 802, 'Y': 384}, {'Frame': 104, 'ID': 6, 'X': 759, 'Y': 325}, {'Frame': 104, 'ID': 11, 'X': 738, 'Y': 282}, {'Frame': 104, 'ID': 12, 'X': 651, 'Y': 262}, {'Frame': 104, 'ID': 14, 'X': 509, 'Y': 289}, {'Frame': 104, 'ID': 19, 'X': 569, 'Y': 297}, {'Frame': 104, 'ID': 27, 'X': 704, 'Y': 250}, {'Frame': 105, 'ID': 0, 'X': 675, 'Y': 467}, {'Frame': 105, 'ID': 1, 'X': 517, 'Y': 402}, {'Frame': 105, 'ID': 2, 'X': 629, 'Y': 328}, {'Frame': 105, 'ID': 3, 'X': 802, 'Y': 384}, {'Frame': 105, 'ID': 6, 'X': 759, 'Y': 325}, {'Frame': 105, 'ID': 9, 'X': 652, 'Y': 262}, {'Frame': 105, 'ID': 13, 'X': 509, 'Y': 286}, {'Frame': 105, 'ID': 14, 'X': 740, 'Y': 279}, {'Frame': 106, 'ID': 0, 'X': 676, 'Y': 467}, {'Frame': 106, 'ID': 1, 'X': 517, 'Y': 401}, {'Frame': 106, 'ID': 2, 'X': 802, 'Y': 385}, {'Frame': 106, 'ID': 3, 'X': 630, 'Y': 328}, {'Frame': 106, 'ID': 5, 'X': 758, 'Y': 325}, {'Frame': 106, 'ID': 8, 'X': 510, 'Y': 302}, {'Frame': 106, 'ID': 15, 'X': 654, 'Y': 261}, {'Frame': 106, 'ID': 19, 'X': 582, 'Y': 297}, {'Frame': 107, 'ID': 0, 'X': 677, 'Y': 468}, {'Frame': 107, 'ID': 1, 'X': 517, 'Y': 402}, {'Frame': 107, 'ID': 2, 'X': 802, 'Y': 385}, {'Frame': 107, 'ID': 3, 'X': 630, 'Y': 327}, {'Frame': 107, 'ID': 6, 'X': 758, 'Y': 325}, {'Frame': 107, 'ID': 11, 'X': 511, 'Y': 302}, {'Frame': 107, 'ID': 13, 'X': 546, 'Y': 261}, {'Frame': 107, 'ID': 18, 'X': 587, 'Y': 298}, {'Frame': 107, 'ID': 20, 'X': 658, 'Y': 261}, {'Frame': 108, 'ID': 0, 'X': 678, 'Y': 469}, {'Frame': 108, 'ID': 1, 'X': 520, 'Y': 399}, {'Frame': 108, 'ID': 2, 'X': 802, 'Y': 385}, {'Frame': 108, 'ID': 3, 'X': 631, 'Y': 326}, {'Frame': 108, 'ID': 6, 'X': 758, 'Y': 326}, {'Frame': 108, 'ID': 10, 'X': 511, 'Y': 326}, {'Frame': 108, 'ID': 17, 'X': 592, 'Y': 300}, {'Frame': 108, 'ID': 20, 'X': 547, 'Y': 249}, {'Frame': 109, 'ID': 0, 'X': 681, 'Y': 471}, {'Frame': 109, 'ID': 1, 'X': 521, 'Y': 399}, {'Frame': 109, 'ID': 2, 'X': 802, 'Y': 385}, {'Frame': 109, 'ID': 3, 'X': 633, 'Y': 326}, {'Frame': 109, 'ID': 6, 'X': 758, 'Y': 325}, {'Frame': 109, 'ID': 7, 'X': 513, 'Y': 326}, {'Frame': 109, 'ID': 14, 'X': 594, 'Y': 299}, {'Frame': 109, 'ID': 18, 'X': 549, 'Y': 259}, {'Frame': 110, 'ID': 0, 'X': 521, 'Y': 399}, {'Frame': 110, 'ID': 1, 'X': 680, 'Y': 472}, {'Frame': 110, 'ID': 2, 'X': 802, 'Y': 385}, {'Frame': 110, 'ID': 3, 'X': 636, 'Y': 327}, {'Frame': 110, 'ID': 5, 'X': 759, 'Y': 326}, {'Frame': 110, 'ID': 7, 'X': 513, 'Y': 327}, {'Frame': 110, 'ID': 11, 'X': 551, 'Y': 262}, {'Frame': 110, 'ID': 22, 'X': 598, 'Y': 297}, {'Frame': 111, 'ID': 0, 'X': 524, 'Y': 399}, {'Frame': 111, 'ID': 1, 'X': 680, 'Y': 474}, {'Frame': 111, 'ID': 2, 'X': 802, 'Y': 385}, {'Frame': 111, 'ID': 5, 'X': 641, 'Y': 326}, {'Frame': 111, 'ID': 6, 'X': 759, 'Y': 325}, {'Frame': 111, 'ID': 8, 'X': 516, 'Y': 328}, {'Frame': 111, 'ID': 15, 'X': 551, 'Y': 262}, {'Frame': 111, 'ID': 18, 'X': 602, 'Y': 298}, {'Frame': 112, 'ID': 0, 'X': 681, 'Y': 473}, {'Frame': 112, 'ID': 1, 'X': 525, 'Y': 398}, {'Frame': 112, 'ID': 2, 'X': 802, 'Y': 385}, {'Frame': 112, 'ID': 4, 'X': 643, 'Y': 325}, {'Frame': 112, 'ID': 6, 'X': 759, 'Y': 325}, {'Frame': 112, 'ID': 8, 'X': 516, 'Y': 329}, {'Frame': 112, 'ID': 15, 'X': 553, 'Y': 263}, {'Frame': 112, 'ID': 26, 'X': 740, 'Y': 281}, {'Frame': 113, 'ID': 0, 'X': 681, 'Y': 475}, {'Frame': 113, 'ID': 1, 'X': 528, 'Y': 397}, {'Frame': 113, 'ID': 2, 'X': 802, 'Y': 384}, {'Frame': 113, 'ID': 3, 'X': 645, 'Y': 325}, {'Frame': 113, 'ID': 6, 'X': 517, 'Y': 325}, {'Frame': 113, 'ID': 7, 'X': 758, 'Y': 325}, {'Frame': 113, 'ID': 11, 'X': 555, 'Y': 262}, {'Frame': 113, 'ID': 21, 'X': 668, 'Y': 262}, {'Frame': 113, 'ID': 23, 'X': 740, 'Y': 282}, {'Frame': 114, 'ID': 0, 'X': 531, 'Y': 397}, {'Frame': 114, 'ID': 1, 'X': 681, 'Y': 477}, {'Frame': 114, 'ID': 2, 'X': 802, 'Y': 384}, {'Frame': 114, 'ID': 5, 'X': 646, 'Y': 326}, {'Frame': 114, 'ID': 7, 'X': 519, 'Y': 322}, {'Frame': 114, 'ID': 8, 'X': 758, 'Y': 325}, {'Frame': 114, 'ID': 10, 'X': 555, 'Y': 263}, {'Frame': 114, 'ID': 18, 'X': 670, 'Y': 263}, {'Frame': 114, 'ID': 22, 'X': 612, 'Y': 298}, {'Frame': 115, 'ID': 0, 'X': 531, 'Y': 397}, {'Frame': 115, 'ID': 1, 'X': 681, 'Y': 477}, {'Frame': 115, 'ID': 2, 'X': 801, 'Y': 385}, {'Frame': 115, 'ID': 5, 'X': 647, 'Y': 326}, {'Frame': 115, 'ID': 7, 'X': 758, 'Y': 325}, {'Frame': 115, 'ID': 8, 'X': 523, 'Y': 295}, {'Frame': 115, 'ID': 9, 'X': 558, 'Y': 262}, {'Frame': 115, 'ID': 24, 'X': 672, 'Y': 262}, {'Frame': 115, 'ID': 25, 'X': 740, 'Y': 281}, {'Frame': 116, 'ID': 0, 'X': 682, 'Y': 478}, {'Frame': 116, 'ID': 1, 'X': 532, 'Y': 397}, {'Frame': 116, 'ID': 2, 'X': 802, 'Y': 384}, {'Frame': 116, 'ID': 3, 'X': 758, 'Y': 325}, {'Frame': 116, 'ID': 6, 'X': 651, 'Y': 326}, {'Frame': 116, 'ID': 8, 'X': 560, 'Y': 262}, {'Frame': 116, 'ID': 10, 'X': 524, 'Y': 288}, {'Frame': 116, 'ID': 21, 'X': 741, 'Y': 280}, {'Frame': 116, 'ID': 22, 'X': 677, 'Y': 263}, {'Frame': 116, 'ID': 24, 'X': 615, 'Y': 299}, {'Frame': 117, 'ID': 0, 'X': 682, 'Y': 478}, {'Frame': 117, 'ID': 1, 'X': 531, 'Y': 396}, {'Frame': 117, 'ID': 2, 'X': 803, 'Y': 385}, {'Frame': 117, 'ID': 4, 'X': 653, 'Y': 327}, {'Frame': 117, 'ID': 6, 'X': 758, 'Y': 325}, {'Frame': 117, 'ID': 8, 'X': 525, 'Y': 287}, {'Frame': 117, 'ID': 9, 'X': 560, 'Y': 262}, {'Frame': 117, 'ID': 23, 'X': 680, 'Y': 263}, {'Frame': 118, 'ID': 0, 'X': 684, 'Y': 478}, {'Frame': 118, 'ID': 1, 'X': 530, 'Y': 395}, {'Frame': 118, 'ID': 2, 'X': 801, 'Y': 385}, {'Frame': 118, 'ID': 3, 'X': 656, 'Y': 326}, {'Frame': 118, 'ID': 4, 'X': 759, 'Y': 325}, {'Frame': 118, 'ID': 8, 'X': 526, 'Y': 287}, {'Frame': 118, 'ID': 9, 'X': 563, 'Y': 260}, {'Frame': 118, 'ID': 23, 'X': 680, 'Y': 262}, {'Frame': 118, 'ID': 24, 'X': 741, 'Y': 281}, {'Frame': 119, 'ID': 0, 'X': 688, 'Y': 478}, {'Frame': 119, 'ID': 1, 'X': 530, 'Y': 395}, {'Frame': 119, 'ID': 2, 'X': 802, 'Y': 385}, {'Frame': 119, 'ID': 3, 'X': 759, 'Y': 325}, {'Frame': 119, 'ID': 4, 'X': 657, 'Y': 326}, {'Frame': 119, 'ID': 8, 'X': 526, 'Y': 285}, {'Frame': 119, 'ID': 20, 'X': 682, 'Y': 262}, {'Frame': 119, 'ID': 23, 'X': 565, 'Y': 260}, {'Frame': 119, 'ID': 24, 'X': 742, 'Y': 280}, {'Frame': 119, 'ID': 25, 'X': 625, 'Y': 294}, {'Frame': 120, 'ID': 0, 'X': 526, 'Y': 393}, {'Frame': 120, 'ID': 1, 'X': 693, 'Y': 478}, {'Frame': 120, 'ID': 2, 'X': 802, 'Y': 385}, {'Frame': 120, 'ID': 3, 'X': 661, 'Y': 328}, {'Frame': 120, 'ID': 4, 'X': 759, 'Y': 325}, {'Frame': 120, 'ID': 8, 'X': 526, 'Y': 282}, {'Frame': 120, 'ID': 16, 'X': 683, 'Y': 262}, {'Frame': 120, 'ID': 23, 'X': 569, 'Y': 260}, {'Frame': 120, 'ID': 24, 'X': 629, 'Y': 293}, {'Frame': 121, 'ID': 0, 'X': 698, 'Y': 480}, {'Frame': 121, 'ID': 1, 'X': 523, 'Y': 394}, {'Frame': 121, 'ID': 2, 'X': 803, 'Y': 384}, {'Frame': 121, 'ID': 3, 'X': 661, 'Y': 328}, {'Frame': 121, 'ID': 4, 'X': 758, 'Y': 325}, {'Frame': 121, 'ID': 7, 'X': 526, 'Y': 281}, {'Frame': 121, 'ID': 10, 'X': 687, 'Y': 263}, {'Frame': 121, 'ID': 16, 'X': 571, 'Y': 261}, {'Frame': 121, 'ID': 20, 'X': 634, 'Y': 293}, {'Frame': 122, 'ID': 0, 'X': 702, 'Y': 481}, {'Frame': 122, 'ID': 1, 'X': 805, 'Y': 384}, {'Frame': 122, 'ID': 2, 'X': 520, 'Y': 394}, {'Frame': 122, 'ID': 3, 'X': 661, 'Y': 327}, {'Frame': 122, 'ID': 4, 'X': 759, 'Y': 324}, {'Frame': 122, 'ID': 7, 'X': 571, 'Y': 259}, {'Frame': 122, 'ID': 9, 'X': 526, 'Y': 280}, {'Frame': 122, 'ID': 15, 'X': 690, 'Y': 265}, {'Frame': 122, 'ID': 16, 'X': 635, 'Y': 293}, {'Frame': 123, 'ID': 0, 'X': 708, 'Y': 482}, {'Frame': 123, 'ID': 1, 'X': 805, 'Y': 385}, {'Frame': 123, 'ID': 2, 'X': 515, 'Y': 393}, {'Frame': 123, 'ID': 3, 'X': 663, 'Y': 329}, {'Frame': 123, 'ID': 4, 'X': 759, 'Y': 324}, {'Frame': 123, 'ID': 9, 'X': 573, 'Y': 259}, {'Frame': 123, 'ID': 22, 'X': 637, 'Y': 292}, {'Frame': 124, 'ID': 0, 'X': 711, 'Y': 482}, {'Frame': 124, 'ID': 1, 'X': 513, 'Y': 395}, {'Frame': 124, 'ID': 2, 'X': 805, 'Y': 384}, {'Frame': 124, 'ID': 3, 'X': 665, 'Y': 329}, {'Frame': 124, 'ID': 4, 'X': 760, 'Y': 324}, {'Frame': 124, 'ID': 8, 'X': 574, 'Y': 259}, {'Frame': 124, 'ID': 16, 'X': 638, 'Y': 291}, {'Frame': 125, 'ID': 0, 'X': 717, 'Y': 482}, {'Frame': 125, 'ID': 1, 'X': 513, 'Y': 396}, {'Frame': 125, 'ID': 2, 'X': 808, 'Y': 382}, {'Frame': 125, 'ID': 3, 'X': 665, 'Y': 327}, {'Frame': 125, 'ID': 6, 'X': 575, 'Y': 258}, {'Frame': 125, 'ID': 7, 'X': 760, 'Y': 322}, {'Frame': 125, 'ID': 22, 'X': 638, 'Y': 293}, {'Frame': 126, 'ID': 0, 'X': 721, 'Y': 483}, {'Frame': 126, 'ID': 1, 'X': 810, 'Y': 383}, {'Frame': 126, 'ID': 2, 'X': 512, 'Y': 396}, {'Frame': 126, 'ID': 3, 'X': 665, 'Y': 329}, {'Frame': 126, 'ID': 5, 'X': 576, 'Y': 258}, {'Frame': 126, 'ID': 8, 'X': 761, 'Y': 321}, {'Frame': 126, 'ID': 17, 'X': 529, 'Y': 340}, {'Frame': 127, 'ID': 0, 'X': 724, 'Y': 484}, {'Frame': 127, 'ID': 1, 'X': 513, 'Y': 394}, {'Frame': 127, 'ID': 2, 'X': 811, 'Y': 383}, {'Frame': 127, 'ID': 3, 'X': 669, 'Y': 328}, {'Frame': 127, 'ID': 4, 'X': 534, 'Y': 339}, {'Frame': 127, 'ID': 8, 'X': 762, 'Y': 321}, {'Frame': 127, 'ID': 10, 'X': 578, 'Y': 257}, {'Frame': 127, 'ID': 22, 'X': 643, 'Y': 294}, {'Frame': 128, 'ID': 0, 'X': 728, 'Y': 489}, {'Frame': 128, 'ID': 1, 'X': 510, 'Y': 395}, {'Frame': 128, 'ID': 2, 'X': 813, 'Y': 384}, {'Frame': 128, 'ID': 3, 'X': 535, 'Y': 341}, {'Frame': 128, 'ID': 5, 'X': 672, 'Y': 329}, {'Frame': 128, 'ID': 7, 'X': 764, 'Y': 319}, {'Frame': 128, 'ID': 10, 'X': 580, 'Y': 255}, {'Frame': 128, 'ID': 20, 'X': 701, 'Y': 265}, {'Frame': 129, 'ID': 0, 'X': 732, 'Y': 491}, {'Frame': 129, 'ID': 1, 'X': 508, 'Y': 396}, {'Frame': 129, 'ID': 2, 'X': 535, 'Y': 343}, {'Frame': 129, 'ID': 3, 'X': 814, 'Y': 381}, {'Frame': 129, 'ID': 4, 'X': 763, 'Y': 321}, {'Frame': 129, 'ID': 5, 'X': 675, 'Y': 329}, {'Frame': 129, 'ID': 13, 'X': 582, 'Y': 252}, {'Frame': 129, 'ID': 17, 'X': 703, 'Y': 266}, {'Frame': 130, 'ID': 0, 'X': 505, 'Y': 393}, {'Frame': 130, 'ID': 1, 'X': 737, 'Y': 496}, {'Frame': 130, 'ID': 2, 'X': 536, 'Y': 342}, {'Frame': 130, 'ID': 3, 'X': 816, 'Y': 381}, {'Frame': 130, 'ID': 4, 'X': 677, 'Y': 329}, {'Frame': 130, 'ID': 7, 'X': 763, 'Y': 321}, {'Frame': 130, 'ID': 10, 'X': 583, 'Y': 257}, {'Frame': 130, 'ID': 12, 'X': 660, 'Y': 293}, {'Frame': 130, 'ID': 13, 'X': 703, 'Y': 267}, {'Frame': 130, 'ID': 27, 'X': 751, 'Y': 304}, {'Frame': 131, 'ID': 0, 'X': 500, 'Y': 398}, {'Frame': 131, 'ID': 1, 'X': 744, 'Y': 495}, {'Frame': 131, 'ID': 2, 'X': 536, 'Y': 343}, {'Frame': 131, 'ID': 3, 'X': 817, 'Y': 382}, {'Frame': 131, 'ID': 5, 'X': 680, 'Y': 329}, {'Frame': 131, 'ID': 6, 'X': 763, 'Y': 322}, {'Frame': 131, 'ID': 7, 'X': 584, 'Y': 258}, {'Frame': 131, 'ID': 11, 'X': 661, 'Y': 294}, {'Frame': 131, 'ID': 22, 'X': 706, 'Y': 265}, {'Frame': 132, 'ID': 0, 'X': 748, 'Y': 494}, {'Frame': 132, 'ID': 1, 'X': 494, 'Y': 399}, {'Frame': 132, 'ID': 2, 'X': 536, 'Y': 346}, {'Frame': 132, 'ID': 3, 'X': 819, 'Y': 383}, {'Frame': 132, 'ID': 4, 'X': 684, 'Y': 328}, {'Frame': 132, 'ID': 6, 'X': 584, 'Y': 258}, {'Frame': 132, 'ID': 8, 'X': 767, 'Y': 323}, {'Frame': 132, 'ID': 10, 'X': 662, 'Y': 296}, {'Frame': 133, 'ID': 0, 'X': 754, 'Y': 506}, {'Frame': 133, 'ID': 1, 'X': 491, 'Y': 400}, {'Frame': 133, 'ID': 2, 'X': 537, 'Y': 344}, {'Frame': 133, 'ID': 3, 'X': 822, 'Y': 385}, {'Frame': 133, 'ID': 4, 'X': 693, 'Y': 330}, {'Frame': 133, 'ID': 7, 'X': 586, 'Y': 257}, {'Frame': 133, 'ID': 9, 'X': 664, 'Y': 295}, {'Frame': 133, 'ID': 12, 'X': 770, 'Y': 322}, {'Frame': 134, 'ID': 0, 'X': 754, 'Y': 505}, {'Frame': 134, 'ID': 1, 'X': 490, 'Y': 406}, {'Frame': 134, 'ID': 2, 'X': 536, 'Y': 346}, {'Frame': 134, 'ID': 3, 'X': 823, 'Y': 384}, {'Frame': 134, 'ID': 4, 'X': 699, 'Y': 330}, {'Frame': 134, 'ID': 7, 'X': 666, 'Y': 297}, {'Frame': 134, 'ID': 9, 'X': 588, 'Y': 258}, {'Frame': 134, 'ID': 15, 'X': 772, 'Y': 324}, {'Frame': 134, 'ID': 26, 'X': 743, 'Y': 299}, {'Frame': 135, 'ID': 0, 'X': 757, 'Y': 510}, {'Frame': 135, 'ID': 1, 'X': 536, 'Y': 345}, {'Frame': 135, 'ID': 2, 'X': 491, 'Y': 406}, {'Frame': 135, 'ID': 3, 'X': 824, 'Y': 384}, {'Frame': 135, 'ID': 6, 'X': 665, 'Y': 296}, {'Frame': 135, 'ID': 7, 'X': 590, 'Y': 257}, {'Frame': 135, 'ID': 9, 'X': 706, 'Y': 329}, {'Frame': 135, 'ID': 10, 'X': 772, 'Y': 324}, {'Frame': 135, 'ID': 22, 'X': 742, 'Y': 300}, {'Frame': 136, 'ID': 0, 'X': 758, 'Y': 511}, {'Frame': 136, 'ID': 1, 'X': 488, 'Y': 412}, {'Frame': 136, 'ID': 2, 'X': 536, 'Y': 346}, {'Frame': 136, 'ID': 3, 'X': 826, 'Y': 382}, {'Frame': 136, 'ID': 5, 'X': 668, 'Y': 298}, {'Frame': 136, 'ID': 7, 'X': 708, 'Y': 326}, {'Frame': 136, 'ID': 10, 'X': 592, 'Y': 257}, {'Frame': 136, 'ID': 11, 'X': 773, 'Y': 323}, {'Frame': 136, 'ID': 23, 'X': 743, 'Y': 303}, {'Frame': 137, 'ID': 0, 'X': 759, 'Y': 512}, {'Frame': 137, 'ID': 1, 'X': 486, 'Y': 415}, {'Frame': 137, 'ID': 2, 'X': 536, 'Y': 346}, {'Frame': 137, 'ID': 3, 'X': 828, 'Y': 378}, {'Frame': 137, 'ID': 4, 'X': 667, 'Y': 298}, {'Frame': 137, 'ID': 6, 'X': 714, 'Y': 325}, {'Frame': 137, 'ID': 9, 'X': 774, 'Y': 322}, {'Frame': 137, 'ID': 10, 'X': 593, 'Y': 257}, {'Frame': 137, 'ID': 22, 'X': 744, 'Y': 305}, {'Frame': 138, 'ID': 0, 'X': 764, 'Y': 507}, {'Frame': 138, 'ID': 1, 'X': 828, 'Y': 377}, {'Frame': 138, 'ID': 2, 'X': 536, 'Y': 347}, {'Frame': 138, 'ID': 3, 'X': 488, 'Y': 415}, {'Frame': 138, 'ID': 5, 'X': 716, 'Y': 326}, {'Frame': 138, 'ID': 6, 'X': 668, 'Y': 298}, {'Frame': 138, 'ID': 10, 'X': 593, 'Y': 257}, {'Frame': 138, 'ID': 12, 'X': 774, 'Y': 321}, {'Frame': 138, 'ID': 23, 'X': 651, 'Y': 261}, {'Frame': 138, 'ID': 25, 'X': 746, 'Y': 305}, {'Frame': 139, 'ID': 0, 'X': 770, 'Y': 512}, {'Frame': 139, 'ID': 1, 'X': 489, 'Y': 415}, {'Frame': 139, 'ID': 2, 'X': 829, 'Y': 376}, {'Frame': 139, 'ID': 3, 'X': 535, 'Y': 348}, {'Frame': 139, 'ID': 5, 'X': 669, 'Y': 298}, {'Frame': 139, 'ID': 6, 'X': 721, 'Y': 323}, {'Frame': 139, 'ID': 9, 'X': 594, 'Y': 258}, {'Frame': 139, 'ID': 12, 'X': 650, 'Y': 262}, {'Frame': 139, 'ID': 13, 'X': 775, 'Y': 321}, {'Frame': 139, 'ID': 26, 'X': 740, 'Y': 323}, {'Frame': 140, 'ID': 0, 'X': 777, 'Y': 508}, {'Frame': 140, 'ID': 1, 'X': 488, 'Y': 415}, {'Frame': 140, 'ID': 2, 'X': 830, 'Y': 375}, {'Frame': 140, 'ID': 3, 'X': 672, 'Y': 299}, {'Frame': 140, 'ID': 4, 'X': 535, 'Y': 348}, {'Frame': 140, 'ID': 6, 'X': 725, 'Y': 324}, {'Frame': 140, 'ID': 9, 'X': 596, 'Y': 257}, {'Frame': 140, 'ID': 12, 'X': 774, 'Y': 320}, {'Frame': 140, 'ID': 14, 'X': 740, 'Y': 325}, {'Frame': 140, 'ID': 16, 'X': 648, 'Y': 262}, {'Frame': 141, 'ID': 0, 'X': 784, 'Y': 509}, {'Frame': 141, 'ID': 1, 'X': 670, 'Y': 299}, {'Frame': 141, 'ID': 2, 'X': 487, 'Y': 414}, {'Frame': 141, 'ID': 3, 'X': 831, 'Y': 375}, {'Frame': 141, 'ID': 4, 'X': 534, 'Y': 349}, {'Frame': 141, 'ID': 6, 'X': 731, 'Y': 328}, {'Frame': 141, 'ID': 9, 'X': 773, 'Y': 320}, {'Frame': 141, 'ID': 12, 'X': 598, 'Y': 255}, {'Frame': 141, 'ID': 19, 'X': 648, 'Y': 262}, {'Frame': 141, 'ID': 31, 'X': 750, 'Y': 313}, {'Frame': 142, 'ID': 0, 'X': 790, 'Y': 506}, {'Frame': 142, 'ID': 1, 'X': 492, 'Y': 418}, {'Frame': 142, 'ID': 2, 'X': 670, 'Y': 299}, {'Frame': 142, 'ID': 3, 'X': 832, 'Y': 372}, {'Frame': 142, 'ID': 4, 'X': 535, 'Y': 347}, {'Frame': 142, 'ID': 7, 'X': 735, 'Y': 327}, {'Frame': 142, 'ID': 9, 'X': 774, 'Y': 320}, {'Frame': 142, 'ID': 13, 'X': 599, 'Y': 254}, {'Frame': 142, 'ID': 25, 'X': 647, 'Y': 261}, {'Frame': 143, 'ID': 0, 'X': 807, 'Y': 506}, {'Frame': 143, 'ID': 1, 'X': 536, 'Y': 348}, {'Frame': 143, 'ID': 2, 'X': 491, 'Y': 418}, {'Frame': 143, 'ID': 3, 'X': 839, 'Y': 374}, {'Frame': 143, 'ID': 4, 'X': 672, 'Y': 301}, {'Frame': 143, 'ID': 8, 'X': 739, 'Y': 326}, {'Frame': 143, 'ID': 9, 'X': 775, 'Y': 322}, {'Frame': 143, 'ID': 11, 'X': 605, 'Y': 254}, {'Frame': 143, 'ID': 26, 'X': 643, 'Y': 263}, {'Frame': 143, 'ID': 28, 'X': 655, 'Y': 265}, {'Frame': 144, 'ID': 0, 'X': 812, 'Y': 507}, {'Frame': 144, 'ID': 1, 'X': 536, 'Y': 351}, {'Frame': 144, 'ID': 2, 'X': 492, 'Y': 422}, {'Frame': 144, 'ID': 3, 'X': 672, 'Y': 301}, {'Frame': 144, 'ID': 4, 'X': 841, 'Y': 370}, {'Frame': 144, 'ID': 7, 'X': 739, 'Y': 327}, {'Frame': 144, 'ID': 9, 'X': 774, 'Y': 322}, {'Frame': 144, 'ID': 11, 'X': 857, 'Y': 296}, {'Frame': 144, 'ID': 12, 'X': 605, 'Y': 255}, {'Frame': 144, 'ID': 22, 'X': 641, 'Y': 265}, {'Frame': 145, 'ID': 0, 'X': 814, 'Y': 510}, {'Frame': 145, 'ID': 1, 'X': 537, 'Y': 352}, {'Frame': 145, 'ID': 2, 'X': 844, 'Y': 368}, {'Frame': 145, 'ID': 3, 'X': 671, 'Y': 301}, {'Frame': 145, 'ID': 4, 'X': 497, 'Y': 423}, {'Frame': 145, 'ID': 7, 'X': 738, 'Y': 326}, {'Frame': 145, 'ID': 14, 'X': 775, 'Y': 323}, {'Frame': 145, 'ID': 15, 'X': 856, 'Y': 297}, {'Frame': 145, 'ID': 18, 'X': 640, 'Y': 261}, {'Frame': 145, 'ID': 23, 'X': 607, 'Y': 252}, {'Frame': 146, 'ID': 0, 'X': 814, 'Y': 507}, {'Frame': 146, 'ID': 1, 'X': 847, 'Y': 367}, {'Frame': 146, 'ID': 2, 'X': 672, 'Y': 300}, {'Frame': 146, 'ID': 3, 'X': 539, 'Y': 354}, {'Frame': 146, 'ID': 4, 'X': 505, 'Y': 425}, {'Frame': 146, 'ID': 7, 'X': 738, 'Y': 326}, {'Frame': 146, 'ID': 11, 'X': 853, 'Y': 301}, {'Frame': 146, 'ID': 20, 'X': 778, 'Y': 320}, {'Frame': 146, 'ID': 25, 'X': 637, 'Y': 261}, {'Frame': 147, 'ID': 0, 'X': 817, 'Y': 506}, {'Frame': 147, 'ID': 1, 'X': 672, 'Y': 301}, {'Frame': 147, 'ID': 2, 'X': 848, 'Y': 367}, {'Frame': 147, 'ID': 3, 'X': 538, 'Y': 356}, {'Frame': 147, 'ID': 5, 'X': 508, 'Y': 427}, {'Frame': 147, 'ID': 6, 'X': 740, 'Y': 323}, {'Frame': 147, 'ID': 10, 'X': 778, 'Y': 317}, {'Frame': 147, 'ID': 18, 'X': 852, 'Y': 300}, {'Frame': 147, 'ID': 19, 'X': 636, 'Y': 268}, {'Frame': 147, 'ID': 24, 'X': 518, 'Y': 394}, {'Frame': 148, 'ID': 0, 'X': 818, 'Y': 504}, {'Frame': 148, 'ID': 1, 'X': 670, 'Y': 300}, {'Frame': 148, 'ID': 2, 'X': 520, 'Y': 433}, {'Frame': 148, 'ID': 3, 'X': 850, 'Y': 367}, {'Frame': 148, 'ID': 6, 'X': 741, 'Y': 321}, {'Frame': 148, 'ID': 9, 'X': 539, 'Y': 358}, {'Frame': 148, 'ID': 10, 'X': 781, 'Y': 317}, {'Frame': 148, 'ID': 11, 'X': 851, 'Y': 300}, {'Frame': 149, 'ID': 0, 'X': 819, 'Y': 506}, {'Frame': 149, 'ID': 1, 'X': 669, 'Y': 300}, {'Frame': 149, 'ID': 2, 'X': 521, 'Y': 433}, {'Frame': 149, 'ID': 3, 'X': 851, 'Y': 365}, {'Frame': 149, 'ID': 6, 'X': 739, 'Y': 317}, {'Frame': 149, 'ID': 10, 'X': 539, 'Y': 358}, {'Frame': 149, 'ID': 11, 'X': 850, 'Y': 299}, {'Frame': 149, 'ID': 12, 'X': 780, 'Y': 315}, {'Frame': 149, 'ID': 25, 'X': 633, 'Y': 267}, {'Frame': 150, 'ID': 0, 'X': 823, 'Y': 506}, {'Frame': 150, 'ID': 1, 'X': 669, 'Y': 300}, {'Frame': 150, 'ID': 2, 'X': 852, 'Y': 365}, {'Frame': 150, 'ID': 3, 'X': 523, 'Y': 439}, {'Frame': 150, 'ID': 5, 'X': 740, 'Y': 312}, {'Frame': 150, 'ID': 10, 'X': 632, 'Y': 268}, {'Frame': 150, 'ID': 16, 'X': 784, 'Y': 310}, {'Frame': 150, 'ID': 21, 'X': 531, 'Y': 359}, {'Frame': 151, 'ID': 0, 'X': 824, 'Y': 502}, {'Frame': 151, 'ID': 1, 'X': 669, 'Y': 301}, {'Frame': 151, 'ID': 2, 'X': 854, 'Y': 365}, {'Frame': 151, 'ID': 3, 'X': 524, 'Y': 442}, {'Frame': 151, 'ID': 6, 'X': 740, 'Y': 309}, {'Frame': 151, 'ID': 8, 'X': 783, 'Y': 309}, {'Frame': 151, 'ID': 13, 'X': 628, 'Y': 269}, {'Frame': 152, 'ID': 0, 'X': 827, 'Y': 501}, {'Frame': 152, 'ID': 1, 'X': 669, 'Y': 301}, {'Frame': 152, 'ID': 2, 'X': 526, 'Y': 443}, {'Frame': 152, 'ID': 3, 'X': 854, 'Y': 367}, {'Frame': 152, 'ID': 5, 'X': 741, 'Y': 308}, {'Frame': 152, 'ID': 8, 'X': 788, 'Y': 309}, {'Frame': 152, 'ID': 9, 'X': 624, 'Y': 269}, {'Frame': 153, 'ID': 0, 'X': 827, 'Y': 500}, {'Frame': 153, 'ID': 1, 'X': 666, 'Y': 300}, {'Frame': 153, 'ID': 2, 'X': 527, 'Y': 442}, {'Frame': 153, 'ID': 3, 'X': 855, 'Y': 370}, {'Frame': 153, 'ID': 6, 'X': 741, 'Y': 308}, {'Frame': 153, 'ID': 7, 'X': 624, 'Y': 270}, {'Frame': 153, 'ID': 11, 'X': 786, 'Y': 309}, {'Frame': 154, 'ID': 0, 'X': 834, 'Y': 504}, {'Frame': 154, 'ID': 1, 'X': 536, 'Y': 444}, {'Frame': 154, 'ID': 2, 'X': 666, 'Y': 300}, {'Frame': 154, 'ID': 3, 'X': 854, 'Y': 366}, {'Frame': 154, 'ID': 5, 'X': 744, 'Y': 311}, {'Frame': 154, 'ID': 7, 'X': 621, 'Y': 270}, {'Frame': 154, 'ID': 19, 'X': 788, 'Y': 312}, {'Frame': 154, 'ID': 29, 'X': 836, 'Y': 307}, {'Frame': 155, 'ID': 0, 'X': 544, 'Y': 438}, {'Frame': 155, 'ID': 1, 'X': 834, 'Y': 503}, {'Frame': 155, 'ID': 2, 'X': 666, 'Y': 300}, {'Frame': 155, 'ID': 5, 'X': 745, 'Y': 309}, {'Frame': 155, 'ID': 6, 'X': 853, 'Y': 367}, {'Frame': 155, 'ID': 7, 'X': 620, 'Y': 272}, {'Frame': 155, 'ID': 10, 'X': 787, 'Y': 313}, {'Frame': 155, 'ID': 13, 'X': 542, 'Y': 299}, {'Frame': 155, 'ID': 17, 'X': 836, 'Y': 305}, {'Frame': 156, 'ID': 0, 'X': 834, 'Y': 499}, {'Frame': 156, 'ID': 1, 'X': 549, 'Y': 444}, {'Frame': 156, 'ID': 2, 'X': 664, 'Y': 301}, {'Frame': 156, 'ID': 4, 'X': 745, 'Y': 312}, {'Frame': 156, 'ID': 6, 'X': 619, 'Y': 273}, {'Frame': 156, 'ID': 7, 'X': 787, 'Y': 315}, {'Frame': 156, 'ID': 16, 'X': 848, 'Y': 368}, {'Frame': 156, 'ID': 24, 'X': 834, 'Y': 299}, {'Frame': 157, 'ID': 0, 'X': 550, 'Y': 444}, {'Frame': 157, 'ID': 1, 'X': 836, 'Y': 491}, {'Frame': 157, 'ID': 2, 'X': 664, 'Y': 301}, {'Frame': 157, 'ID': 4, 'X': 746, 'Y': 313}, {'Frame': 157, 'ID': 6, 'X': 788, 'Y': 316}, {'Frame': 157, 'ID': 7, 'X': 617, 'Y': 272}, {'Frame': 157, 'ID': 12, 'X': 833, 'Y': 301}, {'Frame': 157, 'ID': 13, 'X': 854, 'Y': 368}, {'Frame': 157, 'ID': 25, 'X': 839, 'Y': 408}, {'Frame': 158, 'ID': 0, 'X': 841, 'Y': 484}, {'Frame': 158, 'ID': 1, 'X': 555, 'Y': 438}, {'Frame': 158, 'ID': 3, 'X': 747, 'Y': 315}, {'Frame': 158, 'ID': 4, 'X': 666, 'Y': 302}, {'Frame': 158, 'ID': 6, 'X': 832, 'Y': 367}, {'Frame': 158, 'ID': 9, 'X': 614, 'Y': 274}, {'Frame': 158, 'ID': 14, 'X': 786, 'Y': 318}, {'Frame': 159, 'ID': 0, 'X': 840, 'Y': 476}, {'Frame': 159, 'ID': 1, 'X': 558, 'Y': 436}, {'Frame': 159, 'ID': 4, 'X': 747, 'Y': 319}, {'Frame': 159, 'ID': 5, 'X': 667, 'Y': 302}, {'Frame': 159, 'ID': 7, 'X': 540, 'Y': 308}, {'Frame': 159, 'ID': 14, 'X': 612, 'Y': 273}, {'Frame': 159, 'ID': 16, 'X': 788, 'Y': 319}, {'Frame': 160, 'ID': 0, 'X': 845, 'Y': 478}, {'Frame': 160, 'ID': 1, 'X': 559, 'Y': 430}, {'Frame': 160, 'ID': 3, 'X': 666, 'Y': 302}, {'Frame': 160, 'ID': 5, 'X': 539, 'Y': 352}, {'Frame': 160, 'ID': 6, 'X': 750, 'Y': 321}, {'Frame': 160, 'ID': 11, 'X': 792, 'Y': 319}, {'Frame': 160, 'ID': 17, 'X': 607, 'Y': 274}, {'Frame': 160, 'ID': 25, 'X': 832, 'Y': 368}, {'Frame': 161, 'ID': 0, 'X': 847, 'Y': 475}, {'Frame': 161, 'ID': 1, 'X': 565, 'Y': 426}, {'Frame': 161, 'ID': 2, 'X': 539, 'Y': 356}, {'Frame': 161, 'ID': 3, 'X': 748, 'Y': 325}, {'Frame': 161, 'ID': 6, 'X': 664, 'Y': 301}, {'Frame': 161, 'ID': 9, 'X': 788, 'Y': 322}, {'Frame': 161, 'ID': 15, 'X': 600, 'Y': 273}, {'Frame': 161, 'ID': 25, 'X': 826, 'Y': 368}, {'Frame': 162, 'ID': 0, 'X': 850, 'Y': 470}, {'Frame': 162, 'ID': 1, 'X': 540, 'Y': 355}, {'Frame': 162, 'ID': 2, 'X': 574, 'Y': 424}, {'Frame': 162, 'ID': 3, 'X': 748, 'Y': 326}, {'Frame': 162, 'ID': 6, 'X': 662, 'Y': 301}, {'Frame': 162, 'ID': 10, 'X': 791, 'Y': 322}, {'Frame': 162, 'ID': 11, 'X': 599, 'Y': 274}, {'Frame': 163, 'ID': 0, 'X': 577, 'Y': 424}, {'Frame': 163, 'ID': 1, 'X': 852, 'Y': 465}, {'Frame': 163, 'ID': 2, 'X': 541, 'Y': 354}, {'Frame': 163, 'ID': 3, 'X': 750, 'Y': 326}, {'Frame': 163, 'ID': 6, 'X': 660, 'Y': 301}, {'Frame': 163, 'ID': 7, 'X': 795, 'Y': 319}, {'Frame': 163, 'ID': 18, 'X': 596, 'Y': 273}, {'Frame': 163, 'ID': 20, 'X': 829, 'Y': 304}, {'Frame': 164, 'ID': 0, 'X': 581, 'Y': 423}, {'Frame': 164, 'ID': 1, 'X': 867, 'Y': 463}, {'Frame': 164, 'ID': 2, 'X': 542, 'Y': 354}, {'Frame': 164, 'ID': 5, 'X': 750, 'Y': 325}, {'Frame': 164, 'ID': 6, 'X': 659, 'Y': 301}, {'Frame': 164, 'ID': 8, 'X': 829, 'Y': 306}, {'Frame': 164, 'ID': 9, 'X': 796, 'Y': 319}, {'Frame': 164, 'ID': 16, 'X': 594, 'Y': 273}, {'Frame': 165, 'ID': 0, 'X': 871, 'Y': 461}, {'Frame': 165, 'ID': 1, 'X': 583, 'Y': 424}, {'Frame': 165, 'ID': 2, 'X': 543, 'Y': 354}, {'Frame': 165, 'ID': 5, 'X': 751, 'Y': 325}, {'Frame': 165, 'ID': 6, 'X': 659, 'Y': 301}, {'Frame': 165, 'ID': 8, 'X': 799, 'Y': 313}, {'Frame': 165, 'ID': 12, 'X': 592, 'Y': 274}, {'Frame': 165, 'ID': 19, 'X': 843, 'Y': 326}, {'Frame': 165, 'ID': 24, 'X': 828, 'Y': 305}, {'Frame': 165, 'ID': 25, 'X': 834, 'Y': 361}, {'Frame': 166, 'ID': 0, 'X': 546, 'Y': 355}, {'Frame': 166, 'ID': 1, 'X': 869, 'Y': 461}, {'Frame': 166, 'ID': 2, 'X': 593, 'Y': 423}, {'Frame': 166, 'ID': 5, 'X': 752, 'Y': 325}, {'Frame': 166, 'ID': 6, 'X': 657, 'Y': 302}, {'Frame': 166, 'ID': 7, 'X': 827, 'Y': 361}, {'Frame': 166, 'ID': 15, 'X': 797, 'Y': 313}, {'Frame': 166, 'ID': 20, 'X': 840, 'Y': 336}, {'Frame': 166, 'ID': 23, 'X': 744, 'Y': 266}, {'Frame': 166, 'ID': 26, 'X': 589, 'Y': 278}, {'Frame': 167, 'ID': 0, 'X': 869, 'Y': 460}, {'Frame': 167, 'ID': 1, 'X': 598, 'Y': 422}, {'Frame': 167, 'ID': 2, 'X': 546, 'Y': 356}, {'Frame': 167, 'ID': 5, 'X': 753, 'Y': 326}, {'Frame': 167, 'ID': 6, 'X': 826, 'Y': 363}, {'Frame': 167, 'ID': 7, 'X': 657, 'Y': 301}, {'Frame': 167, 'ID': 18, 'X': 587, 'Y': 278}, {'Frame': 167, 'ID': 19, 'X': 798, 'Y': 309}, {'Frame': 168, 'ID': 0, 'X': 871, 'Y': 460}, {'Frame': 168, 'ID': 1, 'X': 600, 'Y': 421}, {'Frame': 168, 'ID': 2, 'X': 548, 'Y': 357}, {'Frame': 168, 'ID': 4, 'X': 753, 'Y': 323}, {'Frame': 168, 'ID': 6, 'X': 827, 'Y': 362}, {'Frame': 168, 'ID': 7, 'X': 657, 'Y': 300}, {'Frame': 169, 'ID': 0, 'X': 602, 'Y': 416}, {'Frame': 169, 'ID': 1, 'X': 878, 'Y': 454}, {'Frame': 169, 'ID': 2, 'X': 551, 'Y': 358}, {'Frame': 169, 'ID': 3, 'X': 826, 'Y': 362}, {'Frame': 169, 'ID': 4, 'X': 753, 'Y': 324}, {'Frame': 169, 'ID': 8, 'X': 656, 'Y': 299}, {'Frame': 169, 'ID': 21, 'X': 803, 'Y': 316}, {'Frame': 170, 'ID': 0, 'X': 603, 'Y': 415}, {'Frame': 170, 'ID': 1, 'X': 552, 'Y': 358}, {'Frame': 170, 'ID': 2, 'X': 881, 'Y': 448}, {'Frame': 170, 'ID': 3, 'X': 826, 'Y': 362}, {'Frame': 170, 'ID': 4, 'X': 753, 'Y': 325}, {'Frame': 170, 'ID': 7, 'X': 656, 'Y': 301}, {'Frame': 170, 'ID': 10, 'X': 802, 'Y': 321}, {'Frame': 171, 'ID': 0, 'X': 610, 'Y': 413}, {'Frame': 171, 'ID': 1, 'X': 554, 'Y': 358}, {'Frame': 171, 'ID': 2, 'X': 878, 'Y': 443}, {'Frame': 171, 'ID': 3, 'X': 752, 'Y': 323}, {'Frame': 171, 'ID': 6, 'X': 820, 'Y': 363}, {'Frame': 171, 'ID': 7, 'X': 799, 'Y': 325}, {'Frame': 171, 'ID': 11, 'X': 655, 'Y': 301}, {'Frame': 171, 'ID': 25, 'X': 850, 'Y': 339}, {'Frame': 172, 'ID': 0, 'X': 615, 'Y': 409}, {'Frame': 172, 'ID': 1, 'X': 871, 'Y': 439}, {'Frame': 172, 'ID': 2, 'X': 554, 'Y': 358}, {'Frame': 172, 'ID': 3, 'X': 752, 'Y': 325}, {'Frame': 172, 'ID': 6, 'X': 822, 'Y': 362}, {'Frame': 172, 'ID': 7, 'X': 799, 'Y': 347}, {'Frame': 172, 'ID': 12, 'X': 655, 'Y': 300}, {'Frame': 172, 'ID': 16, 'X': 576, 'Y': 278}, {'Frame': 173, 'ID': 0, 'X': 622, 'Y': 407}, {'Frame': 173, 'ID': 1, 'X': 875, 'Y': 438}, {'Frame': 173, 'ID': 2, 'X': 558, 'Y': 359}, {'Frame': 173, 'ID': 3, 'X': 819, 'Y': 359}, {'Frame': 173, 'ID': 5, 'X': 752, 'Y': 325}, {'Frame': 173, 'ID': 7, 'X': 801, 'Y': 329}, {'Frame': 173, 'ID': 10, 'X': 654, 'Y': 300}, {'Frame': 174, 'ID': 0, 'X': 630, 'Y': 407}, {'Frame': 174, 'ID': 1, 'X': 876, 'Y': 436}, {'Frame': 174, 'ID': 2, 'X': 561, 'Y': 358}, {'Frame': 174, 'ID': 4, 'X': 817, 'Y': 359}, {'Frame': 174, 'ID': 5, 'X': 751, 'Y': 324}, {'Frame': 174, 'ID': 9, 'X': 797, 'Y': 327}, {'Frame': 174, 'ID': 12, 'X': 653, 'Y': 300}, {'Frame': 175, 'ID': 0, 'X': 634, 'Y': 404}, {'Frame': 175, 'ID': 1, 'X': 868, 'Y': 436}, {'Frame': 175, 'ID': 2, 'X': 562, 'Y': 359}, {'Frame': 175, 'ID': 4, 'X': 751, 'Y': 324}, {'Frame': 175, 'ID': 7, 'X': 815, 'Y': 360}, {'Frame': 175, 'ID': 9, 'X': 798, 'Y': 333}, {'Frame': 175, 'ID': 11, 'X': 652, 'Y': 301}, {'Frame': 176, 'ID': 0, 'X': 635, 'Y': 406}, {'Frame': 176, 'ID': 1, 'X': 861, 'Y': 434}, {'Frame': 176, 'ID': 2, 'X': 563, 'Y': 356}, {'Frame': 176, 'ID': 5, 'X': 750, 'Y': 325}, {'Frame': 176, 'ID': 9, 'X': 814, 'Y': 359}, {'Frame': 176, 'ID': 10, 'X': 651, 'Y': 301}, {'Frame': 176, 'ID': 12, 'X': 796, 'Y': 333}, {'Frame': 176, 'ID': 20, 'X': 560, 'Y': 258}, {'Frame': 177, 'ID': 0, 'X': 859, 'Y': 432}, {'Frame': 177, 'ID': 1, 'X': 635, 'Y': 403}, {'Frame': 177, 'ID': 2, 'X': 563, 'Y': 359}, {'Frame': 177, 'ID': 3, 'X': 812, 'Y': 363}, {'Frame': 177, 'ID': 6, 'X': 750, 'Y': 323}, {'Frame': 177, 'ID': 12, 'X': 558, 'Y': 263}, {'Frame': 177, 'ID': 21, 'X': 804, 'Y': 338}, {'Frame': 178, 'ID': 0, 'X': 859, 'Y': 432}, {'Frame': 178, 'ID': 1, 'X': 636, 'Y': 403}, {'Frame': 178, 'ID': 2, 'X': 565, 'Y': 359}, {'Frame': 178, 'ID': 3, 'X': 811, 'Y': 363}, {'Frame': 178, 'ID': 6, 'X': 747, 'Y': 326}, {'Frame': 178, 'ID': 9, 'X': 558, 'Y': 270}, {'Frame': 178, 'ID': 20, 'X': 803, 'Y': 280}, {'Frame': 179, 'ID': 0, 'X': 859, 'Y': 433}, {'Frame': 179, 'ID': 1, 'X': 564, 'Y': 358}, {'Frame': 179, 'ID': 2, 'X': 636, 'Y': 403}, {'Frame': 179, 'ID': 5, 'X': 810, 'Y': 364}, {'Frame': 179, 'ID': 6, 'X': 747, 'Y': 324}, {'Frame': 179, 'ID': 14, 'X': 555, 'Y': 275}, {'Frame': 180, 'ID': 0, 'X': 858, 'Y': 433}, {'Frame': 180, 'ID': 1, 'X': 566, 'Y': 360}, {'Frame': 180, 'ID': 2, 'X': 635, 'Y': 404}, {'Frame': 180, 'ID': 3, 'X': 809, 'Y': 364}, {'Frame': 180, 'ID': 6, 'X': 746, 'Y': 326}, {'Frame': 181, 'ID': 0, 'X': 858, 'Y': 432}, {'Frame': 181, 'ID': 1, 'X': 567, 'Y': 358}, {'Frame': 181, 'ID': 2, 'X': 635, 'Y': 403}, {'Frame': 181, 'ID': 4, 'X': 807, 'Y': 363}, {'Frame': 181, 'ID': 7, 'X': 744, 'Y': 326}, {'Frame': 182, 'ID': 0, 'X': 858, 'Y': 433}, {'Frame': 182, 'ID': 1, 'X': 567, 'Y': 358}, {'Frame': 182, 'ID': 2, 'X': 635, 'Y': 403}, {'Frame': 182, 'ID': 4, 'X': 807, 'Y': 362}, {'Frame': 182, 'ID': 7, 'X': 744, 'Y': 327}, {'Frame': 182, 'ID': 23, 'X': 639, 'Y': 261}, {'Frame': 183, 'ID': 0, 'X': 856, 'Y': 432}, {'Frame': 183, 'ID': 1, 'X': 572, 'Y': 357}, {'Frame': 183, 'ID': 2, 'X': 806, 'Y': 363}, {'Frame': 183, 'ID': 5, 'X': 745, 'Y': 329}, {'Frame': 183, 'ID': 6, 'X': 549, 'Y': 282}, {'Frame': 183, 'ID': 8, 'X': 640, 'Y': 401}, {'Frame': 184, 'ID': 0, 'X': 855, 'Y': 432}, {'Frame': 184, 'ID': 1, 'X': 575, 'Y': 358}, {'Frame': 184, 'ID': 2, 'X': 805, 'Y': 364}, {'Frame': 184, 'ID': 5, 'X': 547, 'Y': 282}, {'Frame': 184, 'ID': 7, 'X': 741, 'Y': 328}, {'Frame': 184, 'ID': 8, 'X': 643, 'Y': 396}, {'Frame': 185, 'ID': 0, 'X': 854, 'Y': 430}, {'Frame': 185, 'ID': 1, 'X': 576, 'Y': 358}, {'Frame': 185, 'ID': 2, 'X': 649, 'Y': 394}, {'Frame': 185, 'ID': 3, 'X': 741, 'Y': 327}, {'Frame': 185, 'ID': 5, 'X': 804, 'Y': 364}, {'Frame': 185, 'ID': 7, 'X': 544, 'Y': 281}, {'Frame': 185, 'ID': 22, 'X': 641, 'Y': 261}, {'Frame': 185, 'ID': 24, 'X': 797, 'Y': 266}, {'Frame': 186, 'ID': 0, 'X': 852, 'Y': 429}, {'Frame': 186, 'ID': 1, 'X': 577, 'Y': 360}, {'Frame': 186, 'ID': 2, 'X': 654, 'Y': 390}, {'Frame': 186, 'ID': 4, 'X': 543, 'Y': 283}, {'Frame': 186, 'ID': 6, 'X': 742, 'Y': 329}, {'Frame': 186, 'ID': 8, 'X': 804, 'Y': 364}, {'Frame': 186, 'ID': 17, 'X': 638, 'Y': 260}, {'Frame': 186, 'ID': 23, 'X': 798, 'Y': 267}, {'Frame': 187, 'ID': 0, 'X': 579, 'Y': 359}, {'Frame': 187, 'ID': 1, 'X': 654, 'Y': 387}, {'Frame': 187, 'ID': 2, 'X': 848, 'Y': 429}, {'Frame': 187, 'ID': 4, 'X': 740, 'Y': 329}, {'Frame': 187, 'ID': 6, 'X': 543, 'Y': 283}, {'Frame': 187, 'ID': 8, 'X': 805, 'Y': 364}, {'Frame': 187, 'ID': 17, 'X': 638, 'Y': 260}, {'Frame': 187, 'ID': 22, 'X': 799, 'Y': 268}, {'Frame': 188, 'ID': 0, 'X': 841, 'Y': 428}, {'Frame': 188, 'ID': 1, 'X': 579, 'Y': 360}, {'Frame': 188, 'ID': 2, 'X': 659, 'Y': 386}, {'Frame': 188, 'ID': 3, 'X': 542, 'Y': 282}, {'Frame': 188, 'ID': 5, 'X': 736, 'Y': 330}, {'Frame': 188, 'ID': 8, 'X': 802, 'Y': 363}, {'Frame': 188, 'ID': 22, 'X': 638, 'Y': 261}, {'Frame': 189, 'ID': 0, 'X': 834, 'Y': 430}, {'Frame': 189, 'ID': 1, 'X': 579, 'Y': 360}, {'Frame': 189, 'ID': 2, 'X': 659, 'Y': 387}, {'Frame': 189, 'ID': 3, 'X': 541, 'Y': 282}, {'Frame': 189, 'ID': 6, 'X': 735, 'Y': 329}, {'Frame': 189, 'ID': 8, 'X': 798, 'Y': 363}, {'Frame': 189, 'ID': 21, 'X': 638, 'Y': 262}, {'Frame': 190, 'ID': 0, 'X': 579, 'Y': 359}, {'Frame': 190, 'ID': 1, 'X': 660, 'Y': 386}, {'Frame': 190, 'ID': 2, 'X': 827, 'Y': 428}, {'Frame': 190, 'ID': 3, 'X': 539, 'Y': 281}, {'Frame': 190, 'ID': 6, 'X': 733, 'Y': 332}, {'Frame': 190, 'ID': 10, 'X': 798, 'Y': 362}, {'Frame': 190, 'ID': 23, 'X': 638, 'Y': 263}, {'Frame': 191, 'ID': 0, 'X': 579, 'Y': 359}, {'Frame': 191, 'ID': 1, 'X': 662, 'Y': 382}, {'Frame': 191, 'ID': 2, 'X': 541, 'Y': 282}, {'Frame': 191, 'ID': 4, 'X': 823, 'Y': 430}, {'Frame': 191, 'ID': 6, 'X': 732, 'Y': 333}, {'Frame': 191, 'ID': 8, 'X': 799, 'Y': 354}, {'Frame': 191, 'ID': 23, 'X': 638, 'Y': 301}, {'Frame': 191, 'ID': 25, 'X': 825, 'Y': 290}, {'Frame': 192, 'ID': 0, 'X': 582, 'Y': 360}, {'Frame': 192, 'ID': 1, 'X': 664, 'Y': 384}, {'Frame': 192, 'ID': 2, 'X': 541, 'Y': 282}, {'Frame': 192, 'ID': 4, 'X': 824, 'Y': 429}, {'Frame': 192, 'ID': 6, 'X': 733, 'Y': 335}, {'Frame': 192, 'ID': 8, 'X': 797, 'Y': 350}, {'Frame': 192, 'ID': 25, 'X': 787, 'Y': 350}, {'Frame': 193, 'ID': 0, 'X': 664, 'Y': 383}, {'Frame': 193, 'ID': 1, 'X': 583, 'Y': 360}, {'Frame': 193, 'ID': 2, 'X': 815, 'Y': 426}, {'Frame': 193, 'ID': 4, 'X': 541, 'Y': 282}, {'Frame': 193, 'ID': 6, 'X': 729, 'Y': 334}, {'Frame': 193, 'ID': 7, 'X': 798, 'Y': 344}, {'Frame': 194, 'ID': 0, 'X': 585, 'Y': 361}, {'Frame': 194, 'ID': 1, 'X': 666, 'Y': 383}, {'Frame': 194, 'ID': 2, 'X': 815, 'Y': 428}, {'Frame': 194, 'ID': 3, 'X': 542, 'Y': 283}, {'Frame': 194, 'ID': 6, 'X': 798, 'Y': 353}, {'Frame': 194, 'ID': 7, 'X': 727, 'Y': 335}, {'Frame': 195, 'ID': 0, 'X': 815, 'Y': 427}, {'Frame': 195, 'ID': 1, 'X': 668, 'Y': 382}, {'Frame': 195, 'ID': 2, 'X': 592, 'Y': 363}, {'Frame': 195, 'ID': 3, 'X': 542, 'Y': 281}, {'Frame': 195, 'ID': 5, 'X': 795, 'Y': 356}, {'Frame': 195, 'ID': 7, 'X': 723, 'Y': 332}, {'Frame': 195, 'ID': 17, 'X': 638, 'Y': 304}]\n"
          ],
          "name": "stdout"
        },
        {
          "output_type": "stream",
          "text": [
            "\n"
          ],
          "name": "stderr"
        }
      ]
    },
    {
      "cell_type": "code",
      "metadata": {
        "id": "Be03-LdjrLYa",
        "colab_type": "code",
        "colab": {
          "base_uri": "https://localhost:8080/",
          "height": 296
        },
        "outputId": "210bd38d-23f9-4fbe-9675-e1edafb8b180"
      },
      "source": [
        "import pandas as pd\n",
        "df = pd.DataFrame(all_pos)\n",
        "df[df['ID'] == 0].plot('X','Y',kind='scatter')"
      ],
      "execution_count": null,
      "outputs": [
        {
          "output_type": "execute_result",
          "data": {
            "text/plain": [
              "<matplotlib.axes._subplots.AxesSubplot at 0x7f14edf26f98>"
            ]
          },
          "metadata": {
            "tags": []
          },
          "execution_count": 33
        },
        {
          "output_type": "display_data",
          "data": {
            "image/png": "[encoded data removed]",
            "text/plain": [
              "<Figure size 432x288 with 1 Axes>"
            ]
          },
          "metadata": {
            "tags": [],
            "needs_background": "light"
          }
        }
      ]
    },
    {
      "cell_type": "code",
      "metadata": {
        "id": "jBYZ1zY7u57T",
        "colab_type": "code",
        "colab": {}
      },
      "source": [
        "src_pts = np.array([df[['X', 'Y']].astype('float32').values])\n",
        "dst_pts = cv2.perspectiveTransform(src_pts, M).squeeze()"
      ],
      "execution_count": null,
      "outputs": []
    },
    {
      "cell_type": "code",
      "metadata": {
        "id": "Je2IgxOcQ7lA",
        "colab_type": "code",
        "colab": {}
      },
      "source": [
        "df[['TX', 'TY']] = pd.DataFrame(dst_pts, columns=['TX', 'TY'])"
      ],
      "execution_count": null,
      "outputs": []
    },
    {
      "cell_type": "code",
      "metadata": {
        "id": "MolKMHZcTBQ3",
        "colab_type": "code",
        "colab": {
          "base_uri": "https://localhost:8080/",
          "height": 238
        },
        "outputId": "e4de22ab-383f-4aa8-8cac-e5d00107081a"
      },
      "source": [
        "df.info()"
      ],
      "execution_count": null,
      "outputs": [
        {
          "output_type": "stream",
          "text": [
            "<class 'pandas.core.frame.DataFrame'>\n",
            "RangeIndex: 1610 entries, 0 to 1609\n",
            "Data columns (total 6 columns):\n",
            " #   Column  Non-Null Count  Dtype  \n",
            "---  ------  --------------  -----  \n",
            " 0   Frame   1610 non-null   int64  \n",
            " 1   ID      1610 non-null   int64  \n",
            " 2   X       1610 non-null   int64  \n",
            " 3   Y       1610 non-null   int64  \n",
            " 4   TX      1610 non-null   float32\n",
            " 5   TY      1610 non-null   float32\n",
            "dtypes: float32(2), int64(4)\n",
            "memory usage: 63.0 KB\n"
          ],
          "name": "stdout"
        }
      ]
    },
    {
      "cell_type": "code",
      "metadata": {
        "id": "MHpdUgNPOFJp",
        "colab_type": "code",
        "colab": {
          "base_uri": "https://localhost:8080/",
          "height": 626
        },
        "outputId": "24c3198a-0066-4baa-b263-280571efd0a1"
      },
      "source": [
        "import matplotlib.pyplot as plt\n",
        "\n",
        "court_diagram = cv2.imread('/gdrive/My Drive/VB/Video/court-diagram-vertical.jpg')\n",
        "\n",
        "def annotate_df(row):  \n",
        "  ax.text(row['TX'], row['TY'], row['ID'].astype('int'))\n",
        "\n",
        "ax = df[df['ID'].isin([0,1])].plot(x='TX', y='TY', kind='scatter', s=0.5, figsize=(16,10))\n",
        "_ = df[df['ID'].isin([0,1])].apply(annotate_df, axis=1)\n",
        "plt.imshow(court_diagram)"
      ],
      "execution_count": null,
      "outputs": [
        {
          "output_type": "execute_result",
          "data": {
            "text/plain": [
              "<matplotlib.image.AxesImage at 0x7f14edeecb00>"
            ]
          },
          "metadata": {
            "tags": []
          },
          "execution_count": 37
        },
        {
          "output_type": "display_data",
          "data": {
            "image/png": "[encoded data removed]",
            "text/plain": [
              "<Figure size 1152x720 with 1 Axes>"
            ]
          },
          "metadata": {
            "tags": [],
            "needs_background": "light"
          }
        }
      ]
    },
    {
      "cell_type": "code",
      "metadata": {
        "id": "Oxfmf0Gcp4T2",
        "colab_type": "code",
        "colab": {
          "base_uri": "https://localhost:8080/",
          "height": 1000
        },
        "outputId": "42a6f73b-2a59-431f-85c3-dc1208ad616c"
      },
      "source": [
        "outputs['instances']"
      ],
      "execution_count": null,
      "outputs": [
        {
          "output_type": "execute_result",
          "data": {
            "text/plain": [
              "Instances(num_instances=27, image_height=720, image_width=1280, fields=[pred_boxes: Boxes(tensor([[7.8184e+02, 2.5586e+02, 8.4883e+02, 4.2799e+02],\n",
              "        [6.4005e+02, 2.4984e+02, 6.9651e+02, 3.8234e+02],\n",
              "        [5.6266e+02, 2.1371e+02, 6.2189e+02, 3.6343e+02],\n",
              "        [5.2819e+02, 1.9973e+02, 5.5752e+02, 2.8179e+02],\n",
              "        [1.1881e+03, 3.3310e+02, 1.2784e+03, 4.2718e+02],\n",
              "        [7.7022e+02, 2.3636e+02, 8.2021e+02, 3.5670e+02],\n",
              "        [1.1338e+03, 2.9286e+02, 1.2306e+03, 3.9108e+02],\n",
              "        [7.0849e+02, 2.2107e+02, 7.3770e+02, 3.3216e+02],\n",
              "        [1.0104e+03, 2.1551e+02, 1.0403e+03, 3.2154e+02],\n",
              "        [1.1221e-01, 3.3781e+02, 6.0422e+01, 4.5910e+02],\n",
              "        [4.7108e+01, 2.5764e+02, 8.8852e+01, 3.4025e+02],\n",
              "        [1.0592e+03, 2.5751e+02, 1.1170e+03, 3.6032e+02],\n",
              "        [2.6886e+02, 1.5441e+02, 3.0542e+02, 2.6196e+02],\n",
              "        [4.6627e+02, 1.9803e+02, 4.8447e+02, 2.3642e+02],\n",
              "        [1.1748e+02, 2.9858e+02, 1.7279e+02, 3.8695e+02],\n",
              "        [9.7366e+02, 2.0515e+02, 1.0072e+03, 2.5199e+02],\n",
              "        [1.6552e+02, 2.2014e+02, 2.0771e+02, 3.2298e+02],\n",
              "        [6.2602e+02, 2.0636e+02, 6.5095e+02, 3.0436e+02],\n",
              "        [2.2294e+02, 2.2705e+02, 2.4520e+02, 3.0589e+02],\n",
              "        [1.1370e+03, 3.7944e+02, 1.1940e+03, 4.0335e+02],\n",
              "        [1.1009e+03, 2.7796e+02, 1.1576e+03, 3.6964e+02],\n",
              "        [1.1469e+02, 2.4673e+02, 1.4763e+02, 3.0899e+02],\n",
              "        [3.8299e+02, 2.0368e+02, 4.0947e+02, 2.4495e+02],\n",
              "        [4.9763e+02, 1.9542e+02, 5.1721e+02, 2.3634e+02],\n",
              "        [7.9051e+02, 2.0666e+02, 8.1512e+02, 2.3869e+02],\n",
              "        [1.2093e+03, 4.1448e+02, 1.2792e+03, 4.5135e+02],\n",
              "        [3.0077e+02, 1.6689e+02, 3.2819e+02, 1.9676e+02]], device='cuda:0')), scores: tensor([0.9813, 0.9784, 0.9734, 0.9703, 0.9702, 0.9601, 0.9598, 0.9337, 0.8373,\n",
              "        0.8290, 0.8007, 0.7636, 0.7555, 0.7514, 0.7461, 0.7301, 0.7065, 0.6714,\n",
              "        0.6420, 0.6397, 0.6182, 0.6172, 0.6133, 0.5734, 0.5403, 0.5141, 0.5075],\n",
              "       device='cuda:0'), pred_classes: tensor([ 0,  0,  0,  0,  0,  0,  0,  0,  0,  0,  0,  0,  0,  0,  0,  0,  0,  0,\n",
              "         0, 36,  0,  0,  0,  0,  0, 36,  0], device='cuda:0'), pred_masks: tensor([[[False, False, False,  ..., False, False, False],\n",
              "         [False, False, False,  ..., False, False, False],\n",
              "         [False, False, False,  ..., False, False, False],\n",
              "         ...,\n",
              "         [False, False, False,  ..., False, False, False],\n",
              "         [False, False, False,  ..., False, False, False],\n",
              "         [False, False, False,  ..., False, False, False]],\n",
              "\n",
              "        [[False, False, False,  ..., False, False, False],\n",
              "         [False, False, False,  ..., False, False, False],\n",
              "         [False, False, False,  ..., False, False, False],\n",
              "         ...,\n",
              "         [False, False, False,  ..., False, False, False],\n",
              "         [False, False, False,  ..., False, False, False],\n",
              "         [False, False, False,  ..., False, False, False]],\n",
              "\n",
              "        [[False, False, False,  ..., False, False, False],\n",
              "         [False, False, False,  ..., False, False, False],\n",
              "         [False, False, False,  ..., False, False, False],\n",
              "         ...,\n",
              "         [False, False, False,  ..., False, False, False],\n",
              "         [False, False, False,  ..., False, False, False],\n",
              "         [False, False, False,  ..., False, False, False]],\n",
              "\n",
              "        ...,\n",
              "\n",
              "        [[False, False, False,  ..., False, False, False],\n",
              "         [False, False, False,  ..., False, False, False],\n",
              "         [False, False, False,  ..., False, False, False],\n",
              "         ...,\n",
              "         [False, False, False,  ..., False, False, False],\n",
              "         [False, False, False,  ..., False, False, False],\n",
              "         [False, False, False,  ..., False, False, False]],\n",
              "\n",
              "        [[False, False, False,  ..., False, False, False],\n",
              "         [False, False, False,  ..., False, False, False],\n",
              "         [False, False, False,  ..., False, False, False],\n",
              "         ...,\n",
              "         [False, False, False,  ..., False, False, False],\n",
              "         [False, False, False,  ..., False, False, False],\n",
              "         [False, False, False,  ..., False, False, False]],\n",
              "\n",
              "        [[False, False, False,  ..., False, False, False],\n",
              "         [False, False, False,  ..., False, False, False],\n",
              "         [False, False, False,  ..., False, False, False],\n",
              "         ...,\n",
              "         [False, False, False,  ..., False, False, False],\n",
              "         [False, False, False,  ..., False, False, False],\n",
              "         [False, False, False,  ..., False, False, False]]], device='cuda:0')])"
            ]
          },
          "metadata": {
            "tags": []
          },
          "execution_count": 70
        }
      ]
    },
    {
      "cell_type": "markdown",
      "metadata": {
        "id": "x9kJukZlVlJT",
        "colab_type": "text"
      },
      "source": [
        "Court Identification"
      ]
    },
    {
      "cell_type": "code",
      "metadata": {
        "id": "CJM3MCW2e-LH",
        "colab_type": "code",
        "colab": {
          "base_uri": "https://localhost:8080/",
          "height": 153
        },
        "outputId": "306a6c5d-d09c-49f6-ab33-f2b7a4c1f85a"
      },
      "source": [
        "!apt install ffmpeg"
      ],
      "execution_count": null,
      "outputs": [
        {
          "output_type": "stream",
          "text": [
            "Reading package lists... Done\n",
            "Building dependency tree       \n",
            "Reading state information... Done\n",
            "ffmpeg is already the newest version (7:3.4.6-0ubuntu0.18.04.1).\n",
            "The following package was automatically installed and is no longer required:\n",
            "  libnvidia-common-440\n",
            "Use 'apt autoremove' to remove it.\n",
            "0 upgraded, 0 newly installed, 0 to remove and 33 not upgraded.\n"
          ],
          "name": "stdout"
        }
      ]
    },
    {
      "cell_type": "code",
      "metadata": {
        "id": "xVE2uoipVpfk",
        "colab_type": "code",
        "colab": {
          "base_uri": "https://localhost:8080/",
          "height": 887
        },
        "outputId": "278ccce5-1199-4d34-e1b0-79c8d9b8302a"
      },
      "source": [
        "!ffmpeg -i \"/gdrive/My Drive/VB/Video/MBVF M7 S3.mp4\" -t 00:00:06 -c:v copy video-clip.mp4"
      ],
      "execution_count": null,
      "outputs": [
        {
          "output_type": "stream",
          "text": [
            "ffmpeg version 3.4.6-0ubuntu0.18.04.1 Copyright (c) 2000-2019 the FFmpeg developers\n",
            "  built with gcc 7 (Ubuntu 7.3.0-16ubuntu3)\n",
            "  configuration: --prefix=/usr --extra-version=0ubuntu0.18.04.1 --toolchain=hardened --libdir=/usr/lib/x86_64-linux-gnu --incdir=/usr/include/x86_64-linux-gnu --enable-gpl --disable-stripping --enable-avresample --enable-avisynth --enable-gnutls --enable-ladspa --enable-libass --enable-libbluray --enable-libbs2b --enable-libcaca --enable-libcdio --enable-libflite --enable-libfontconfig --enable-libfreetype --enable-libfribidi --enable-libgme --enable-libgsm --enable-libmp3lame --enable-libmysofa --enable-libopenjpeg --enable-libopenmpt --enable-libopus --enable-libpulse --enable-librubberband --enable-librsvg --enable-libshine --enable-libsnappy --enable-libsoxr --enable-libspeex --enable-libssh --enable-libtheora --enable-libtwolame --enable-libvorbis --enable-libvpx --enable-libwavpack --enable-libwebp --enable-libx265 --enable-libxml2 --enable-libxvid --enable-libzmq --enable-libzvbi --enable-omx --enable-openal --enable-opengl --enable-sdl2 --enable-libdc1394 --enable-libdrm --enable-libiec61883 --enable-chromaprint --enable-frei0r --enable-libopencv --enable-libx264 --enable-shared\n",
            "  libavutil      55. 78.100 / 55. 78.100\n",
            "  libavcodec     57.107.100 / 57.107.100\n",
            "  libavformat    57. 83.100 / 57. 83.100\n",
            "  libavdevice    57. 10.100 / 57. 10.100\n",
            "  libavfilter     6.107.100 /  6.107.100\n",
            "  libavresample   3.  7.  0 /  3.  7.  0\n",
            "  libswscale      4.  8.100 /  4.  8.100\n",
            "  libswresample   2.  9.100 /  2.  9.100\n",
            "  libpostproc    54.  7.100 / 54.  7.100\n",
            "Input #0, mov,mp4,m4a,3gp,3g2,mj2, from '/gdrive/My Drive/VB/Video/MBVF M7 S3.mp4':\n",
            "  Metadata:\n",
            "    major_brand     : mp42\n",
            "    minor_version   : 0\n",
            "    compatible_brands: isommp42\n",
            "    creation_time   : 2020-03-09T04:23:42.000000Z\n",
            "    encoder         : Google\n",
            "  Duration: 00:12:05.25, start: 0.000000, bitrate: 1962 kb/s\n",
            "    Stream #0:0(und): Video: h264 (High) (avc1 / 0x31637661), yuv420p(tv, smpte170m/bt709/bt709), 1280x720 [SAR 1:1 DAR 16:9], 1862 kb/s, 28.11 fps, 28.11 tbr, 11246 tbn, 56.23 tbc (default)\n",
            "    Metadata:\n",
            "      creation_time   : 2020-03-09T04:23:42.000000Z\n",
            "      handler_name    : ISO Media file produced by Google Inc. Created on: 03/08/2020.\n",
            "    Stream #0:1(und): Audio: aac (LC) (mp4a / 0x6134706D), 44100 Hz, mono, fltp, 96 kb/s (default)\n",
            "    Metadata:\n",
            "      creation_time   : 2020-03-09T04:23:42.000000Z\n",
            "      handler_name    : ISO Media file produced by Google Inc. Created on: 03/08/2020.\n",
            "Stream mapping:\n",
            "  Stream #0:0 -> #0:0 (copy)\n",
            "  Stream #0:1 -> #0:1 (aac (native) -> aac (native))\n",
            "Press [q] to stop, [?] for help\n",
            "Output #0, mp4, to 'video-clip.mp4':\n",
            "  Metadata:\n",
            "    major_brand     : mp42\n",
            "    minor_version   : 0\n",
            "    compatible_brands: isommp42\n",
            "    encoder         : Lavf57.83.100\n",
            "    Stream #0:0(und): Video: h264 (High) (avc1 / 0x31637661), yuv420p(tv, smpte170m/bt709/bt709), 1280x720 [SAR 1:1 DAR 16:9], q=2-31, 1862 kb/s, 28.11 fps, 28.11 tbr, 11246 tbn, 11246 tbc (default)\n",
            "    Metadata:\n",
            "      creation_time   : 2020-03-09T04:23:42.000000Z\n",
            "      handler_name    : ISO Media file produced by Google Inc. Created on: 03/08/2020.\n",
            "    Stream #0:1(und): Audio: aac (LC) (mp4a / 0x6134706D), 44100 Hz, mono, fltp, 69 kb/s (default)\n",
            "    Metadata:\n",
            "      creation_time   : 2020-03-09T04:23:42.000000Z\n",
            "      handler_name    : ISO Media file produced by Google Inc. Created on: 03/08/2020.\n",
            "      encoder         : Lavc57.107.100 aac\n",
            "frame=  170 fps=0.0 q=-1.0 Lsize=    1544kB time=00:00:06.01 bitrate=2103.8kbits/s speed=52.5x    \n",
            "video:1485kB audio:52kB subtitle:0kB other streams:0kB global headers:0kB muxing overhead: 0.461930%\n",
            "\u001b[1;36m[aac @ 0x5574e03f9700] \u001b[0mQavg: 916.534\n"
          ],
          "name": "stdout"
        }
      ]
    },
    {
      "cell_type": "code",
      "metadata": {
        "id": "qNKodC8yV-d6",
        "colab_type": "code",
        "colab": {
          "base_uri": "https://localhost:8080/",
          "height": 343
        },
        "outputId": "04239223-07a5-44f5-91bf-8bf55311b41b"
      },
      "source": [
        "!git clone https://github.com/facebookresearch/detectron2\n",
        "!pip uninstall -y opencv-python-headless opencv-contrib-python\n",
        "!apt install python3-opencv  # the one pre-installed have some issues\n",
        "!python detectron2/demo/demo.py --config-file detectron2/configs/COCO-PanopticSegmentation/panoptic_fpn_R_101_3x.yaml --video-input video-clip.mp4 --confidence-threshold 0.6 --output video-output.mkv \\\n",
        "  --opts MODEL.WEIGHTS detectron2://COCO-PanopticSegmentation/panoptic_fpn_R_101_3x/139514519/model_final_cafdb1.pkl"
      ],
      "execution_count": null,
      "outputs": [
        {
          "output_type": "stream",
          "text": [
            "fatal: destination path 'detectron2' already exists and is not an empty directory.\n",
            "\u001b[33mWARNING: Skipping opencv-python-headless as it is not installed.\u001b[0m\n",
            "Uninstalling opencv-contrib-python-4.1.2.30:\n",
            "  Successfully uninstalled opencv-contrib-python-4.1.2.30\n",
            "Reading package lists... Done\n",
            "Building dependency tree       \n",
            "Reading state information... Done\n",
            "python3-opencv is already the newest version (3.2.0+dfsg-4ubuntu0.1).\n",
            "The following package was automatically installed and is no longer required:\n",
            "  libnvidia-common-440\n",
            "Use 'apt autoremove' to remove it.\n",
            "0 upgraded, 0 newly installed, 0 to remove and 33 not upgraded.\n",
            "Failed to load OpenCL runtime\n",
            "\u001b[32m[07/09 16:21:35 detectron2]: \u001b[0mArguments: Namespace(confidence_threshold=0.6, config_file='detectron2/configs/COCO-PanopticSegmentation/panoptic_fpn_R_101_3x.yaml', input=None, opts=['MODEL.WEIGHTS', 'detectron2://COCO-PanopticSegmentation/panoptic_fpn_R_101_3x/139514519/model_final_cafdb1.pkl'], output='video-output.mkv', video_input='video-clip.mp4', webcam=False)\n",
            "\u001b[32m[07/09 16:21:39 fvcore.common.checkpoint]: \u001b[0mLoading checkpoint from detectron2://COCO-PanopticSegmentation/panoptic_fpn_R_101_3x/139514519/model_final_cafdb1.pkl\n",
            "\u001b[32m[07/09 16:21:39 fvcore.common.file_io]: \u001b[0mURL https://dl.fbaipublicfiles.com/detectron2/COCO-PanopticSegmentation/panoptic_fpn_R_101_3x/139514519/model_final_cafdb1.pkl cached in /root/.torch/fvcore_cache/detectron2/COCO-PanopticSegmentation/panoptic_fpn_R_101_3x/139514519/model_final_cafdb1.pkl\n",
            "\u001b[32m[07/09 16:21:39 fvcore.common.checkpoint]: \u001b[0mReading a file from 'Detectron2 Model Zoo'\n",
            " 99% 169/170 [04:15<00:01,  1.51s/it]\n"
          ],
          "name": "stdout"
        }
      ]
    },
    {
      "cell_type": "code",
      "metadata": {
        "id": "yFzrztr4a9nL",
        "colab_type": "code",
        "colab": {
          "base_uri": "https://localhost:8080/",
          "height": 34
        },
        "outputId": "9b4b984a-a149-48d3-c229-dac8ad70e771"
      },
      "source": [
        "panopt = get_cfg()\n",
        "# add project-specific config (e.g., TensorMask) here if you're not running a model in detectron2's core library\n",
        "panopt.merge_from_file(model_zoo.get_config_file(\"COCO-PanopticSegmentation/panoptic_fpn_R_101_3x.yaml\"))\n",
        "panopt.MODEL.ROI_HEADS.SCORE_THRESH_TEST = 0.5  # set threshold for this model\n",
        "# Find a model from detectron2's model zoo. You can use the https://dl.fbaipublicfiles... url as well\n",
        "panopt.MODEL.WEIGHTS = model_zoo.get_checkpoint_url(\"COCO-PanopticSegmentation/panoptic_fpn_R_101_3x.yaml\")\n",
        "panopt_pred = DefaultPredictor(panopt)"
      ],
      "execution_count": null,
      "outputs": [
        {
          "output_type": "stream",
          "text": [
            "model_final_cafdb1.pkl: 261MB [00:26, 9.99MB/s]                           \n"
          ],
          "name": "stderr"
        }
      ]
    },
    {
      "cell_type": "code",
      "metadata": {
        "id": "8epz7nk9bngh",
        "colab_type": "code",
        "colab": {
          "base_uri": "https://localhost:8080/",
          "height": 34
        },
        "outputId": "cb949e33-44d3-45b0-d832-d8be83fb2c20"
      },
      "source": [
        "v = VideoVisualizer(MetadataCatalog.get(panopt.DATASETS.TRAIN[0]), ColorMode.IMAGE)\n",
        "\n",
        "cap = cv2.VideoCapture('/gdrive/My Drive/Colab Notebooks/MBVF M7 S3.mp4')\n",
        "width = int(cap.get(cv2.CAP_PROP_FRAME_WIDTH))\n",
        "height = int(cap.get(cv2.CAP_PROP_FRAME_HEIGHT))\n",
        "frames_per_second = cap.get(cv2.CAP_PROP_FPS)\n",
        "num_frames = int(cap.get(cv2.CAP_PROP_FRAME_COUNT))\n",
        "\n",
        "fourcc = cv2.VideoWriter_fourcc('M', 'P', '4', 'V')\n",
        "videoOut = cv2.VideoWriter('/gdrive/My Drive/Colab Notebooks/panopt.mp4', fourcc, 20.0, \n",
        "                           (width,height))\n",
        "\n",
        "\n",
        "\n",
        "for ix in tqdm(range(int(1 * frames_per_second))):\n",
        "  ret, frame = cap.read()\n",
        "  outputs = panopt_pred(frame)\n",
        "  panoptic_seg, segments_info = outputs['panoptic_seg']\n",
        "\n",
        "  visualization = v.draw_panoptic_seg_predictions(frame, panoptic_seg.to(\"cpu\"), segments_info)\n",
        "  visualization = cv2.cvtColor(visualization.get_image(), cv2.COLOR_RGB2BGR)\n",
        "  videoOut.write(visualization)\n",
        "\n",
        "videoOut.release()\n",
        "cap.release()\n"
      ],
      "execution_count": null,
      "outputs": [
        {
          "output_type": "stream",
          "text": [
            "100%|██████████| 28/28 [00:32<00:00,  1.16s/it]\n"
          ],
          "name": "stderr"
        }
      ]
    },
    {
      "cell_type": "code",
      "metadata": {
        "id": "4xf1opHhspnt",
        "colab_type": "code",
        "colab": {
          "base_uri": "https://localhost:8080/",
          "height": 1000
        },
        "outputId": "1d930921-0c6c-4076-a553-9edbef5280af"
      },
      "source": [
        "outputs"
      ],
      "execution_count": null,
      "outputs": [
        {
          "output_type": "execute_result",
          "data": {
            "text/plain": [
              "{'instances': Instances(num_instances=25, image_height=720, image_width=1280, fields=[pred_boxes: Boxes(tensor([[7.0581e+02, 2.8405e+02, 7.8971e+02, 4.4901e+02],\n",
              "         [8.5579e+02, 2.5946e+02, 9.1743e+02, 4.0870e+02],\n",
              "         [4.3619e+02, 2.6934e+02, 5.2927e+02, 4.4951e+02],\n",
              "         [1.1809e+03, 2.9154e+02, 1.2467e+03, 4.4250e+02],\n",
              "         [5.9427e+02, 2.2438e+02, 6.5218e+02, 3.4113e+02],\n",
              "         [7.9337e+02, 2.4163e+02, 8.2656e+02, 3.6182e+02],\n",
              "         [5.5742e+02, 2.1391e+02, 5.8750e+02, 3.1401e+02],\n",
              "         [1.1267e+03, 2.4763e+02, 1.1896e+03, 4.1557e+02],\n",
              "         [4.2208e+02, 2.4585e+02, 4.6569e+02, 3.7317e+02],\n",
              "         [1.0477e+03, 2.4373e+02, 1.1188e+03, 3.9090e+02],\n",
              "         [1.0726e+02, 2.9283e+02, 1.6829e+02, 3.8354e+02],\n",
              "         [1.0076e+03, 2.1945e+02, 1.0524e+03, 3.3054e+02],\n",
              "         [1.3350e-01, 3.3095e+02, 6.9308e+01, 4.5251e+02],\n",
              "         [1.3404e+02, 2.7986e+02, 1.9198e+02, 3.7040e+02],\n",
              "         [1.9090e+02, 2.2445e+02, 2.2051e+02, 3.2210e+02],\n",
              "         [7.0795e+02, 2.1524e+02, 7.4739e+02, 3.1428e+02],\n",
              "         [2.9565e+02, 1.9782e+02, 3.3939e+02, 2.8887e+02],\n",
              "         [1.1061e+03, 2.7043e+02, 1.1518e+03, 3.6858e+02],\n",
              "         [6.7852e+02, 2.0755e+02, 7.0303e+02, 2.9746e+02],\n",
              "         [6.9497e+02, 2.0548e+02, 7.2074e+02, 2.9125e+02],\n",
              "         [5.0207e+01, 2.5551e+02, 8.8293e+01, 3.3976e+02],\n",
              "         [1.1772e+03, 4.2636e+02, 1.2173e+03, 4.4435e+02],\n",
              "         [7.3855e+02, 1.9283e+02, 7.6825e+02, 2.6556e+02],\n",
              "         [9.6486e+02, 2.0096e+02, 1.0003e+03, 2.4847e+02],\n",
              "         [6.3171e+02, 1.8955e+02, 6.5109e+02, 2.3045e+02]], device='cuda:0')), scores: tensor([0.9976, 0.9968, 0.9953, 0.9888, 0.9888, 0.9878, 0.9743, 0.9686, 0.9438,\n",
              "         0.9294, 0.9171, 0.8774, 0.8075, 0.7766, 0.7311, 0.7123, 0.7046, 0.6722,\n",
              "         0.6459, 0.6245, 0.5874, 0.5574, 0.5543, 0.5377, 0.5280],\n",
              "        device='cuda:0'), pred_classes: tensor([ 0,  0,  0,  0,  0,  0,  0,  0,  0,  0,  0,  0,  0,  0,  0,  0,  0,  0,\n",
              "          0,  0,  0, 36,  0,  0,  0], device='cuda:0'), pred_masks: tensor([[[False, False, False,  ..., False, False, False],\n",
              "          [False, False, False,  ..., False, False, False],\n",
              "          [False, False, False,  ..., False, False, False],\n",
              "          ...,\n",
              "          [False, False, False,  ..., False, False, False],\n",
              "          [False, False, False,  ..., False, False, False],\n",
              "          [False, False, False,  ..., False, False, False]],\n",
              " \n",
              "         [[False, False, False,  ..., False, False, False],\n",
              "          [False, False, False,  ..., False, False, False],\n",
              "          [False, False, False,  ..., False, False, False],\n",
              "          ...,\n",
              "          [False, False, False,  ..., False, False, False],\n",
              "          [False, False, False,  ..., False, False, False],\n",
              "          [False, False, False,  ..., False, False, False]],\n",
              " \n",
              "         [[False, False, False,  ..., False, False, False],\n",
              "          [False, False, False,  ..., False, False, False],\n",
              "          [False, False, False,  ..., False, False, False],\n",
              "          ...,\n",
              "          [False, False, False,  ..., False, False, False],\n",
              "          [False, False, False,  ..., False, False, False],\n",
              "          [False, False, False,  ..., False, False, False]],\n",
              " \n",
              "         ...,\n",
              " \n",
              "         [[False, False, False,  ..., False, False, False],\n",
              "          [False, False, False,  ..., False, False, False],\n",
              "          [False, False, False,  ..., False, False, False],\n",
              "          ...,\n",
              "          [False, False, False,  ..., False, False, False],\n",
              "          [False, False, False,  ..., False, False, False],\n",
              "          [False, False, False,  ..., False, False, False]],\n",
              " \n",
              "         [[False, False, False,  ..., False, False, False],\n",
              "          [False, False, False,  ..., False, False, False],\n",
              "          [False, False, False,  ..., False, False, False],\n",
              "          ...,\n",
              "          [False, False, False,  ..., False, False, False],\n",
              "          [False, False, False,  ..., False, False, False],\n",
              "          [False, False, False,  ..., False, False, False]],\n",
              " \n",
              "         [[False, False, False,  ..., False, False, False],\n",
              "          [False, False, False,  ..., False, False, False],\n",
              "          [False, False, False,  ..., False, False, False],\n",
              "          ...,\n",
              "          [False, False, False,  ..., False, False, False],\n",
              "          [False, False, False,  ..., False, False, False],\n",
              "          [False, False, False,  ..., False, False, False]]], device='cuda:0')]),\n",
              " 'panoptic_seg': (tensor([[27, 27, 27,  ..., 27, 27, 27],\n",
              "          [27, 27, 27,  ..., 27, 27, 27],\n",
              "          [27, 27, 27,  ..., 27, 27, 27],\n",
              "          ...,\n",
              "          [25, 25, 25,  ..., 25, 25, 25],\n",
              "          [25, 25, 25,  ..., 25, 25, 25],\n",
              "          [25, 25, 25,  ..., 25, 25, 25]], device='cuda:0', dtype=torch.int32),\n",
              "  [{'area': 4981.0,\n",
              "    'category_id': 0,\n",
              "    'id': 1,\n",
              "    'instance_id': 0,\n",
              "    'isthing': True,\n",
              "    'score': 0.9976300001144409},\n",
              "   {'area': 4047.0,\n",
              "    'category_id': 0,\n",
              "    'id': 2,\n",
              "    'instance_id': 1,\n",
              "    'isthing': True,\n",
              "    'score': 0.9968174695968628},\n",
              "   {'area': 5224.0,\n",
              "    'category_id': 0,\n",
              "    'id': 3,\n",
              "    'instance_id': 2,\n",
              "    'isthing': True,\n",
              "    'score': 0.9952795505523682},\n",
              "   {'area': 4423.0,\n",
              "    'category_id': 0,\n",
              "    'id': 4,\n",
              "    'instance_id': 3,\n",
              "    'isthing': True,\n",
              "    'score': 0.9888182282447815},\n",
              "   {'area': 2888.0,\n",
              "    'category_id': 0,\n",
              "    'id': 5,\n",
              "    'instance_id': 4,\n",
              "    'isthing': True,\n",
              "    'score': 0.9887841939926147},\n",
              "   {'area': 2821.0,\n",
              "    'category_id': 0,\n",
              "    'id': 6,\n",
              "    'instance_id': 5,\n",
              "    'isthing': True,\n",
              "    'score': 0.9877839684486389},\n",
              "   {'area': 1794.0,\n",
              "    'category_id': 0,\n",
              "    'id': 7,\n",
              "    'instance_id': 6,\n",
              "    'isthing': True,\n",
              "    'score': 0.9743483066558838},\n",
              "   {'area': 4485.0,\n",
              "    'category_id': 0,\n",
              "    'id': 8,\n",
              "    'instance_id': 7,\n",
              "    'isthing': True,\n",
              "    'score': 0.9685813784599304},\n",
              "   {'area': 1659.0,\n",
              "    'category_id': 0,\n",
              "    'id': 9,\n",
              "    'instance_id': 8,\n",
              "    'isthing': True,\n",
              "    'score': 0.9437633156776428},\n",
              "   {'area': 4169.0,\n",
              "    'category_id': 0,\n",
              "    'id': 10,\n",
              "    'instance_id': 9,\n",
              "    'isthing': True,\n",
              "    'score': 0.929384708404541},\n",
              "   {'area': 2452.0,\n",
              "    'category_id': 0,\n",
              "    'id': 11,\n",
              "    'instance_id': 10,\n",
              "    'isthing': True,\n",
              "    'score': 0.9170977473258972},\n",
              "   {'area': 2541.0,\n",
              "    'category_id': 0,\n",
              "    'id': 12,\n",
              "    'instance_id': 11,\n",
              "    'isthing': True,\n",
              "    'score': 0.8773654103279114},\n",
              "   {'area': 3607.0,\n",
              "    'category_id': 0,\n",
              "    'id': 13,\n",
              "    'instance_id': 12,\n",
              "    'isthing': True,\n",
              "    'score': 0.8075453042984009},\n",
              "   {'area': 1600.0,\n",
              "    'category_id': 0,\n",
              "    'id': 14,\n",
              "    'instance_id': 13,\n",
              "    'isthing': True,\n",
              "    'score': 0.7765863537788391},\n",
              "   {'area': 1654.0,\n",
              "    'category_id': 0,\n",
              "    'id': 15,\n",
              "    'instance_id': 14,\n",
              "    'isthing': True,\n",
              "    'score': 0.7310982346534729},\n",
              "   {'area': 1857.0,\n",
              "    'category_id': 0,\n",
              "    'id': 16,\n",
              "    'instance_id': 15,\n",
              "    'isthing': True,\n",
              "    'score': 0.7122535705566406},\n",
              "   {'area': 1857.0,\n",
              "    'category_id': 0,\n",
              "    'id': 17,\n",
              "    'instance_id': 16,\n",
              "    'isthing': True,\n",
              "    'score': 0.7045552134513855},\n",
              "   {'area': 1534.0,\n",
              "    'category_id': 0,\n",
              "    'id': 18,\n",
              "    'instance_id': 17,\n",
              "    'isthing': True,\n",
              "    'score': 0.6722304224967957},\n",
              "   {'area': 1052.0,\n",
              "    'category_id': 0,\n",
              "    'id': 19,\n",
              "    'instance_id': 18,\n",
              "    'isthing': True,\n",
              "    'score': 0.645871102809906},\n",
              "   {'area': 1178.0,\n",
              "    'category_id': 0,\n",
              "    'id': 20,\n",
              "    'instance_id': 19,\n",
              "    'isthing': True,\n",
              "    'score': 0.624528706073761},\n",
              "   {'area': 2039.0,\n",
              "    'category_id': 0,\n",
              "    'id': 21,\n",
              "    'instance_id': 20,\n",
              "    'isthing': True,\n",
              "    'score': 0.5874215960502625},\n",
              "   {'area': 938.0,\n",
              "    'category_id': 0,\n",
              "    'id': 22,\n",
              "    'instance_id': 22,\n",
              "    'isthing': True,\n",
              "    'score': 0.5543054342269897},\n",
              "   {'area': 989.0,\n",
              "    'category_id': 0,\n",
              "    'id': 23,\n",
              "    'instance_id': 23,\n",
              "    'isthing': True,\n",
              "    'score': 0.5377362966537476},\n",
              "   {'area': 407.0,\n",
              "    'category_id': 0,\n",
              "    'id': 24,\n",
              "    'instance_id': 24,\n",
              "    'isthing': True,\n",
              "    'score': 0.5280346274375916},\n",
              "   {'area': 486394.0, 'category_id': 43, 'id': 25, 'isthing': False},\n",
              "   {'area': 17389.0, 'category_id': 50, 'id': 26, 'isthing': False},\n",
              "   {'area': 156991.0, 'category_id': 52, 'id': 27, 'isthing': False}]),\n",
              " 'sem_seg': tensor([[[ 1.5921,  1.5932,  1.6146,  ...,  1.7404,  1.7248,  1.7085],\n",
              "          [ 1.5957,  1.5969,  1.6192,  ...,  1.7506,  1.7344,  1.7176],\n",
              "          [ 1.6618,  1.6639,  1.7042,  ...,  1.9367,  1.9109,  1.8839],\n",
              "          ...,\n",
              "          [ 2.0972,  2.1020,  2.1921,  ...,  2.5750,  2.4741,  2.3690],\n",
              "          [ 2.0356,  2.0403,  2.1273,  ...,  2.4848,  2.4018,  2.3154],\n",
              "          [ 1.9741,  1.9787,  2.0624,  ...,  2.3947,  2.3294,  2.2617]],\n",
              " \n",
              "         [[ 2.7442,  2.7438,  2.7378,  ...,  2.5937,  2.5705,  2.5474],\n",
              "          [ 2.7431,  2.7428,  2.7368,  ...,  2.5938,  2.5707,  2.5478],\n",
              "          [ 2.7236,  2.7234,  2.7190,  ...,  2.5953,  2.5752,  2.5553],\n",
              "          ...,\n",
              "          [ 0.6800,  0.6802,  0.6821,  ...,  1.0389,  1.1366,  1.2395],\n",
              "          [ 0.7138,  0.7140,  0.7188,  ...,  1.0979,  1.1761,  1.2581],\n",
              "          [ 0.7475,  0.7479,  0.7555,  ...,  1.1569,  1.2157,  1.2768]],\n",
              " \n",
              "         [[-2.0447, -2.0449, -2.0482,  ..., -2.9255, -2.8967, -2.8673],\n",
              "          [-2.0448, -2.0449, -2.0483,  ..., -2.9255, -2.8968, -2.8674],\n",
              "          [-2.0464, -2.0465, -2.0488,  ..., -2.9261, -2.8982, -2.8697],\n",
              "          ...,\n",
              "          [-1.0904, -1.0886, -1.0560,  ..., -0.7010, -0.7342, -0.7677],\n",
              "          [-1.1202, -1.1188, -1.0940,  ..., -0.7691, -0.7963, -0.8239],\n",
              "          [-1.1500, -1.1491, -1.1320,  ..., -0.8372, -0.8585, -0.8802]],\n",
              " \n",
              "         ...,\n",
              " \n",
              "         [[-2.2082, -2.2062, -2.1698,  ..., -2.9186, -2.8892, -2.8587],\n",
              "          [-2.2078, -2.2058, -2.1693,  ..., -2.9199, -2.8907, -2.8604],\n",
              "          [-2.2003, -2.1983, -2.1615,  ..., -2.9435, -2.9182, -2.8919],\n",
              "          ...,\n",
              "          [-3.6728, -3.6745, -3.7059,  ..., -4.3603, -4.3368, -4.3126],\n",
              "          [-3.6362, -3.6382, -3.6745,  ..., -4.3934, -4.3554, -4.3156],\n",
              "          [-3.5996, -3.6019, -3.6431,  ..., -4.4265, -4.3740, -4.3185]],\n",
              " \n",
              "         [[ 5.0410,  5.0394,  5.0091,  ...,  5.7047,  5.6938,  5.6854],\n",
              "          [ 5.0405,  5.0389,  5.0087,  ...,  5.7053,  5.6946,  5.6864],\n",
              "          [ 5.0313,  5.0297,  5.0000,  ...,  5.7158,  5.7096,  5.7061],\n",
              "          ...,\n",
              "          [ 3.6719,  3.6716,  3.6667,  ...,  4.1433,  4.2210,  4.3028],\n",
              "          [ 3.6577,  3.6575,  3.6541,  ...,  4.1633,  4.2363,  4.3126],\n",
              "          [ 3.6436,  3.6435,  3.6415,  ...,  4.1832,  4.2516,  4.3224]],\n",
              " \n",
              "         [[ 0.1705,  0.1694,  0.1479,  ..., -0.7910, -0.7265, -0.6608],\n",
              "          [ 0.1684,  0.1672,  0.1456,  ..., -0.7938, -0.7293, -0.6635],\n",
              "          [ 0.1285,  0.1273,  0.1048,  ..., -0.8457, -0.7798, -0.7128],\n",
              "          ...,\n",
              "          [ 2.9913,  2.9920,  3.0056,  ...,  3.4589,  3.3010,  3.1361],\n",
              "          [ 3.0516,  3.0522,  3.0619,  ...,  3.4596,  3.3141,  3.1623],\n",
              "          [ 3.1120,  3.1123,  3.1181,  ...,  3.4603,  3.3273,  3.1885]]],\n",
              "        device='cuda:0')}"
            ]
          },
          "metadata": {
            "tags": []
          },
          "execution_count": 31
        }
      ]
    }
  ]
}