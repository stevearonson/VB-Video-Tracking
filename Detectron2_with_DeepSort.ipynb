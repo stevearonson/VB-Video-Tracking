{
  "nbformat": 4,
  "nbformat_minor": 0,
  "metadata": {
    "colab": {
      "name": "Detectron2 with DeepSort.ipynb",
      "provenance": [],
      "authorship_tag": "ABX9TyOTgWXO3UzfC8PO7D/+I72t",
      "include_colab_link": true
    },
    "kernelspec": {
      "name": "python3",
      "display_name": "Python 3"
    },
    "accelerator": "GPU"
  },
  "cells": [
    {
      "cell_type": "markdown",
      "metadata": {
        "id": "view-in-github",
        "colab_type": "text"
      },
      "source": [
        "<a href=\"https://colab.research.google.com/github/stevearonson/VB-Video-Tracking/blob/master/Detectron2_with_DeepSort.ipynb\" target=\"_parent\"><img src=\"https://colab.research.google.com/assets/colab-badge.svg\" alt=\"Open In Colab\"/></a>"
      ]
    },
    {
      "cell_type": "markdown",
      "metadata": {
        "id": "5h3uyU7w5fcs",
        "colab_type": "text"
      },
      "source": [
        "## Install Detectron2"
      ]
    },
    {
      "cell_type": "code",
      "metadata": {
        "id": "v_KwVIq_ZfCj",
        "colab_type": "code",
        "colab": {
          "base_uri": "https://localhost:8080/",
          "height": 443
        },
        "outputId": "32c6a25d-23c5-4c80-ddfb-b50ac81b72c2"
      },
      "source": [
        "# install dependencies: (use cu101 because colab has CUDA 10.1)\n",
        "!pip install -U torch==1.5 torchvision==0.6 -f https://download.pytorch.org/whl/cu101/torch_stable.html \n",
        "!pip install pyyaml==5.1 pycocotools>=2.0.1\n",
        "import torch, torchvision\n",
        "print(torch.__version__, torch.cuda.is_available())\n",
        "!gcc --version\n",
        "# opencv is pre-installed on colab"
      ],
      "execution_count": 1,
      "outputs": [
        {
          "output_type": "stream",
          "text": [
            "Looking in links: https://download.pytorch.org/whl/cu101/torch_stable.html\n",
            "Collecting torch==1.5\n",
            "\u001b[?25l  Downloading https://download.pytorch.org/whl/cu101/torch-1.5.0%2Bcu101-cp36-cp36m-linux_x86_64.whl (703.8MB)\n",
            "\u001b[K     |████████████████████████████████| 703.8MB 26kB/s \n",
            "\u001b[?25hCollecting torchvision==0.6\n",
            "\u001b[?25l  Downloading https://download.pytorch.org/whl/cu101/torchvision-0.6.0%2Bcu101-cp36-cp36m-linux_x86_64.whl (6.6MB)\n",
            "\u001b[K     |████████████████████████████████| 6.6MB 50.6MB/s \n",
            "\u001b[?25hRequirement already satisfied, skipping upgrade: numpy in /usr/local/lib/python3.6/dist-packages (from torch==1.5) (1.18.5)\n",
            "Requirement already satisfied, skipping upgrade: future in /usr/local/lib/python3.6/dist-packages (from torch==1.5) (0.16.0)\n",
            "Requirement already satisfied, skipping upgrade: pillow>=4.1.1 in /usr/local/lib/python3.6/dist-packages (from torchvision==0.6) (7.0.0)\n",
            "Installing collected packages: torch, torchvision\n",
            "  Found existing installation: torch 1.5.1+cu101\n",
            "    Uninstalling torch-1.5.1+cu101:\n",
            "      Successfully uninstalled torch-1.5.1+cu101\n",
            "  Found existing installation: torchvision 0.6.1+cu101\n",
            "    Uninstalling torchvision-0.6.1+cu101:\n",
            "      Successfully uninstalled torchvision-0.6.1+cu101\n",
            "Successfully installed torch-1.5.0+cu101 torchvision-0.6.0+cu101\n",
            "1.5.0+cu101 True\n",
            "gcc (Ubuntu 7.5.0-3ubuntu1~18.04) 7.5.0\n",
            "Copyright (C) 2017 Free Software Foundation, Inc.\n",
            "This is free software; see the source for copying conditions.  There is NO\n",
            "warranty; not even for MERCHANTABILITY or FITNESS FOR A PARTICULAR PURPOSE.\n",
            "\n"
          ],
          "name": "stdout"
        }
      ]
    },
    {
      "cell_type": "code",
      "metadata": {
        "id": "ET4YEyTZaHkx",
        "colab_type": "code",
        "colab": {
          "base_uri": "https://localhost:8080/",
          "height": 1000
        },
        "outputId": "390b6e54-8a0a-412e-810f-1055c6b5dbe2"
      },
      "source": [
        "!pip install detectron2==0.1.3 -f https://dl.fbaipublicfiles.com/detectron2/wheels/cu101/torch1.5/index.html"
      ],
      "execution_count": 2,
      "outputs": [
        {
          "output_type": "stream",
          "text": [
            "Looking in links: https://dl.fbaipublicfiles.com/detectron2/wheels/cu101/torch1.5/index.html\n",
            "Collecting detectron2==0.1.3\n",
            "\u001b[?25l  Downloading https://dl.fbaipublicfiles.com/detectron2/wheels/cu101/torch1.5/detectron2-0.1.3%2Bcu101-cp36-cp36m-linux_x86_64.whl (6.2MB)\n",
            "\u001b[K     |████████████████████████████████| 6.2MB 10.0MB/s \n",
            "\u001b[?25hRequirement already satisfied: tabulate in /usr/local/lib/python3.6/dist-packages (from detectron2==0.1.3) (0.8.7)\n",
            "Requirement already satisfied: tensorboard in /usr/local/lib/python3.6/dist-packages (from detectron2==0.1.3) (2.2.2)\n",
            "Collecting mock\n",
            "  Downloading https://files.pythonhosted.org/packages/cd/74/d72daf8dff5b6566db857cfd088907bb0355f5dd2914c4b3ef065c790735/mock-4.0.2-py3-none-any.whl\n",
            "Requirement already satisfied: pydot in /usr/local/lib/python3.6/dist-packages (from detectron2==0.1.3) (1.3.0)\n",
            "Collecting fvcore>=0.1.1\n",
            "  Downloading https://files.pythonhosted.org/packages/81/ee/3709513b414c2b525e4f03c45215579f93f41dba797f0e5fe539e6bc92b7/fvcore-0.1.1.post20200716.tar.gz\n",
            "Requirement already satisfied: termcolor>=1.1 in /usr/local/lib/python3.6/dist-packages (from detectron2==0.1.3) (1.1.0)\n",
            "Requirement already satisfied: tqdm>4.29.0 in /usr/local/lib/python3.6/dist-packages (from detectron2==0.1.3) (4.41.1)\n",
            "Collecting yacs>=0.1.6\n",
            "  Downloading https://files.pythonhosted.org/packages/81/3b/40e876afde9f5ffa1cfdce10565aba85b0dc2e067ed551dfb566cfee6d4d/yacs-0.1.7-py3-none-any.whl\n",
            "Requirement already satisfied: future in /usr/local/lib/python3.6/dist-packages (from detectron2==0.1.3) (0.16.0)\n",
            "Requirement already satisfied: Pillow in /usr/local/lib/python3.6/dist-packages (from detectron2==0.1.3) (7.0.0)\n",
            "Requirement already satisfied: cloudpickle in /usr/local/lib/python3.6/dist-packages (from detectron2==0.1.3) (1.3.0)\n",
            "Requirement already satisfied: matplotlib in /usr/local/lib/python3.6/dist-packages (from detectron2==0.1.3) (3.2.2)\n",
            "Requirement already satisfied: google-auth-oauthlib<0.5,>=0.4.1 in /usr/local/lib/python3.6/dist-packages (from tensorboard->detectron2==0.1.3) (0.4.1)\n",
            "Requirement already satisfied: setuptools>=41.0.0 in /usr/local/lib/python3.6/dist-packages (from tensorboard->detectron2==0.1.3) (49.1.0)\n",
            "Requirement already satisfied: protobuf>=3.6.0 in /usr/local/lib/python3.6/dist-packages (from tensorboard->detectron2==0.1.3) (3.12.2)\n",
            "Requirement already satisfied: requests<3,>=2.21.0 in /usr/local/lib/python3.6/dist-packages (from tensorboard->detectron2==0.1.3) (2.23.0)\n",
            "Requirement already satisfied: tensorboard-plugin-wit>=1.6.0 in /usr/local/lib/python3.6/dist-packages (from tensorboard->detectron2==0.1.3) (1.7.0)\n",
            "Requirement already satisfied: numpy>=1.12.0 in /usr/local/lib/python3.6/dist-packages (from tensorboard->detectron2==0.1.3) (1.18.5)\n",
            "Requirement already satisfied: google-auth<2,>=1.6.3 in /usr/local/lib/python3.6/dist-packages (from tensorboard->detectron2==0.1.3) (1.17.2)\n",
            "Requirement already satisfied: wheel>=0.26; python_version >= \"3\" in /usr/local/lib/python3.6/dist-packages (from tensorboard->detectron2==0.1.3) (0.34.2)\n",
            "Requirement already satisfied: absl-py>=0.4 in /usr/local/lib/python3.6/dist-packages (from tensorboard->detectron2==0.1.3) (0.9.0)\n",
            "Requirement already satisfied: six>=1.10.0 in /usr/local/lib/python3.6/dist-packages (from tensorboard->detectron2==0.1.3) (1.15.0)\n",
            "Requirement already satisfied: werkzeug>=0.11.15 in /usr/local/lib/python3.6/dist-packages (from tensorboard->detectron2==0.1.3) (1.0.1)\n",
            "Requirement already satisfied: grpcio>=1.24.3 in /usr/local/lib/python3.6/dist-packages (from tensorboard->detectron2==0.1.3) (1.30.0)\n",
            "Requirement already satisfied: markdown>=2.6.8 in /usr/local/lib/python3.6/dist-packages (from tensorboard->detectron2==0.1.3) (3.2.2)\n",
            "Requirement already satisfied: pyparsing>=2.1.4 in /usr/local/lib/python3.6/dist-packages (from pydot->detectron2==0.1.3) (2.4.7)\n",
            "Requirement already satisfied: pyyaml>=5.1 in /usr/local/lib/python3.6/dist-packages (from fvcore>=0.1.1->detectron2==0.1.3) (5.1)\n",
            "Collecting portalocker\n",
            "  Downloading https://files.pythonhosted.org/packages/3b/e7/ceef002a300a98a208232fab593183249b6964b306ee7dabb29908419cca/portalocker-1.7.1-py2.py3-none-any.whl\n",
            "Requirement already satisfied: cycler>=0.10 in /usr/local/lib/python3.6/dist-packages (from matplotlib->detectron2==0.1.3) (0.10.0)\n",
            "Requirement already satisfied: python-dateutil>=2.1 in /usr/local/lib/python3.6/dist-packages (from matplotlib->detectron2==0.1.3) (2.8.1)\n",
            "Requirement already satisfied: kiwisolver>=1.0.1 in /usr/local/lib/python3.6/dist-packages (from matplotlib->detectron2==0.1.3) (1.2.0)\n",
            "Requirement already satisfied: requests-oauthlib>=0.7.0 in /usr/local/lib/python3.6/dist-packages (from google-auth-oauthlib<0.5,>=0.4.1->tensorboard->detectron2==0.1.3) (1.3.0)\n",
            "Requirement already satisfied: certifi>=2017.4.17 in /usr/local/lib/python3.6/dist-packages (from requests<3,>=2.21.0->tensorboard->detectron2==0.1.3) (2020.6.20)\n",
            "Requirement already satisfied: urllib3!=1.25.0,!=1.25.1,<1.26,>=1.21.1 in /usr/local/lib/python3.6/dist-packages (from requests<3,>=2.21.0->tensorboard->detectron2==0.1.3) (1.24.3)\n",
            "Requirement already satisfied: chardet<4,>=3.0.2 in /usr/local/lib/python3.6/dist-packages (from requests<3,>=2.21.0->tensorboard->detectron2==0.1.3) (3.0.4)\n",
            "Requirement already satisfied: idna<3,>=2.5 in /usr/local/lib/python3.6/dist-packages (from requests<3,>=2.21.0->tensorboard->detectron2==0.1.3) (2.10)\n",
            "Requirement already satisfied: cachetools<5.0,>=2.0.0 in /usr/local/lib/python3.6/dist-packages (from google-auth<2,>=1.6.3->tensorboard->detectron2==0.1.3) (4.1.1)\n",
            "Requirement already satisfied: rsa<5,>=3.1.4; python_version >= \"3\" in /usr/local/lib/python3.6/dist-packages (from google-auth<2,>=1.6.3->tensorboard->detectron2==0.1.3) (4.6)\n",
            "Requirement already satisfied: pyasn1-modules>=0.2.1 in /usr/local/lib/python3.6/dist-packages (from google-auth<2,>=1.6.3->tensorboard->detectron2==0.1.3) (0.2.8)\n",
            "Requirement already satisfied: importlib-metadata; python_version < \"3.8\" in /usr/local/lib/python3.6/dist-packages (from markdown>=2.6.8->tensorboard->detectron2==0.1.3) (1.7.0)\n",
            "Requirement already satisfied: oauthlib>=3.0.0 in /usr/local/lib/python3.6/dist-packages (from requests-oauthlib>=0.7.0->google-auth-oauthlib<0.5,>=0.4.1->tensorboard->detectron2==0.1.3) (3.1.0)\n",
            "Requirement already satisfied: pyasn1>=0.1.3 in /usr/local/lib/python3.6/dist-packages (from rsa<5,>=3.1.4; python_version >= \"3\"->google-auth<2,>=1.6.3->tensorboard->detectron2==0.1.3) (0.4.8)\n",
            "Requirement already satisfied: zipp>=0.5 in /usr/local/lib/python3.6/dist-packages (from importlib-metadata; python_version < \"3.8\"->markdown>=2.6.8->tensorboard->detectron2==0.1.3) (3.1.0)\n",
            "Building wheels for collected packages: fvcore\n",
            "  Building wheel for fvcore (setup.py) ... \u001b[?25l\u001b[?25hdone\n",
            "  Created wheel for fvcore: filename=fvcore-0.1.1.post20200716-cp36-none-any.whl size=42325 sha256=ebcb3972c7f53bc23c1b45f6dd3cc97f77b50f0bf9c9b44c0640e3ed59672f43\n",
            "  Stored in directory: /root/.cache/pip/wheels/81/99/f4/42a6bef61c07b3d78dfe6d7ebff259444c4526504cf72378d7\n",
            "Successfully built fvcore\n",
            "Installing collected packages: mock, yacs, portalocker, fvcore, detectron2\n",
            "Successfully installed detectron2-0.1.3+cu101 fvcore-0.1.1.post20200716 mock-4.0.2 portalocker-1.7.1 yacs-0.1.7\n"
          ],
          "name": "stdout"
        }
      ]
    },
    {
      "cell_type": "code",
      "metadata": {
        "id": "KpmjPcXmvJEq",
        "colab_type": "code",
        "colab": {}
      },
      "source": [
        "import numpy as np\n",
        "import pandas as pd\n",
        "import random\n",
        "\n",
        "import cv2\n",
        "from google.colab.patches import cv2_imshow\n",
        "from tqdm import tqdm \n"
      ],
      "execution_count": 3,
      "outputs": []
    },
    {
      "cell_type": "markdown",
      "metadata": {
        "id": "faDKnJes6Mjg",
        "colab_type": "text"
      },
      "source": [
        "## Access My Google Drive"
      ]
    },
    {
      "cell_type": "code",
      "metadata": {
        "id": "15sYsmr7o21C",
        "colab_type": "code",
        "colab": {
          "base_uri": "https://localhost:8080/",
          "height": 214
        },
        "outputId": "9b473f05-c1ec-4dba-dc5a-678d828159a0"
      },
      "source": [
        "from google.colab import drive\n",
        "drive.mount('/gdrive')\n",
        "!ls '/gdrive/My Drive/VB/Video'"
      ],
      "execution_count": 4,
      "outputs": [
        {
          "output_type": "stream",
          "text": [
            "Go to this URL in a browser: https://accounts.google.com/o/oauth2/auth?client_id=947318989803-6bn6qk8qdgf4n4g3pfee6491hc0brc4i.apps.googleusercontent.com&redirect_uri=urn%3aietf%3awg%3aoauth%3a2.0%3aoob&response_type=code&scope=email%20https%3a%2f%2fwww.googleapis.com%2fauth%2fdocs.test%20https%3a%2f%2fwww.googleapis.com%2fauth%2fdrive%20https%3a%2f%2fwww.googleapis.com%2fauth%2fdrive.photos.readonly%20https%3a%2f%2fwww.googleapis.com%2fauth%2fpeopleapi.readonly\n",
            "\n",
            "Enter your authorization code:\n",
            "··········\n",
            "Mounted at /gdrive\n",
            " Cheshire_Halasz_Perin\t     court-diagram-vertical.jpg   people.mp4\n",
            " Cheshire_Halasz_Perin.pdf   demo.avi\t\t\t  player_pos.csv\n",
            " Cheshire_Halasz_Perin.zip  'MBVF M7 S3.mp4'\t\t  tracker.mp4\n",
            " ckpt.t7\t\t     OpenCV.ipynb\t\t  video-clip.mp4\n",
            " court-diagram.jpg\t     panopt.mp4\n"
          ],
          "name": "stdout"
        }
      ]
    },
    {
      "cell_type": "markdown",
      "metadata": {
        "id": "6IhFURTO6Zq4",
        "colab_type": "text"
      },
      "source": [
        "##Install DeepSort"
      ]
    },
    {
      "cell_type": "code",
      "metadata": {
        "id": "i-k2ARVYZspv",
        "colab_type": "code",
        "colab": {
          "base_uri": "https://localhost:8080/",
          "height": 265
        },
        "outputId": "083f0db0-3afb-4483-ae70-9dfbdf7aeaa4"
      },
      "source": [
        "!git clone --recurse-submodules https://github.com/sayef/detectron2-deepsort-pytorch.git\n",
        "!mv detectron2-deepsort-pytorch detectron2_deepsort_pytorch\n",
        "!cp '/gdrive/My Drive/VB/Video/ckpt.t7' detectron2_deepsort_pytorch/deep_sort/deep/checkpoint/"
      ],
      "execution_count": 5,
      "outputs": [
        {
          "output_type": "stream",
          "text": [
            "Cloning into 'detectron2-deepsort-pytorch'...\n",
            "remote: Enumerating objects: 374, done.\u001b[K\n",
            "remote: Total 374 (delta 0), reused 0 (delta 0), pack-reused 374\u001b[K\n",
            "Receiving objects: 100% (374/374), 18.97 MiB | 31.89 MiB/s, done.\n",
            "Resolving deltas: 100% (183/183), done.\n",
            "Submodule 'detectron2' (https://github.com/facebookresearch/detectron2.git) registered for path 'detectron2'\n",
            "Cloning into '/content/detectron2-deepsort-pytorch/detectron2'...\n",
            "remote: Enumerating objects: 58, done.        \n",
            "remote: Counting objects: 100% (58/58), done.        \n",
            "remote: Compressing objects: 100% (49/49), done.        \n",
            "remote: Total 6123 (delta 20), reused 26 (delta 9), pack-reused 6065        \n",
            "Receiving objects: 100% (6123/6123), 2.83 MiB | 7.11 MiB/s, done.\n",
            "Resolving deltas: 100% (4427/4427), done.\n",
            "Submodule path 'detectron2': checked out 'eef3ab14c0777da7114e25689c703bb5d6094737'\n"
          ],
          "name": "stdout"
        }
      ]
    },
    {
      "cell_type": "markdown",
      "metadata": {
        "id": "1tqv1DC65yzB",
        "colab_type": "text"
      },
      "source": [
        "## Run the Detectron2-DeepSort Demo"
      ]
    },
    {
      "cell_type": "code",
      "metadata": {
        "id": "SAVTZoVkpOJs",
        "colab_type": "code",
        "colab": {}
      },
      "source": [
        "%cd detectron2_deepsort_pytorch\n",
        "!python demo_detectron2_deepsort.py '/gdrive/My Drive/VB/Video/video-clip.mp4' --ignore_display\n",
        "!cp demo.avi '/gdrive/My Drive/VB/Video'"
      ],
      "execution_count": null,
      "outputs": []
    },
    {
      "cell_type": "markdown",
      "metadata": {
        "id": "SBOgXgQJRlW2",
        "colab_type": "text"
      },
      "source": [
        "# Combining Detectron2 with DeepSort\n",
        "\n",
        "Flow of video processing:\n",
        "\n",
        "1. Iterate over video frames\n",
        "2. Detect objects in frame\n",
        "3. Identify players (people) inside court playing area\n",
        "4. Move player detection data into deep sort data structure\n",
        "5. Update deepsort algorithm\n",
        "6. Draw bbox on original frame\n",
        "7. Map bbox to player location on court diagram\n",
        "8. Insert court diagram into original frame\n",
        "9. Write new frame to output video file"
      ]
    },
    {
      "cell_type": "markdown",
      "metadata": {
        "id": "uz-i90NPtVc4",
        "colab_type": "text"
      },
      "source": [
        "## Create a detection class using Detectron2"
      ]
    },
    {
      "cell_type": "code",
      "metadata": {
        "id": "QCdpNNMP6ein",
        "colab_type": "code",
        "colab": {}
      },
      "source": [
        "# from detectron2.utils.logger import setup_logger\n",
        "# setup_logger()\n",
        "\n",
        "import detectron2\n",
        "from detectron2 import model_zoo\n",
        "from detectron2.engine import DefaultPredictor\n",
        "from detectron2.config import get_cfg\n",
        "\n",
        "\n",
        "class Detectron2:\n",
        "\n",
        "    def __init__(self):\n",
        "        self.cfg = get_cfg()\n",
        "        self.cfg.merge_from_file(model_zoo.get_config_file(\"COCO-InstanceSegmentation/mask_rcnn_R_50_FPN_3x.yaml\"))\n",
        "        self.cfg.MODEL.ROI_HEADS.SCORE_THRESH_TEST = 0.5  # set threshold for this model\n",
        "        self.cfg.MODEL.WEIGHTS = model_zoo.get_checkpoint_url(\"COCO-InstanceSegmentation/mask_rcnn_R_50_FPN_3x.yaml\")\n",
        "        self.predictor = DefaultPredictor(self.cfg)\n",
        "\n",
        "    def bbox(self, img):\n",
        "        rows = np.any(img, axis=1)\n",
        "        cols = np.any(img, axis=0)\n",
        "        rmin, rmax = np.where(rows)[0][[0, -1]]\n",
        "        cmin, cmax = np.where(cols)[0][[0, -1]]\n",
        "        return cmin, rmin, cmax, rmax\n",
        "\n",
        "    def detect(self, im):\n",
        "        outputs = self.predictor(im)\n",
        "        boxes = outputs[\"instances\"].pred_boxes.tensor.cpu().numpy()\n",
        "        classes = outputs[\"instances\"].pred_classes.cpu().numpy()\n",
        "        scores = outputs[\"instances\"].scores.cpu().numpy()\n",
        "\n",
        "        bbox_xcycwh, cls_conf, cls_ids = [], [], []\n",
        "\n",
        "        for (box, _class, score) in zip(boxes, classes, scores):\n",
        "\n",
        "            if _class == 0:\n",
        "                x0, y0, x1, y1 = box\n",
        "                bbox_xcycwh.append([(x1 + x0) / 2, (y1 + y0) / 2, (x1 - x0), (y1 - y0)])\n",
        "                cls_conf.append(score)\n",
        "                cls_ids.append(_class)\n",
        "\n",
        "        return np.array(bbox_xcycwh, dtype=np.float64), np.array(cls_conf), np.array(cls_ids)\n"
      ],
      "execution_count": 6,
      "outputs": []
    },
    {
      "cell_type": "markdown",
      "metadata": {
        "id": "fll4d8eEufJA",
        "colab_type": "text"
      },
      "source": [
        "## Create class for handling court geometries"
      ]
    },
    {
      "cell_type": "code",
      "metadata": {
        "id": "xTeqoPKRueF3",
        "colab_type": "code",
        "colab": {}
      },
      "source": [
        "from shapely.geometry import Point, Polygon\n",
        "\n",
        "class Court:\n",
        "    def __init__(self):\n",
        "\n",
        "        self.video_court = np.array([[[467, 249], [781, 242], \n",
        "                                      [1274, 588], [630, 656], [3, 619]]])\n",
        "        self.video_playing = Polygon(np.array([[426, 235], [824, 230], \n",
        "                                               [1272, 512], [1253, 714], \n",
        "                                               [9, 713], [15, 470]]))\n",
        "        self.diagram_court = np.array([[[100, 100], [400, 100], [400, 700], \n",
        "                                        [250, 700], [100, 700]]])\n",
        "        self.M = cv2.findHomography(self.video_court, self.diagram_court)[0]\n",
        "\n",
        "        self.court_diagram_file = '/gdrive/My Drive/VB/Video/court-diagram-vertical.jpg'\n",
        "\n",
        "        # defaults for drawing on video frames\n",
        "        self.font = cv2.FONT_HERSHEY_SIMPLEX\n",
        "        self.fontScale = 1\n",
        "\n",
        "\n",
        "        self.radius = 10\n",
        "        self.color = [255, 0, 0]   \n",
        "        self.thickness = 2\n",
        "\n",
        "\n",
        "\n",
        "    def draw_court(self, frame):\n",
        "         return cv2.polylines(frame, [self.video_court], isClosed=True, \n",
        "                              color=self.color, thickness=self.thickness)\n",
        "\n",
        "\n",
        "    def in_playing_area(self, bbox_xcycwh):\n",
        "\n",
        "        xc, yc, w, h = bbox_xcycwh\n",
        "        player_pos = (xc, yc + h/2)\n",
        "        return Point(player_pos).within(self.video_playing)\n",
        "\n",
        "    def map_pos_to_diagram(self, player_positions):\n",
        "\n",
        "        src_pts = np.array([player_positions.astype('float32')])\n",
        "        dst_pts = cv2.perspectiveTransform(src_pts, self.M)\n",
        "        return dst_pts.squeeze().astype('int')\n",
        "\n",
        "    def create_mini_map(self, court_positions, identities):\n",
        "        # player marker parameters\n",
        "\n",
        "        court_diagram = cv2.imread(self.court_diagram_file)\n",
        "\n",
        "        for pt, tag in zip(court_positions, identities):\n",
        "            # cv2.circle(court_diagram, tuple(pt), self.radius, \n",
        "            #           self.color, self.thickness)\n",
        "            cv2.putText(court_diagram, str(tag), tuple(pt), self.font, self.fontScale, \n",
        "                        self.color, self.thickness, cv2.LINE_AA)\n",
        "\n",
        "\n",
        "        mini_map = cv2.resize(court_diagram, (250, 400), interpolation = cv2.INTER_AREA)\n",
        "\n",
        "        return mini_map\n"
      ],
      "execution_count": 7,
      "outputs": []
    },
    {
      "cell_type": "markdown",
      "metadata": {
        "id": "YvuWPmUbYPmR",
        "colab_type": "text"
      },
      "source": [
        "## Bounday Box Drawing"
      ]
    },
    {
      "cell_type": "code",
      "metadata": {
        "id": "SSkHiMW2YT4S",
        "colab_type": "code",
        "colab": {}
      },
      "source": [
        "COLORS_10 =[(144,238,144),(178, 34, 34),(221,160,221),(  0,255,  0),(  0,128,  0),(210,105, 30),(220, 20, 60),\n",
        "            (192,192,192),(255,228,196),( 50,205, 50),(139,  0,139),(100,149,237),(138, 43,226),(238,130,238),\n",
        "            (255,  0,255),(  0,100,  0),(127,255,  0),(255,  0,255),(  0,  0,205),(255,140,  0),(255,239,213),\n",
        "            (199, 21,133),(124,252,  0),(147,112,219),(106, 90,205),(176,196,222),( 65,105,225),(173,255, 47),\n",
        "            (255, 20,147),(219,112,147),(186, 85,211),(199, 21,133),(148,  0,211),(255, 99, 71),(144,238,144),\n",
        "            (255,255,  0),(230,230,250),(  0,  0,255),(128,128,  0),(189,183,107),(255,255,224),(128,128,128),\n",
        "            (105,105,105),( 64,224,208),(205,133, 63),(  0,128,128),( 72,209,204),(139, 69, 19),(255,245,238),\n",
        "            (250,240,230),(152,251,152),(  0,255,255),(135,206,235),(  0,191,255),(176,224,230),(  0,250,154),\n",
        "            (245,255,250),(240,230,140),(245,222,179),(  0,139,139),(143,188,143),(255,  0,  0),(240,128,128),\n",
        "            (102,205,170),( 60,179,113),( 46,139, 87),(165, 42, 42),(178, 34, 34),(175,238,238),(255,248,220),\n",
        "            (218,165, 32),(255,250,240),(253,245,230),(244,164, 96),(210,105, 30)]\n",
        "\n",
        "def draw_bboxes(img, bbox, identities=None, offset=(0,0)):\n",
        "    for i,box,lbl in zip(range(len(identities)), bbox, identities):\n",
        "        x1,y1,x2,y2 = [int(i) for i in box]\n",
        "        x1 += offset[0]\n",
        "        x2 += offset[0]\n",
        "        y1 += offset[1]\n",
        "        y2 += offset[1]\n",
        "        # box text and bar\n",
        "        # id = int(identities[i]) if identities is not None else 0    \n",
        "        color = COLORS_10[i%len(COLORS_10)]\n",
        "        # label = '{}{}'.format(\"\", identities[i])\n",
        "        t_size = cv2.getTextSize(lbl, cv2.FONT_HERSHEY_PLAIN, 2 , 2)[0]\n",
        "        cv2.rectangle(img,(x1, y1),(x2,y2),color,3)\n",
        "        cv2.rectangle(img,(x1, y1),(x1+t_size[0]+3,y1+t_size[1]+4), color,-1)\n",
        "        cv2.putText(img,lbl,(x1,y1+t_size[1]+4), cv2.FONT_HERSHEY_PLAIN, 2, [255,255,255], 2)\n",
        "    return img\n"
      ],
      "execution_count": null,
      "outputs": []
    },
    {
      "cell_type": "markdown",
      "metadata": {
        "id": "hn_NWcBZ0H3h",
        "colab_type": "text"
      },
      "source": [
        "## Main Loop"
      ]
    },
    {
      "cell_type": "code",
      "metadata": {
        "id": "HEm-KKcZ0zm1",
        "colab_type": "code",
        "colab": {}
      },
      "source": [
        "# create a time log for rallys in video\n",
        "time_log = pd.DataFrame({'Rally': [1,2,3,4], \n",
        "                         'Start': pd.to_timedelta(['00:00:11', '00:00:33', '00:00:52','00:01:18']),\n",
        "                         'Length': pd.to_timedelta(['00:00:06', '00:00:08', '00:00:14','00:00:11']),\n",
        "                         'P1' : ['Sophia', 'Emily', 'Emily', 'Emily'],\n",
        "                         'P2' : ['Emily', 'Maggie', 'Maggie', 'Maggie'],\n",
        "                         'P3' : ['Maggie', 'Taylor', 'Taylor', 'Taylor'],\n",
        "                         'P4' : ['Taylor', 'Quinn', 'Quinn', 'Quinn'],\n",
        "                         'P5' : ['Quinn', 'Cici', 'Cici', 'Cici'],\n",
        "                         'P6' : ['Cici', 'Sophia', 'Sophia', 'Sophia']\n",
        "                         })"
      ],
      "execution_count": 8,
      "outputs": []
    },
    {
      "cell_type": "code",
      "metadata": {
        "id": "8na2BFlS0Joe",
        "colab_type": "code",
        "colab": {
          "base_uri": "https://localhost:8080/",
          "height": 176
        },
        "outputId": "65552cf8-7737-48fe-c93f-eda22083e0a7"
      },
      "source": [
        "# import importlib  \n",
        "\n",
        "from detectron2_deepsort_pytorch.deep_sort import DeepSort\n",
        "from detectron2_deepsort_pytorch.util import draw_bboxes\n",
        "\n",
        "cap = cv2.VideoCapture('/gdrive/My Drive/VB/Video/MBVF M7 S3.mp4')\n",
        "width = int(cap.get(cv2.CAP_PROP_FRAME_WIDTH))\n",
        "height = int(cap.get(cv2.CAP_PROP_FRAME_HEIGHT))\n",
        "frames_per_second = cap.get(cv2.CAP_PROP_FPS)\n",
        "num_frames = int(cap.get(cv2.CAP_PROP_FRAME_COUNT))\n",
        "\n",
        "fourcc = cv2.VideoWriter_fourcc('M', 'P', '4', 'V')\n",
        "videoOut = cv2.VideoWriter('/gdrive/My Drive/VB/Video/tracker.mp4', fourcc,\n",
        "                           frames_per_second, (width, height))\n",
        "\n",
        "detectron2 = Detectron2()\n",
        "# deepsort = DeepSort('detectron2_deepsort_pytorch/deep_sort/deep/checkpoint/ckpt.t7', use_cuda=True)\n",
        "court = Court()\n",
        "\n",
        "video_time = 0\n",
        "all_pos = []\n",
        "\n",
        "for _,rally in time_log.iterrows():\n",
        "\n",
        "    # skip to beginning of rally\n",
        "    skip_frames = int((rally['Start'].seconds - video_time) * frames_per_second)\n",
        "    for ix in range(skip_frames):\n",
        "        ret, frame = cap.read()\n",
        "        videoOut.write(frame)\n",
        "    video_time = rally['Start'].seconds\n",
        "\n",
        "\n",
        "    # process rally frames\n",
        "    # first_rally_frame = True\n",
        "    deepsort = DeepSort('detectron2_deepsort_pytorch/deep_sort/deep/checkpoint/ckpt.t7', use_cuda=True)\n",
        "\n",
        "    rally_frames = int(rally['Length'].seconds * frames_per_second)\n",
        "    for ix in tqdm(range(rally_frames)):\n",
        "        ret, frame = cap.read()\n",
        "        bbox_xcycwh, cls_conf, cls_ids = detectron2.detect(frame)\n",
        "\n",
        "        # add the court outline\n",
        "        frame_poly = court.draw_court(frame)\n",
        "\n",
        "        # find detection indicies of players\n",
        "        players_ix = [ix for ix, bbox in enumerate(bbox_xcycwh) if court.in_playing_area(bbox)]\n",
        "\n",
        "        # limit detections to players\n",
        "        player_xcycwh = bbox_xcycwh[players_ix, :]\n",
        "        # player_xcycwh[:, 3:] *= 1.2\n",
        "        player_conf = cls_conf[players_ix]\n",
        "\n",
        "        # update the deepsort model and collect tracker outputs\n",
        "        outputs = deepsort.update(player_xcycwh, player_conf, frame)\n",
        "        if len(outputs) > 0:\n",
        "            bbox_xyxy = outputs[:, :4]\n",
        "            identities = outputs[:, -1]\n",
        "\n",
        "            # if first_rally_frame:\n",
        "            #     first_rally_frame = False\n",
        "            #    our_players_ix = np.argsort(bbox_xyxy[:,3])[-5:]\n",
        "\n",
        "            # labels = identities.astype('str')\n",
        "            # labels[our_players_ix] = rally['P1':'P5'].values\n",
        "\n",
        "            frame_poly = draw_bboxes(frame_poly, bbox_xyxy, identities)\n",
        "\n",
        "            # create the min map\n",
        "            video_pos = np.array([[(x1+x2)/2, y2] for x1, y1, x2, y2 in bbox_xyxy])\n",
        "            diagram_pos = court.map_pos_to_diagram(video_pos)\n",
        "            miniMap = court.create_mini_map(diagram_pos, identities)\n",
        "\n",
        "            curr_pos = pd.DataFrame(np.concatenate([identities[:, None], diagram_pos], axis=1), \n",
        "                                    columns=['ID', 'X', 'Y'])\n",
        "            curr_pos.insert(0, 'Rally', rally['Rally'])\n",
        "            curr_pos.insert(1, 'Frame', ix)\n",
        "\n",
        "            all_pos.append(curr_pos)\n",
        "\n",
        "\n",
        "            #insert mini map into frame\n",
        "            (w,h,c) = miniMap.shape\n",
        "            frame_poly[0:w, 0:h, :] = miniMap\n",
        "\n",
        "        videoOut.write(frame_poly)\n",
        "\n",
        "    video_time += rally['Length'].seconds\n",
        "\n",
        "videoOut.release()\n",
        "cap.release()"
      ],
      "execution_count": 9,
      "outputs": [
        {
          "output_type": "stream",
          "text": [
            "model_final_f10217.pkl: 178MB [00:02, 60.0MB/s]                           \n",
            "  0%|          | 0/168 [00:00<?, ?it/s]"
          ],
          "name": "stderr"
        },
        {
          "output_type": "stream",
          "text": [
            "Loading weights from detectron2_deepsort_pytorch/deep_sort/deep/checkpoint/ckpt.t7... Done!\n"
          ],
          "name": "stdout"
        },
        {
          "output_type": "stream",
          "text": [
            "100%|██████████| 168/168 [00:30<00:00,  5.51it/s]\n",
            "  0%|          | 1/224 [00:00<00:32,  6.85it/s]"
          ],
          "name": "stderr"
        },
        {
          "output_type": "stream",
          "text": [
            "Loading weights from detectron2_deepsort_pytorch/deep_sort/deep/checkpoint/ckpt.t7... Done!\n"
          ],
          "name": "stdout"
        },
        {
          "output_type": "stream",
          "text": [
            "100%|██████████| 224/224 [00:40<00:00,  5.51it/s]\n",
            "  0%|          | 1/393 [00:00<00:58,  6.71it/s]"
          ],
          "name": "stderr"
        },
        {
          "output_type": "stream",
          "text": [
            "Loading weights from detectron2_deepsort_pytorch/deep_sort/deep/checkpoint/ckpt.t7... Done!\n"
          ],
          "name": "stdout"
        },
        {
          "output_type": "stream",
          "text": [
            "100%|██████████| 393/393 [01:12<00:00,  5.45it/s]\n",
            "  0%|          | 1/309 [00:00<00:46,  6.62it/s]"
          ],
          "name": "stderr"
        },
        {
          "output_type": "stream",
          "text": [
            "Loading weights from detectron2_deepsort_pytorch/deep_sort/deep/checkpoint/ckpt.t7... Done!\n"
          ],
          "name": "stdout"
        },
        {
          "output_type": "stream",
          "text": [
            "100%|██████████| 309/309 [00:56<00:00,  5.49it/s]\n"
          ],
          "name": "stderr"
        }
      ]
    },
    {
      "cell_type": "code",
      "metadata": {
        "id": "vn0rWQg0cm2-",
        "colab_type": "code",
        "colab": {}
      },
      "source": [
        "df = pd.concat(all_pos)\n",
        "df.to_csv('/gdrive/My Drive/VB/Video/player_pos.csv', index=False)"
      ],
      "execution_count": 10,
      "outputs": []
    },
    {
      "cell_type": "code",
      "metadata": {
        "id": "EQDk45ZafUOe",
        "colab_type": "code",
        "colab": {
          "base_uri": "https://localhost:8080/",
          "height": 257
        },
        "outputId": "87822c3a-f41d-4f36-c2da-2dfe4c070745"
      },
      "source": [
        "import matplotlib.pyplot as plt\n",
        "from matplotlib import cm\n",
        "\n",
        "cmap = cm.get_cmap('Spectral')\n",
        "df[df['ID'].isin(['1', '2', '3', '4', '5'])].plot('X','Y',kind='scatter', c='ID', cmap=cmap, edgecolor=None)\n",
        "plt.gca().invert_yaxis()"
      ],
      "execution_count": null,
      "outputs": [
        {
          "output_type": "display_data",
          "data": {
            "image/png": "[encoded data removed]",
            "text/plain": [
              "<Figure size 432x288 with 2 Axes>"
            ]
          },
          "metadata": {
            "tags": [],
            "needs_background": "light"
          }
        }
      ]
    }
  ]
}