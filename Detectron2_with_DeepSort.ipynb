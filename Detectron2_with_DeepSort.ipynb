{
  "nbformat": 4,
  "nbformat_minor": 0,
  "metadata": {
    "colab": {
      "name": "Detectron2 with DeepSort.ipynb",
      "provenance": [],
      "authorship_tag": "ABX9TyNsndYIKMqvAfju1kfVkuEk",
      "include_colab_link": true
    },
    "kernelspec": {
      "name": "python3",
      "display_name": "Python 3"
    },
    "accelerator": "GPU"
  },
  "cells": [
    {
      "cell_type": "markdown",
      "metadata": {
        "id": "view-in-github",
        "colab_type": "text"
      },
      "source": [
        "<a href=\"https://colab.research.google.com/github/stevearonson/VB-Video-Tracking/blob/master/Detectron2_with_DeepSort.ipynb\" target=\"_parent\"><img src=\"https://colab.research.google.com/assets/colab-badge.svg\" alt=\"Open In Colab\"/></a>"
      ]
    },
    {
      "cell_type": "markdown",
      "metadata": {
        "id": "5h3uyU7w5fcs",
        "colab_type": "text"
      },
      "source": [
        "## Install Detectron2"
      ]
    },
    {
      "cell_type": "code",
      "metadata": {
        "id": "v_KwVIq_ZfCj",
        "colab_type": "code",
        "colab": {}
      },
      "source": [
        "# install dependencies: (use cu101 because colab has CUDA 10.1)\n",
        "!pip install -U torch==1.5 torchvision==0.6 -f https://download.pytorch.org/whl/cu101/torch_stable.html \n",
        "!pip install pyyaml==5.1 pycocotools>=2.0.1\n",
        "import torch, torchvision\n",
        "print(torch.__version__, torch.cuda.is_available())\n",
        "!gcc --version\n",
        "# opencv is pre-installed on colab"
      ],
      "execution_count": null,
      "outputs": []
    },
    {
      "cell_type": "code",
      "metadata": {
        "id": "ET4YEyTZaHkx",
        "colab_type": "code",
        "colab": {}
      },
      "source": [
        "!pip install detectron2==0.1.3 -f https://dl.fbaipublicfiles.com/detectron2/wheels/cu101/torch1.5/index.html"
      ],
      "execution_count": null,
      "outputs": []
    },
    {
      "cell_type": "markdown",
      "metadata": {
        "id": "faDKnJes6Mjg",
        "colab_type": "text"
      },
      "source": [
        "## Access My Google Drive"
      ]
    },
    {
      "cell_type": "code",
      "metadata": {
        "id": "15sYsmr7o21C",
        "colab_type": "code",
        "colab": {}
      },
      "source": [
        "from google.colab import drive\n",
        "drive.mount('/gdrive')\n",
        "!ls '/gdrive/My Drive/VB/Video'"
      ],
      "execution_count": null,
      "outputs": []
    },
    {
      "cell_type": "markdown",
      "metadata": {
        "id": "6IhFURTO6Zq4",
        "colab_type": "text"
      },
      "source": [
        "##Install DeepSort"
      ]
    },
    {
      "cell_type": "code",
      "metadata": {
        "id": "i-k2ARVYZspv",
        "colab_type": "code",
        "colab": {}
      },
      "source": [
        "!git clone --recurse-submodules https://github.com/sayef/detectron2-deepsort-pytorch.git\n",
        "!cp '/gdrive/My Drive/VB/Video/ckpt.t7' detectron2-deepsort-pytorch/deep_sort/deep/checkpoint/"
      ],
      "execution_count": null,
      "outputs": []
    },
    {
      "cell_type": "markdown",
      "metadata": {
        "id": "1tqv1DC65yzB",
        "colab_type": "text"
      },
      "source": [
        "## Run the Detectron2-DeepSort Demo"
      ]
    },
    {
      "cell_type": "code",
      "metadata": {
        "id": "SAVTZoVkpOJs",
        "colab_type": "code",
        "colab": {}
      },
      "source": [
        "%cd detectron2-deepsort-pytorch\n",
        "!python demo_detectron2_deepsort.py '/gdrive/My Drive/VB/Video/video-clip.mp4' --ignore_display\n",
        "!cp demo.avi '/gdrive/My Drive/VB/Video'"
      ],
      "execution_count": null,
      "outputs": []
    },
    {
      "cell_type": "markdown",
      "metadata": {
        "id": "SBOgXgQJRlW2",
        "colab_type": "text"
      },
      "source": [
        "Flow of video processing:\n",
        "\n",
        "1. Iterate over video frames\n",
        "2. Detect objects in frame\n",
        "3. Identify players (people) inside court playing area\n",
        "4. Move player detection data into deep sort data structure\n",
        "5. Update deepsort algorithm\n",
        "6. Draw bbox on original frame\n",
        "7. Map bbox to player location on court diagram\n",
        "8. Insert court diagram into original frame\n",
        "9. Write new frame to output video file"
      ]
    },
    {
      "cell_type": "code",
      "metadata": {
        "id": "QCdpNNMP6ein",
        "colab_type": "code",
        "colab": {}
      },
      "source": [
        ""
      ],
      "execution_count": null,
      "outputs": []
    }
  ]
}