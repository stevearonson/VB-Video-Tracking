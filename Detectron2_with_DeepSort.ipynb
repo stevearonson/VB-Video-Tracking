{
  "nbformat": 4,
  "nbformat_minor": 0,
  "metadata": {
    "colab": {
      "name": "Detectron2 with DeepSort.ipynb",
      "provenance": [],
      "authorship_tag": "ABX9TyMbIRSjj7VamnKB+C6DYZ5Q",
      "include_colab_link": true
    },
    "kernelspec": {
      "name": "python3",
      "display_name": "Python 3"
    },
    "accelerator": "GPU"
  },
  "cells": [
    {
      "cell_type": "markdown",
      "metadata": {
        "id": "view-in-github",
        "colab_type": "text"
      },
      "source": [
        "<a href=\"https://colab.research.google.com/github/stevearonson/VB-Video-Tracking/blob/master/Detectron2_with_DeepSort.ipynb\" target=\"_parent\"><img src=\"https://colab.research.google.com/assets/colab-badge.svg\" alt=\"Open In Colab\"/></a>"
      ]
    },
    {
      "cell_type": "markdown",
      "metadata": {
        "id": "5h3uyU7w5fcs",
        "colab_type": "text"
      },
      "source": [
        "## Install Detectron2"
      ]
    },
    {
      "cell_type": "code",
      "metadata": {
        "id": "v_KwVIq_ZfCj",
        "colab_type": "code",
        "colab": {
          "base_uri": "https://localhost:8080/",
          "height": 221
        },
        "outputId": "6c4475db-0fc7-4838-c868-3c586f08f92d"
      },
      "source": [
        "# install dependencies: (use cu101 because colab has CUDA 10.1)\n",
        "!pip install -U torch==1.5 torchvision==0.6 -f https://download.pytorch.org/whl/cu101/torch_stable.html \n",
        "!pip install pyyaml==5.1 pycocotools>=2.0.1\n",
        "import torch, torchvision\n",
        "print(torch.__version__, torch.cuda.is_available())\n",
        "!gcc --version\n",
        "# opencv is pre-installed on colab"
      ],
      "execution_count": 1,
      "outputs": [
        {
          "output_type": "stream",
          "text": [
            "Looking in links: https://download.pytorch.org/whl/cu101/torch_stable.html\n",
            "Requirement already up-to-date: torch==1.5 in /usr/local/lib/python3.6/dist-packages (1.5.0+cu101)\n",
            "Requirement already up-to-date: torchvision==0.6 in /usr/local/lib/python3.6/dist-packages (0.6.0+cu101)\n",
            "Requirement already satisfied, skipping upgrade: numpy in /usr/local/lib/python3.6/dist-packages (from torch==1.5) (1.18.5)\n",
            "Requirement already satisfied, skipping upgrade: future in /usr/local/lib/python3.6/dist-packages (from torch==1.5) (0.16.0)\n",
            "Requirement already satisfied, skipping upgrade: pillow>=4.1.1 in /usr/local/lib/python3.6/dist-packages (from torchvision==0.6) (7.0.0)\n",
            "1.5.0+cu101 True\n",
            "gcc (Ubuntu 7.5.0-3ubuntu1~18.04) 7.5.0\n",
            "Copyright (C) 2017 Free Software Foundation, Inc.\n",
            "This is free software; see the source for copying conditions.  There is NO\n",
            "warranty; not even for MERCHANTABILITY or FITNESS FOR A PARTICULAR PURPOSE.\n",
            "\n"
          ],
          "name": "stdout"
        }
      ]
    },
    {
      "cell_type": "code",
      "metadata": {
        "id": "ET4YEyTZaHkx",
        "colab_type": "code",
        "colab": {
          "base_uri": "https://localhost:8080/",
          "height": 802
        },
        "outputId": "7d767444-8fb5-4b2e-a73c-aad6cb141093"
      },
      "source": [
        "!pip install detectron2==0.1.3 -f https://dl.fbaipublicfiles.com/detectron2/wheels/cu101/torch1.5/index.html"
      ],
      "execution_count": 2,
      "outputs": [
        {
          "output_type": "stream",
          "text": [
            "Looking in links: https://dl.fbaipublicfiles.com/detectron2/wheels/cu101/torch1.5/index.html\n",
            "Requirement already satisfied: detectron2==0.1.3 in /usr/local/lib/python3.6/dist-packages (0.1.3+cu101)\n",
            "Requirement already satisfied: tensorboard in /usr/local/lib/python3.6/dist-packages (from detectron2==0.1.3) (2.2.2)\n",
            "Requirement already satisfied: future in /usr/local/lib/python3.6/dist-packages (from detectron2==0.1.3) (0.16.0)\n",
            "Requirement already satisfied: cloudpickle in /usr/local/lib/python3.6/dist-packages (from detectron2==0.1.3) (1.3.0)\n",
            "Requirement already satisfied: termcolor>=1.1 in /usr/local/lib/python3.6/dist-packages (from detectron2==0.1.3) (1.1.0)\n",
            "Requirement already satisfied: fvcore>=0.1.1 in /usr/local/lib/python3.6/dist-packages (from detectron2==0.1.3) (0.1.1.post20200716)\n",
            "Requirement already satisfied: Pillow in /usr/local/lib/python3.6/dist-packages (from detectron2==0.1.3) (7.0.0)\n",
            "Requirement already satisfied: tqdm>4.29.0 in /usr/local/lib/python3.6/dist-packages (from detectron2==0.1.3) (4.41.1)\n",
            "Requirement already satisfied: pydot in /usr/local/lib/python3.6/dist-packages (from detectron2==0.1.3) (1.3.0)\n",
            "Requirement already satisfied: yacs>=0.1.6 in /usr/local/lib/python3.6/dist-packages (from detectron2==0.1.3) (0.1.7)\n",
            "Requirement already satisfied: matplotlib in /usr/local/lib/python3.6/dist-packages (from detectron2==0.1.3) (3.2.2)\n",
            "Requirement already satisfied: tabulate in /usr/local/lib/python3.6/dist-packages (from detectron2==0.1.3) (0.8.7)\n",
            "Requirement already satisfied: mock in /usr/local/lib/python3.6/dist-packages (from detectron2==0.1.3) (4.0.2)\n",
            "Requirement already satisfied: six>=1.10.0 in /usr/local/lib/python3.6/dist-packages (from tensorboard->detectron2==0.1.3) (1.15.0)\n",
            "Requirement already satisfied: google-auth-oauthlib<0.5,>=0.4.1 in /usr/local/lib/python3.6/dist-packages (from tensorboard->detectron2==0.1.3) (0.4.1)\n",
            "Requirement already satisfied: google-auth<2,>=1.6.3 in /usr/local/lib/python3.6/dist-packages (from tensorboard->detectron2==0.1.3) (1.17.2)\n",
            "Requirement already satisfied: tensorboard-plugin-wit>=1.6.0 in /usr/local/lib/python3.6/dist-packages (from tensorboard->detectron2==0.1.3) (1.7.0)\n",
            "Requirement already satisfied: requests<3,>=2.21.0 in /usr/local/lib/python3.6/dist-packages (from tensorboard->detectron2==0.1.3) (2.23.0)\n",
            "Requirement already satisfied: protobuf>=3.6.0 in /usr/local/lib/python3.6/dist-packages (from tensorboard->detectron2==0.1.3) (3.12.2)\n",
            "Requirement already satisfied: werkzeug>=0.11.15 in /usr/local/lib/python3.6/dist-packages (from tensorboard->detectron2==0.1.3) (1.0.1)\n",
            "Requirement already satisfied: grpcio>=1.24.3 in /usr/local/lib/python3.6/dist-packages (from tensorboard->detectron2==0.1.3) (1.30.0)\n",
            "Requirement already satisfied: markdown>=2.6.8 in /usr/local/lib/python3.6/dist-packages (from tensorboard->detectron2==0.1.3) (3.2.2)\n",
            "Requirement already satisfied: setuptools>=41.0.0 in /usr/local/lib/python3.6/dist-packages (from tensorboard->detectron2==0.1.3) (49.1.0)\n",
            "Requirement already satisfied: absl-py>=0.4 in /usr/local/lib/python3.6/dist-packages (from tensorboard->detectron2==0.1.3) (0.9.0)\n",
            "Requirement already satisfied: numpy>=1.12.0 in /usr/local/lib/python3.6/dist-packages (from tensorboard->detectron2==0.1.3) (1.18.5)\n",
            "Requirement already satisfied: wheel>=0.26; python_version >= \"3\" in /usr/local/lib/python3.6/dist-packages (from tensorboard->detectron2==0.1.3) (0.34.2)\n",
            "Requirement already satisfied: pyyaml>=5.1 in /usr/local/lib/python3.6/dist-packages (from fvcore>=0.1.1->detectron2==0.1.3) (5.1)\n",
            "Requirement already satisfied: portalocker in /usr/local/lib/python3.6/dist-packages (from fvcore>=0.1.1->detectron2==0.1.3) (1.7.1)\n",
            "Requirement already satisfied: pyparsing>=2.1.4 in /usr/local/lib/python3.6/dist-packages (from pydot->detectron2==0.1.3) (2.4.7)\n",
            "Requirement already satisfied: cycler>=0.10 in /usr/local/lib/python3.6/dist-packages (from matplotlib->detectron2==0.1.3) (0.10.0)\n",
            "Requirement already satisfied: kiwisolver>=1.0.1 in /usr/local/lib/python3.6/dist-packages (from matplotlib->detectron2==0.1.3) (1.2.0)\n",
            "Requirement already satisfied: python-dateutil>=2.1 in /usr/local/lib/python3.6/dist-packages (from matplotlib->detectron2==0.1.3) (2.8.1)\n",
            "Requirement already satisfied: requests-oauthlib>=0.7.0 in /usr/local/lib/python3.6/dist-packages (from google-auth-oauthlib<0.5,>=0.4.1->tensorboard->detectron2==0.1.3) (1.3.0)\n",
            "Requirement already satisfied: cachetools<5.0,>=2.0.0 in /usr/local/lib/python3.6/dist-packages (from google-auth<2,>=1.6.3->tensorboard->detectron2==0.1.3) (4.1.1)\n",
            "Requirement already satisfied: pyasn1-modules>=0.2.1 in /usr/local/lib/python3.6/dist-packages (from google-auth<2,>=1.6.3->tensorboard->detectron2==0.1.3) (0.2.8)\n",
            "Requirement already satisfied: rsa<5,>=3.1.4; python_version >= \"3\" in /usr/local/lib/python3.6/dist-packages (from google-auth<2,>=1.6.3->tensorboard->detectron2==0.1.3) (4.6)\n",
            "Requirement already satisfied: urllib3!=1.25.0,!=1.25.1,<1.26,>=1.21.1 in /usr/local/lib/python3.6/dist-packages (from requests<3,>=2.21.0->tensorboard->detectron2==0.1.3) (1.24.3)\n",
            "Requirement already satisfied: chardet<4,>=3.0.2 in /usr/local/lib/python3.6/dist-packages (from requests<3,>=2.21.0->tensorboard->detectron2==0.1.3) (3.0.4)\n",
            "Requirement already satisfied: idna<3,>=2.5 in /usr/local/lib/python3.6/dist-packages (from requests<3,>=2.21.0->tensorboard->detectron2==0.1.3) (2.10)\n",
            "Requirement already satisfied: certifi>=2017.4.17 in /usr/local/lib/python3.6/dist-packages (from requests<3,>=2.21.0->tensorboard->detectron2==0.1.3) (2020.6.20)\n",
            "Requirement already satisfied: importlib-metadata; python_version < \"3.8\" in /usr/local/lib/python3.6/dist-packages (from markdown>=2.6.8->tensorboard->detectron2==0.1.3) (1.7.0)\n",
            "Requirement already satisfied: oauthlib>=3.0.0 in /usr/local/lib/python3.6/dist-packages (from requests-oauthlib>=0.7.0->google-auth-oauthlib<0.5,>=0.4.1->tensorboard->detectron2==0.1.3) (3.1.0)\n",
            "Requirement already satisfied: pyasn1<0.5.0,>=0.4.6 in /usr/local/lib/python3.6/dist-packages (from pyasn1-modules>=0.2.1->google-auth<2,>=1.6.3->tensorboard->detectron2==0.1.3) (0.4.8)\n",
            "Requirement already satisfied: zipp>=0.5 in /usr/local/lib/python3.6/dist-packages (from importlib-metadata; python_version < \"3.8\"->markdown>=2.6.8->tensorboard->detectron2==0.1.3) (3.1.0)\n"
          ],
          "name": "stdout"
        }
      ]
    },
    {
      "cell_type": "code",
      "metadata": {
        "id": "KpmjPcXmvJEq",
        "colab_type": "code",
        "colab": {}
      },
      "source": [
        "import numpy as np\n",
        "import pandas as pd\n",
        "import random\n",
        "\n",
        "import cv2\n",
        "from google.colab.patches import cv2_imshow\n",
        "from tqdm import tqdm \n"
      ],
      "execution_count": 3,
      "outputs": []
    },
    {
      "cell_type": "markdown",
      "metadata": {
        "id": "faDKnJes6Mjg",
        "colab_type": "text"
      },
      "source": [
        "## Access My Google Drive"
      ]
    },
    {
      "cell_type": "code",
      "metadata": {
        "id": "15sYsmr7o21C",
        "colab_type": "code",
        "colab": {
          "base_uri": "https://localhost:8080/",
          "height": 102
        },
        "outputId": "c453ea89-bdd9-41fe-8f2b-ef8c95809794"
      },
      "source": [
        "from google.colab import drive\n",
        "drive.mount('/gdrive')\n",
        "!ls '/gdrive/My Drive/VB/Video'"
      ],
      "execution_count": 4,
      "outputs": [
        {
          "output_type": "stream",
          "text": [
            "Drive already mounted at /gdrive; to attempt to forcibly remount, call drive.mount(\"/gdrive\", force_remount=True).\n",
            " Cheshire_Halasz_Perin.pdf   court-diagram-vertical.jpg   panopt.mp4\n",
            " Cheshire_Halasz_Perin.zip   demo.avi\t\t\t  people.mp4\n",
            " ckpt.t7\t\t    'MBVF M7 S3.mp4'\t\t  tracker.mp4\n",
            " court-diagram.jpg\t     OpenCV.ipynb\t\t  video-clip.mp4\n"
          ],
          "name": "stdout"
        }
      ]
    },
    {
      "cell_type": "markdown",
      "metadata": {
        "id": "6IhFURTO6Zq4",
        "colab_type": "text"
      },
      "source": [
        "##Install DeepSort"
      ]
    },
    {
      "cell_type": "code",
      "metadata": {
        "id": "i-k2ARVYZspv",
        "colab_type": "code",
        "colab": {
          "base_uri": "https://localhost:8080/",
          "height": 221
        },
        "outputId": "a5c6a66e-e8d9-469f-efc7-1ebc0c2f7792"
      },
      "source": [
        "!git clone --recurse-submodules https://github.com/sayef/detectron2-deepsort-pytorch.git\n",
        "!cp '/gdrive/My Drive/VB/Video/ckpt.t7' detectron2-deepsort-pytorch/deep_sort/deep/checkpoint/"
      ],
      "execution_count": 5,
      "outputs": [
        {
          "output_type": "stream",
          "text": [
            "Cloning into 'detectron2-deepsort-pytorch'...\n",
            "remote: Enumerating objects: 374, done.\u001b[K\n",
            "remote: Total 374 (delta 0), reused 0 (delta 0), pack-reused 374\u001b[K\n",
            "Receiving objects: 100% (374/374), 18.97 MiB | 28.40 MiB/s, done.\n",
            "Resolving deltas: 100% (183/183), done.\n",
            "Submodule 'detectron2' (https://github.com/facebookresearch/detectron2.git) registered for path 'detectron2'\n",
            "Cloning into '/content/detectron2-deepsort-pytorch/detectron2'...\n",
            "remote: Enumerating objects: 6065, done.        \n",
            "remote: Total 6065 (delta 0), reused 0 (delta 0), pack-reused 6065        \n",
            "Receiving objects: 100% (6065/6065), 2.77 MiB | 14.98 MiB/s, done.\n",
            "Resolving deltas: 100% (4407/4407), done.\n",
            "Submodule path 'detectron2': checked out 'eef3ab14c0777da7114e25689c703bb5d6094737'\n"
          ],
          "name": "stdout"
        }
      ]
    },
    {
      "cell_type": "code",
      "metadata": {
        "id": "-S0xBYPPB6I6",
        "colab_type": "code",
        "colab": {}
      },
      "source": [
        "!mv detectron2-deepsort-pytorch detectron2_deepsort_pytorch"
      ],
      "execution_count": 6,
      "outputs": []
    },
    {
      "cell_type": "markdown",
      "metadata": {
        "id": "1tqv1DC65yzB",
        "colab_type": "text"
      },
      "source": [
        "## Run the Detectron2-DeepSort Demo"
      ]
    },
    {
      "cell_type": "code",
      "metadata": {
        "id": "SAVTZoVkpOJs",
        "colab_type": "code",
        "colab": {}
      },
      "source": [
        "%cd detectron2-deepsort-pytorch\n",
        "!python demo_detectron2_deepsort.py '/gdrive/My Drive/VB/Video/video-clip.mp4' --ignore_display\n",
        "!cp demo.avi '/gdrive/My Drive/VB/Video'"
      ],
      "execution_count": null,
      "outputs": []
    },
    {
      "cell_type": "markdown",
      "metadata": {
        "id": "SBOgXgQJRlW2",
        "colab_type": "text"
      },
      "source": [
        "Flow of video processing:\n",
        "\n",
        "1. Iterate over video frames\n",
        "2. Detect objects in frame\n",
        "3. Identify players (people) inside court playing area\n",
        "4. Move player detection data into deep sort data structure\n",
        "5. Update deepsort algorithm\n",
        "6. Draw bbox on original frame\n",
        "7. Map bbox to player location on court diagram\n",
        "8. Insert court diagram into original frame\n",
        "9. Write new frame to output video file"
      ]
    },
    {
      "cell_type": "markdown",
      "metadata": {
        "id": "uz-i90NPtVc4",
        "colab_type": "text"
      },
      "source": [
        "## Create a detection class using Detectron2"
      ]
    },
    {
      "cell_type": "code",
      "metadata": {
        "id": "QCdpNNMP6ein",
        "colab_type": "code",
        "colab": {}
      },
      "source": [
        "# from detectron2.utils.logger import setup_logger\n",
        "# setup_logger()\n",
        "\n",
        "import detectron2\n",
        "from detectron2 import model_zoo\n",
        "from detectron2.engine import DefaultPredictor\n",
        "from detectron2.config import get_cfg\n",
        "\n",
        "\n",
        "class Detectron2:\n",
        "\n",
        "    def __init__(self):\n",
        "        self.cfg = get_cfg()\n",
        "        self.cfg.merge_from_file(model_zoo.get_config_file(\"COCO-InstanceSegmentation/mask_rcnn_R_50_FPN_3x.yaml\"))\n",
        "        self.cfg.MODEL.ROI_HEADS.SCORE_THRESH_TEST = 0.5  # set threshold for this model\n",
        "        self.cfg.MODEL.WEIGHTS = model_zoo.get_checkpoint_url(\"COCO-InstanceSegmentation/mask_rcnn_R_50_FPN_3x.yaml\")\n",
        "        self.predictor = DefaultPredictor(self.cfg)\n",
        "\n",
        "    def bbox(self, img):\n",
        "        rows = np.any(img, axis=1)\n",
        "        cols = np.any(img, axis=0)\n",
        "        rmin, rmax = np.where(rows)[0][[0, -1]]\n",
        "        cmin, cmax = np.where(cols)[0][[0, -1]]\n",
        "        return cmin, rmin, cmax, rmax\n",
        "\n",
        "    def detect(self, im):\n",
        "        outputs = self.predictor(im)\n",
        "        boxes = outputs[\"instances\"].pred_boxes.tensor.cpu().numpy()\n",
        "        classes = outputs[\"instances\"].pred_classes.cpu().numpy()\n",
        "        scores = outputs[\"instances\"].scores.cpu().numpy()\n",
        "\n",
        "        bbox_xcycwh, cls_conf, cls_ids = [], [], []\n",
        "\n",
        "        for (box, _class, score) in zip(boxes, classes, scores):\n",
        "\n",
        "            if _class == 0:\n",
        "                x0, y0, x1, y1 = box\n",
        "                bbox_xcycwh.append([(x1 + x0) / 2, (y1 + y0) / 2, (x1 - x0), (y1 - y0)])\n",
        "                cls_conf.append(score)\n",
        "                cls_ids.append(_class)\n",
        "\n",
        "        return np.array(bbox_xcycwh, dtype=np.float64), np.array(cls_conf), np.array(cls_ids)\n"
      ],
      "execution_count": 34,
      "outputs": []
    },
    {
      "cell_type": "markdown",
      "metadata": {
        "id": "fll4d8eEufJA",
        "colab_type": "text"
      },
      "source": [
        "## Create class for handling court geometries"
      ]
    },
    {
      "cell_type": "code",
      "metadata": {
        "id": "xTeqoPKRueF3",
        "colab_type": "code",
        "colab": {}
      },
      "source": [
        "from shapely.geometry import Point, Polygon\n",
        "\n",
        "class Court:\n",
        "    def __init__(self):\n",
        "\n",
        "        self.video_court = np.array([[[467, 249], [781, 242], \n",
        "                                      [1274, 588], [630, 656], [3, 619]]])\n",
        "        self.video_playing = Polygon(np.array([[426, 235], [824, 230], \n",
        "                                               [1272, 512], [1253, 714], \n",
        "                                               [9, 713], [15, 470]]))\n",
        "        self.diagram_court = np.array([[[100, 100], [400, 100], [400, 700], \n",
        "                                        [250, 700], [100, 700]]])\n",
        "        self.M = cv2.findHomography(self.video_court, self.diagram_court)[0]\n",
        "\n",
        "        self.court_diagram_file = '/gdrive/My Drive/VB/Video/court-diagram-vertical.jpg'\n",
        "\n",
        "        # defaults for drawing on video frames\n",
        "        self.font = cv2.FONT_HERSHEY_SIMPLEX\n",
        "        self.fontScale = 1\n",
        "\n",
        "\n",
        "        self.radius = 10\n",
        "        self.color = [255, 0, 0]   \n",
        "        self.thickness = 2\n",
        "\n",
        "\n",
        "\n",
        "    def draw_court(self, frame):\n",
        "         return cv2.polylines(frame, [self.video_court], isClosed=True, \n",
        "                              color=self.color, thickness=self.thickness)\n",
        "\n",
        "\n",
        "    def in_playing_area(self, bbox_xcycwh):\n",
        "\n",
        "        xc, yc, w, h = bbox_xcycwh\n",
        "        player_pos = (xc, yc + h/2)\n",
        "        return Point(player_pos).within(self.video_playing)\n",
        "\n",
        "    def map_pos_to_diagram(self, player_positions):\n",
        "\n",
        "        src_pts = np.array([player_positions.astype('float32')])\n",
        "        dst_pts = cv2.perspectiveTransform(src_pts, self.M)\n",
        "        return dst_pts.squeeze().astype('int')\n",
        "\n",
        "    def create_mini_map(self, court_positions, identities):\n",
        "        # player marker parameters\n",
        "\n",
        "        court_diagram = cv2.imread(self.court_diagram_file)\n",
        "\n",
        "        for pt, tag in zip(court_positions, identities):\n",
        "            # cv2.circle(court_diagram, tuple(pt), self.radius, \n",
        "            #           self.color, self.thickness)\n",
        "            cv2.putText(court_diagram, str(tag), tuple(pt), self.font, self.fontScale, \n",
        "                        self.color, self.thickness, cv2.LINE_AA)\n",
        "\n",
        "\n",
        "        mini_map = cv2.resize(court_diagram, (250, 400), interpolation = cv2.INTER_AREA)\n",
        "\n",
        "        return mini_map\n"
      ],
      "execution_count": 56,
      "outputs": []
    },
    {
      "cell_type": "markdown",
      "metadata": {
        "id": "hn_NWcBZ0H3h",
        "colab_type": "text"
      },
      "source": [
        "## Main Loop"
      ]
    },
    {
      "cell_type": "code",
      "metadata": {
        "id": "HEm-KKcZ0zm1",
        "colab_type": "code",
        "colab": {}
      },
      "source": [
        "# create a time log for rallys in video\n",
        "time_log = pd.DataFrame({'Rally': [1,2,3,4], \n",
        "                         'Start': pd.to_timedelta(['00:00:11', '00:00:33', '00:00:52','00:01:18']),\n",
        "                         'Length': pd.to_timedelta(['00:00:06', '00:00:08', '00:00:14','00:00:11'])\n",
        "                         })"
      ],
      "execution_count": 9,
      "outputs": []
    },
    {
      "cell_type": "code",
      "metadata": {
        "id": "cdzXlLFc8lOF",
        "colab_type": "code",
        "colab": {
          "base_uri": "https://localhost:8080/",
          "height": 34
        },
        "outputId": "c97ed4af-3a89-46d4-ccd9-a6bf108eb7ca"
      },
      "source": [
        "!ls"
      ],
      "execution_count": 36,
      "outputs": [
        {
          "output_type": "stream",
          "text": [
            "'=2.0.1'   detectron2_deepsort_pytorch\t sample_data\n"
          ],
          "name": "stdout"
        }
      ]
    },
    {
      "cell_type": "code",
      "metadata": {
        "id": "8na2BFlS0Joe",
        "colab_type": "code",
        "colab": {
          "base_uri": "https://localhost:8080/",
          "height": 105
        },
        "outputId": "35e627bf-f923-4069-e119-f87b7a2cceb6"
      },
      "source": [
        "import importlib  \n",
        "\n",
        "from detectron2_deepsort_pytorch.deep_sort import DeepSort\n",
        "from detectron2_deepsort_pytorch.util import draw_bboxes\n",
        "\n",
        "cap = cv2.VideoCapture('/gdrive/My Drive/VB/Video/MBVF M7 S3.mp4')\n",
        "width = int(cap.get(cv2.CAP_PROP_FRAME_WIDTH))\n",
        "height = int(cap.get(cv2.CAP_PROP_FRAME_HEIGHT))\n",
        "frames_per_second = cap.get(cv2.CAP_PROP_FPS)\n",
        "num_frames = int(cap.get(cv2.CAP_PROP_FRAME_COUNT))\n",
        "\n",
        "fourcc = cv2.VideoWriter_fourcc('M', 'P', '4', 'V')\n",
        "videoOut = cv2.VideoWriter('/gdrive/My Drive/VB/Video/tracker.mp4', fourcc,\n",
        "                           frames_per_second, (width, height))\n",
        "\n",
        "detectron2 = Detectron2()\n",
        "deepsort = DeepSort('detectron2_deepsort_pytorch/deep_sort/deep/checkpoint/ckpt.t7', use_cuda=True)\n",
        "court = Court()\n",
        "\n",
        "video_time = 0\n",
        "all_pos = []\n",
        "\n",
        "for _,rally in time_log.iterrows():\n",
        "\n",
        "    # skip to beginning of rally\n",
        "    skip_frames = int((rally['Start'].seconds - video_time) * frames_per_second)\n",
        "    for ix in range(skip_frames):\n",
        "        ret, frame = cap.read()\n",
        "        videoOut.write(frame)\n",
        "    video_time = rally['Start'].seconds\n",
        "\n",
        "    # process rally frames\n",
        "    rally_frames = int(rally['Length'].seconds * frames_per_second)\n",
        "    for ix in tqdm(range(rally_frames)):\n",
        "        ret, frame = cap.read()\n",
        "        bbox_xcycwh, cls_conf, cls_ids = detectron2.detect(frame)\n",
        "\n",
        "        # add the court outline\n",
        "        frame_poly = court.draw_court(frame)\n",
        "\n",
        "        # find detection indicies of players\n",
        "        players_ix = [ix for ix, bbox in enumerate(bbox_xcycwh) if court.in_playing_area(bbox)]\n",
        "\n",
        "        # limit detections to players\n",
        "        player_xcycwh = bbox_xcycwh[players_ix, :]\n",
        "        # player_xcycwh[:, 3:] *= 1.2\n",
        "        player_conf = cls_conf[players_ix]\n",
        "\n",
        "        outputs = deepsort.update(player_xcycwh, player_conf, frame)\n",
        "        if len(outputs) > 0:\n",
        "            bbox_xyxy = outputs[:, :4]\n",
        "            identities = outputs[:, -1]\n",
        "            frame_poly = draw_bboxes(frame_poly, bbox_xyxy, identities)\n",
        "\n",
        "\n",
        "            # create the min map\n",
        "            video_pos = np.array([[(x1+x2)/2, y2] for x1, y1, x2, y2 in bbox_xyxy])\n",
        "            diagram_pos = court.map_pos_to_diagram(video_pos)\n",
        "            miniMap = court.create_mini_map(diagram_pos, identities)\n",
        "\n",
        "            # all_pos.extend(player_pos)\n",
        "\n",
        "\n",
        "            #insert mini map into frame\n",
        "            (w,h,c) = miniMap.shape\n",
        "            frame_poly[0:w, 0:h, :] = miniMap\n",
        "\n",
        "        videoOut.write(frame_poly)\n",
        "\n",
        "    video_time += rally['Length'].seconds\n",
        "\n",
        "videoOut.release()\n",
        "cap.release()\n",
        "\n",
        "# print(all_pos)"
      ],
      "execution_count": 57,
      "outputs": [
        {
          "output_type": "stream",
          "text": [
            "Loading weights from detectron2_deepsort_pytorch/deep_sort/deep/checkpoint/ckpt.t7... Done!\n"
          ],
          "name": "stdout"
        },
        {
          "output_type": "stream",
          "text": [
            "100%|██████████| 168/168 [01:25<00:00,  1.97it/s]\n",
            "100%|██████████| 224/224 [01:56<00:00,  1.93it/s]\n",
            "100%|██████████| 393/393 [03:24<00:00,  1.92it/s]\n",
            "100%|██████████| 309/309 [02:40<00:00,  1.93it/s]\n"
          ],
          "name": "stderr"
        }
      ]
    }
  ]
}